{
 "cells": [
  {
   "cell_type": "code",
   "execution_count": 1,
   "id": "fb7b256e",
   "metadata": {},
   "outputs": [],
   "source": [
    "import numpy as np\n",
    "import pandas as pd\n",
    "import glob\n",
    "import os\n",
    "os.getcwd()\n",
    "os.chdir('/project/time_series')\n",
    "from load_data_custom import load_data_using_multi_process\n",
    "os.chdir('/project/time_series/cchc0427')\n",
    "from lightgbm import LGBMClassifier\n",
    "from sklearn.model_selection import train_test_split\n",
    "from model import model_lgbm\n",
    "from sklearn.metrics import accuracy_score, f1_score, roc_auc_score, precision_score, recall_score\n",
    "import lazy_loader as lazy\n",
    "samplerate = lazy.load(\"samplerate\")\n",
    "resampy = lazy.load(\"resampy\")\n"
   ]
  },
  {
   "cell_type": "code",
   "execution_count": 10,
   "id": "3acb090d",
   "metadata": {},
   "outputs": [
    {
     "name": "stdout",
     "output_type": "stream",
     "text": [
      "1418 + 1418 + 1418 = 4254\n"
     ]
    }
   ],
   "source": [
    "import glob\n",
    "fan_path = '/data/time_series/fan'\n",
    "\n",
    "fan_files0_id00 = glob.glob(fan_path + '/0/id_00/*/*')\n",
    "fan_files6_id00 = glob.glob(fan_path + '/6/id_00/*/*')\n",
    "fan_files_6_id00 = glob.glob( fan_path + '/_6/id_00/*/*')\n",
    "fan_file = fan_files0_id00 + fan_files6_id00 + fan_files_6_id00\n",
    "print(f'{len(fan_files0_id00)} + {len(fan_files6_id00)} + {len(fan_files_6_id00)} = {len(fan_file)}')"
   ]
  },
  {
   "cell_type": "code",
   "execution_count": 23,
   "id": "8e1d8508",
   "metadata": {},
   "outputs": [
    {
     "data": {
      "text/plain": [
       "[40,\n",
       " 50,\n",
       " 64,\n",
       " 80,\n",
       " 100,\n",
       " 125,\n",
       " 128,\n",
       " 160,\n",
       " 200,\n",
       " 250,\n",
       " 320,\n",
       " 400,\n",
       " 500,\n",
       " 640,\n",
       " 800,\n",
       " 1000,\n",
       " 1600,\n",
       " 2000,\n",
       " 3200,\n",
       " 4000,\n",
       " 8000,\n",
       " 10000,\n",
       " 13000]"
      ]
     },
     "execution_count": 23,
     "metadata": {},
     "output_type": "execute_result"
    }
   ],
   "source": [
    "target_lst = []\n",
    "for i in range(1, 16001):\n",
    "    if ( i < 40 ) or ( i > 13000):\n",
    "        continue\n",
    "    if 16000 % i == 0 :\n",
    "        target_lst.append(i)\n",
    "\n",
    "target_lst.append(10000)\n",
    "target_lst.append(13000)\n",
    "target_lst"
   ]
  },
  {
   "cell_type": "markdown",
   "id": "0ff68e74",
   "metadata": {},
   "source": [
    "# id00"
   ]
  },
  {
   "cell_type": "code",
   "execution_count": 24,
   "id": "95d67453",
   "metadata": {},
   "outputs": [
    {
     "name": "stdout",
     "output_type": "stream",
     "text": [
      "40로 진행중입니다.\n",
      "\n",
      "멀티 프로세싱을 시작합니다. 현재 코어 30개 사용 중. \n",
      "1.다른 사람과 동시에 돌리지 마세요.\n",
      "2.함부로 진행중에 중단 하지마세요.\n",
      "--- 걸린시간: 16.72132420539856 ---\n",
      "normal : 3033\n",
      "abnormal : 1221\n",
      "scale_pos_weight is 2.48.\n",
      "Model is ready to running.\n"
     ]
    },
    {
     "name": "stderr",
     "output_type": "stream",
     "text": [
      "/package/anaconda3.8/lib/python3.8/site-packages/lightgbm/engine.py:177: UserWarning: Found `num_iterations` in params. Will use it instead of argument\n",
      "  _log_warning(f\"Found `{alias}` in params. Will use it instead of argument\")\n"
     ]
    },
    {
     "name": "stdout",
     "output_type": "stream",
     "text": [
      "50로 진행중입니다.\n",
      "\n",
      "멀티 프로세싱을 시작합니다. 현재 코어 30개 사용 중. \n",
      "1.다른 사람과 동시에 돌리지 마세요.\n",
      "2.함부로 진행중에 중단 하지마세요.\n",
      "--- 걸린시간: 14.268286228179932 ---\n",
      "normal : 3033\n",
      "abnormal : 1221\n",
      "scale_pos_weight is 2.48.\n",
      "Model is ready to running.\n"
     ]
    },
    {
     "name": "stderr",
     "output_type": "stream",
     "text": [
      "/package/anaconda3.8/lib/python3.8/site-packages/lightgbm/engine.py:177: UserWarning: Found `num_iterations` in params. Will use it instead of argument\n",
      "  _log_warning(f\"Found `{alias}` in params. Will use it instead of argument\")\n"
     ]
    },
    {
     "name": "stdout",
     "output_type": "stream",
     "text": [
      "64로 진행중입니다.\n",
      "\n",
      "멀티 프로세싱을 시작합니다. 현재 코어 30개 사용 중. \n",
      "1.다른 사람과 동시에 돌리지 마세요.\n",
      "2.함부로 진행중에 중단 하지마세요.\n",
      "--- 걸린시간: 14.957135200500488 ---\n",
      "normal : 3033\n",
      "abnormal : 1221\n",
      "scale_pos_weight is 2.48.\n",
      "Model is ready to running.\n"
     ]
    },
    {
     "name": "stderr",
     "output_type": "stream",
     "text": [
      "/package/anaconda3.8/lib/python3.8/site-packages/lightgbm/engine.py:177: UserWarning: Found `num_iterations` in params. Will use it instead of argument\n",
      "  _log_warning(f\"Found `{alias}` in params. Will use it instead of argument\")\n"
     ]
    },
    {
     "name": "stdout",
     "output_type": "stream",
     "text": [
      "80로 진행중입니다.\n",
      "\n",
      "멀티 프로세싱을 시작합니다. 현재 코어 30개 사용 중. \n",
      "1.다른 사람과 동시에 돌리지 마세요.\n",
      "2.함부로 진행중에 중단 하지마세요.\n",
      "--- 걸린시간: 14.129694700241089 ---\n",
      "normal : 3033\n",
      "abnormal : 1221\n",
      "scale_pos_weight is 2.48.\n",
      "Model is ready to running.\n"
     ]
    },
    {
     "name": "stderr",
     "output_type": "stream",
     "text": [
      "/package/anaconda3.8/lib/python3.8/site-packages/lightgbm/engine.py:177: UserWarning: Found `num_iterations` in params. Will use it instead of argument\n",
      "  _log_warning(f\"Found `{alias}` in params. Will use it instead of argument\")\n"
     ]
    },
    {
     "name": "stdout",
     "output_type": "stream",
     "text": [
      "100로 진행중입니다.\n",
      "\n",
      "멀티 프로세싱을 시작합니다. 현재 코어 30개 사용 중. \n",
      "1.다른 사람과 동시에 돌리지 마세요.\n",
      "2.함부로 진행중에 중단 하지마세요.\n",
      "--- 걸린시간: 13.901270866394043 ---\n",
      "normal : 3033\n",
      "abnormal : 1221\n",
      "scale_pos_weight is 2.48.\n",
      "Model is ready to running.\n"
     ]
    },
    {
     "name": "stderr",
     "output_type": "stream",
     "text": [
      "/package/anaconda3.8/lib/python3.8/site-packages/lightgbm/engine.py:177: UserWarning: Found `num_iterations` in params. Will use it instead of argument\n",
      "  _log_warning(f\"Found `{alias}` in params. Will use it instead of argument\")\n"
     ]
    },
    {
     "name": "stdout",
     "output_type": "stream",
     "text": [
      "125로 진행중입니다.\n",
      "\n",
      "멀티 프로세싱을 시작합니다. 현재 코어 30개 사용 중. \n",
      "1.다른 사람과 동시에 돌리지 마세요.\n",
      "2.함부로 진행중에 중단 하지마세요.\n",
      "--- 걸린시간: 14.3652503490448 ---\n",
      "normal : 3033\n",
      "abnormal : 1221\n",
      "scale_pos_weight is 2.48.\n",
      "Model is ready to running.\n"
     ]
    },
    {
     "name": "stderr",
     "output_type": "stream",
     "text": [
      "/package/anaconda3.8/lib/python3.8/site-packages/lightgbm/engine.py:177: UserWarning: Found `num_iterations` in params. Will use it instead of argument\n",
      "  _log_warning(f\"Found `{alias}` in params. Will use it instead of argument\")\n"
     ]
    },
    {
     "name": "stdout",
     "output_type": "stream",
     "text": [
      "128로 진행중입니다.\n",
      "\n",
      "멀티 프로세싱을 시작합니다. 현재 코어 30개 사용 중. \n",
      "1.다른 사람과 동시에 돌리지 마세요.\n",
      "2.함부로 진행중에 중단 하지마세요.\n",
      "--- 걸린시간: 13.850527286529541 ---\n",
      "normal : 3033\n",
      "abnormal : 1221\n",
      "scale_pos_weight is 2.48.\n",
      "Model is ready to running.\n"
     ]
    },
    {
     "name": "stderr",
     "output_type": "stream",
     "text": [
      "/package/anaconda3.8/lib/python3.8/site-packages/lightgbm/engine.py:177: UserWarning: Found `num_iterations` in params. Will use it instead of argument\n",
      "  _log_warning(f\"Found `{alias}` in params. Will use it instead of argument\")\n"
     ]
    },
    {
     "name": "stdout",
     "output_type": "stream",
     "text": [
      "160로 진행중입니다.\n",
      "\n",
      "멀티 프로세싱을 시작합니다. 현재 코어 30개 사용 중. \n",
      "1.다른 사람과 동시에 돌리지 마세요.\n",
      "2.함부로 진행중에 중단 하지마세요.\n",
      "--- 걸린시간: 14.101449728012085 ---\n",
      "normal : 3033\n",
      "abnormal : 1221\n",
      "scale_pos_weight is 2.48.\n",
      "Model is ready to running.\n"
     ]
    },
    {
     "name": "stderr",
     "output_type": "stream",
     "text": [
      "/package/anaconda3.8/lib/python3.8/site-packages/lightgbm/engine.py:177: UserWarning: Found `num_iterations` in params. Will use it instead of argument\n",
      "  _log_warning(f\"Found `{alias}` in params. Will use it instead of argument\")\n"
     ]
    },
    {
     "name": "stdout",
     "output_type": "stream",
     "text": [
      "200로 진행중입니다.\n",
      "\n",
      "멀티 프로세싱을 시작합니다. 현재 코어 30개 사용 중. \n",
      "1.다른 사람과 동시에 돌리지 마세요.\n",
      "2.함부로 진행중에 중단 하지마세요.\n",
      "--- 걸린시간: 13.690181493759155 ---\n",
      "normal : 3033\n",
      "abnormal : 1221\n",
      "scale_pos_weight is 2.48.\n",
      "Model is ready to running.\n"
     ]
    },
    {
     "name": "stderr",
     "output_type": "stream",
     "text": [
      "/package/anaconda3.8/lib/python3.8/site-packages/lightgbm/engine.py:177: UserWarning: Found `num_iterations` in params. Will use it instead of argument\n",
      "  _log_warning(f\"Found `{alias}` in params. Will use it instead of argument\")\n"
     ]
    },
    {
     "name": "stdout",
     "output_type": "stream",
     "text": [
      "250로 진행중입니다.\n",
      "\n",
      "멀티 프로세싱을 시작합니다. 현재 코어 30개 사용 중. \n",
      "1.다른 사람과 동시에 돌리지 마세요.\n",
      "2.함부로 진행중에 중단 하지마세요.\n",
      "--- 걸린시간: 14.707422971725464 ---\n",
      "normal : 3033\n",
      "abnormal : 1221\n",
      "scale_pos_weight is 2.48.\n",
      "Model is ready to running.\n"
     ]
    },
    {
     "name": "stderr",
     "output_type": "stream",
     "text": [
      "/package/anaconda3.8/lib/python3.8/site-packages/lightgbm/engine.py:177: UserWarning: Found `num_iterations` in params. Will use it instead of argument\n",
      "  _log_warning(f\"Found `{alias}` in params. Will use it instead of argument\")\n"
     ]
    },
    {
     "name": "stdout",
     "output_type": "stream",
     "text": [
      "320로 진행중입니다.\n",
      "\n",
      "멀티 프로세싱을 시작합니다. 현재 코어 30개 사용 중. \n",
      "1.다른 사람과 동시에 돌리지 마세요.\n",
      "2.함부로 진행중에 중단 하지마세요.\n",
      "--- 걸린시간: 13.710136651992798 ---\n",
      "normal : 3033\n",
      "abnormal : 1221\n",
      "scale_pos_weight is 2.48.\n",
      "Model is ready to running.\n"
     ]
    },
    {
     "name": "stderr",
     "output_type": "stream",
     "text": [
      "/package/anaconda3.8/lib/python3.8/site-packages/lightgbm/engine.py:177: UserWarning: Found `num_iterations` in params. Will use it instead of argument\n",
      "  _log_warning(f\"Found `{alias}` in params. Will use it instead of argument\")\n"
     ]
    },
    {
     "name": "stdout",
     "output_type": "stream",
     "text": [
      "400로 진행중입니다.\n",
      "\n",
      "멀티 프로세싱을 시작합니다. 현재 코어 30개 사용 중. \n",
      "1.다른 사람과 동시에 돌리지 마세요.\n",
      "2.함부로 진행중에 중단 하지마세요.\n",
      "--- 걸린시간: 13.774917602539062 ---\n",
      "normal : 3033\n",
      "abnormal : 1221\n",
      "scale_pos_weight is 2.48.\n",
      "Model is ready to running.\n"
     ]
    },
    {
     "name": "stderr",
     "output_type": "stream",
     "text": [
      "/package/anaconda3.8/lib/python3.8/site-packages/lightgbm/engine.py:177: UserWarning: Found `num_iterations` in params. Will use it instead of argument\n",
      "  _log_warning(f\"Found `{alias}` in params. Will use it instead of argument\")\n"
     ]
    },
    {
     "name": "stdout",
     "output_type": "stream",
     "text": [
      "500로 진행중입니다.\n",
      "\n",
      "멀티 프로세싱을 시작합니다. 현재 코어 30개 사용 중. \n",
      "1.다른 사람과 동시에 돌리지 마세요.\n",
      "2.함부로 진행중에 중단 하지마세요.\n",
      "--- 걸린시간: 15.368196487426758 ---\n",
      "normal : 3033\n",
      "abnormal : 1221\n",
      "scale_pos_weight is 2.48.\n",
      "Model is ready to running.\n"
     ]
    },
    {
     "name": "stderr",
     "output_type": "stream",
     "text": [
      "/package/anaconda3.8/lib/python3.8/site-packages/lightgbm/engine.py:177: UserWarning: Found `num_iterations` in params. Will use it instead of argument\n",
      "  _log_warning(f\"Found `{alias}` in params. Will use it instead of argument\")\n"
     ]
    },
    {
     "name": "stdout",
     "output_type": "stream",
     "text": [
      "640로 진행중입니다.\n",
      "\n",
      "멀티 프로세싱을 시작합니다. 현재 코어 30개 사용 중. \n",
      "1.다른 사람과 동시에 돌리지 마세요.\n",
      "2.함부로 진행중에 중단 하지마세요.\n",
      "--- 걸린시간: 13.688298225402832 ---\n",
      "normal : 3033\n",
      "abnormal : 1221\n",
      "scale_pos_weight is 2.48.\n",
      "Model is ready to running.\n"
     ]
    },
    {
     "name": "stderr",
     "output_type": "stream",
     "text": [
      "/package/anaconda3.8/lib/python3.8/site-packages/lightgbm/engine.py:177: UserWarning: Found `num_iterations` in params. Will use it instead of argument\n",
      "  _log_warning(f\"Found `{alias}` in params. Will use it instead of argument\")\n"
     ]
    },
    {
     "name": "stdout",
     "output_type": "stream",
     "text": [
      "800로 진행중입니다.\n",
      "\n",
      "멀티 프로세싱을 시작합니다. 현재 코어 30개 사용 중. \n",
      "1.다른 사람과 동시에 돌리지 마세요.\n",
      "2.함부로 진행중에 중단 하지마세요.\n",
      "--- 걸린시간: 13.47709059715271 ---\n",
      "normal : 3033\n",
      "abnormal : 1221\n",
      "scale_pos_weight is 2.48.\n",
      "Model is ready to running.\n"
     ]
    },
    {
     "name": "stderr",
     "output_type": "stream",
     "text": [
      "/package/anaconda3.8/lib/python3.8/site-packages/lightgbm/engine.py:177: UserWarning: Found `num_iterations` in params. Will use it instead of argument\n",
      "  _log_warning(f\"Found `{alias}` in params. Will use it instead of argument\")\n"
     ]
    },
    {
     "name": "stdout",
     "output_type": "stream",
     "text": [
      "1000로 진행중입니다.\n",
      "\n",
      "멀티 프로세싱을 시작합니다. 현재 코어 30개 사용 중. \n",
      "1.다른 사람과 동시에 돌리지 마세요.\n",
      "2.함부로 진행중에 중단 하지마세요.\n",
      "--- 걸린시간: 16.731993675231934 ---\n",
      "normal : 3033\n",
      "abnormal : 1221\n",
      "scale_pos_weight is 2.48.\n",
      "Model is ready to running.\n"
     ]
    },
    {
     "name": "stderr",
     "output_type": "stream",
     "text": [
      "/package/anaconda3.8/lib/python3.8/site-packages/lightgbm/engine.py:177: UserWarning: Found `num_iterations` in params. Will use it instead of argument\n",
      "  _log_warning(f\"Found `{alias}` in params. Will use it instead of argument\")\n"
     ]
    },
    {
     "name": "stdout",
     "output_type": "stream",
     "text": [
      "1600로 진행중입니다.\n",
      "\n",
      "멀티 프로세싱을 시작합니다. 현재 코어 30개 사용 중. \n",
      "1.다른 사람과 동시에 돌리지 마세요.\n",
      "2.함부로 진행중에 중단 하지마세요.\n",
      "--- 걸린시간: 13.770259618759155 ---\n",
      "normal : 3033\n",
      "abnormal : 1221\n",
      "scale_pos_weight is 2.48.\n",
      "Model is ready to running.\n"
     ]
    },
    {
     "name": "stderr",
     "output_type": "stream",
     "text": [
      "/package/anaconda3.8/lib/python3.8/site-packages/lightgbm/engine.py:177: UserWarning: Found `num_iterations` in params. Will use it instead of argument\n",
      "  _log_warning(f\"Found `{alias}` in params. Will use it instead of argument\")\n"
     ]
    },
    {
     "name": "stdout",
     "output_type": "stream",
     "text": [
      "2000로 진행중입니다.\n",
      "\n",
      "멀티 프로세싱을 시작합니다. 현재 코어 30개 사용 중. \n",
      "1.다른 사람과 동시에 돌리지 마세요.\n",
      "2.함부로 진행중에 중단 하지마세요.\n",
      "--- 걸린시간: 16.525307655334473 ---\n",
      "normal : 3033\n",
      "abnormal : 1221\n",
      "scale_pos_weight is 2.48.\n",
      "Model is ready to running.\n"
     ]
    },
    {
     "name": "stderr",
     "output_type": "stream",
     "text": [
      "/package/anaconda3.8/lib/python3.8/site-packages/lightgbm/engine.py:177: UserWarning: Found `num_iterations` in params. Will use it instead of argument\n",
      "  _log_warning(f\"Found `{alias}` in params. Will use it instead of argument\")\n"
     ]
    },
    {
     "name": "stdout",
     "output_type": "stream",
     "text": [
      "3200로 진행중입니다.\n",
      "\n",
      "멀티 프로세싱을 시작합니다. 현재 코어 30개 사용 중. \n",
      "1.다른 사람과 동시에 돌리지 마세요.\n",
      "2.함부로 진행중에 중단 하지마세요.\n",
      "--- 걸린시간: 14.171233415603638 ---\n",
      "normal : 3033\n",
      "abnormal : 1221\n",
      "scale_pos_weight is 2.48.\n",
      "Model is ready to running.\n"
     ]
    },
    {
     "name": "stderr",
     "output_type": "stream",
     "text": [
      "/package/anaconda3.8/lib/python3.8/site-packages/lightgbm/engine.py:177: UserWarning: Found `num_iterations` in params. Will use it instead of argument\n",
      "  _log_warning(f\"Found `{alias}` in params. Will use it instead of argument\")\n"
     ]
    },
    {
     "name": "stdout",
     "output_type": "stream",
     "text": [
      "4000로 진행중입니다.\n",
      "\n",
      "멀티 프로세싱을 시작합니다. 현재 코어 30개 사용 중. \n",
      "1.다른 사람과 동시에 돌리지 마세요.\n",
      "2.함부로 진행중에 중단 하지마세요.\n",
      "--- 걸린시간: 17.125832557678223 ---\n",
      "normal : 3033\n",
      "abnormal : 1221\n",
      "scale_pos_weight is 2.48.\n",
      "Model is ready to running.\n"
     ]
    },
    {
     "name": "stderr",
     "output_type": "stream",
     "text": [
      "/package/anaconda3.8/lib/python3.8/site-packages/lightgbm/engine.py:177: UserWarning: Found `num_iterations` in params. Will use it instead of argument\n",
      "  _log_warning(f\"Found `{alias}` in params. Will use it instead of argument\")\n"
     ]
    },
    {
     "name": "stdout",
     "output_type": "stream",
     "text": [
      "8000로 진행중입니다.\n",
      "\n",
      "멀티 프로세싱을 시작합니다. 현재 코어 30개 사용 중. \n",
      "1.다른 사람과 동시에 돌리지 마세요.\n",
      "2.함부로 진행중에 중단 하지마세요.\n",
      "--- 걸린시간: 18.00006890296936 ---\n",
      "normal : 3033\n",
      "abnormal : 1221\n",
      "scale_pos_weight is 2.48.\n",
      "Model is ready to running.\n"
     ]
    },
    {
     "name": "stderr",
     "output_type": "stream",
     "text": [
      "/package/anaconda3.8/lib/python3.8/site-packages/lightgbm/engine.py:177: UserWarning: Found `num_iterations` in params. Will use it instead of argument\n",
      "  _log_warning(f\"Found `{alias}` in params. Will use it instead of argument\")\n"
     ]
    },
    {
     "name": "stdout",
     "output_type": "stream",
     "text": [
      "10000로 진행중입니다.\n",
      "\n",
      "멀티 프로세싱을 시작합니다. 현재 코어 30개 사용 중. \n",
      "1.다른 사람과 동시에 돌리지 마세요.\n",
      "2.함부로 진행중에 중단 하지마세요.\n",
      "--- 걸린시간: 19.821893453598022 ---\n",
      "normal : 3033\n",
      "abnormal : 1221\n",
      "scale_pos_weight is 2.48.\n",
      "Model is ready to running.\n"
     ]
    },
    {
     "name": "stderr",
     "output_type": "stream",
     "text": [
      "/package/anaconda3.8/lib/python3.8/site-packages/lightgbm/engine.py:177: UserWarning: Found `num_iterations` in params. Will use it instead of argument\n",
      "  _log_warning(f\"Found `{alias}` in params. Will use it instead of argument\")\n"
     ]
    },
    {
     "name": "stdout",
     "output_type": "stream",
     "text": [
      "13000로 진행중입니다.\n",
      "\n",
      "멀티 프로세싱을 시작합니다. 현재 코어 30개 사용 중. \n",
      "1.다른 사람과 동시에 돌리지 마세요.\n",
      "2.함부로 진행중에 중단 하지마세요.\n",
      "--- 걸린시간: 18.098485469818115 ---\n",
      "normal : 3033\n",
      "abnormal : 1221\n",
      "scale_pos_weight is 2.48.\n",
      "Model is ready to running.\n"
     ]
    },
    {
     "name": "stderr",
     "output_type": "stream",
     "text": [
      "/package/anaconda3.8/lib/python3.8/site-packages/lightgbm/engine.py:177: UserWarning: Found `num_iterations` in params. Will use it instead of argument\n",
      "  _log_warning(f\"Found `{alias}` in params. Will use it instead of argument\")\n"
     ]
    }
   ],
   "source": [
    "result = []\n",
    "\n",
    "for target_sr in target_lst:\n",
    "    print(f'{target_sr}로 진행중입니다.')\n",
    "    fan_result = load_data_using_multi_process(fan_files, sr = 16000, target_sr = target_sr, res_type = 'kaiser_best') # 데이터 target_sr로 부르기\n",
    "    \n",
    "    # librosa.resample하게되면 shape이 ( file수, 1, column수 ) squeeze함수는 shape에서 1인부분 제거 1의의미 모르겠음\n",
    "    #fan_squeeze_result = np.squeeze(fan_result) \n",
    "    \n",
    "    fan_result_df = pd.DataFrame(fan_result)\n",
    "    \n",
    "    data = fan_result_df.iloc[:, :-1]\n",
    "    target = fan_result_df.iloc[:, -1]\n",
    "    \n",
    "    X_train, X_test, y_train, y_test = train_test_split(data, target, test_size=0.2, shuffle=True, stratify=target, random_state=42)\n",
    "    \n",
    "    model = model_lgbm(fan_result_df) # using (model.py)\n",
    "    \n",
    "    model.fit(X_train, y_train)\n",
    "\n",
    "    y_pred = model.predict(X_test)\n",
    "    y_pred_prob = model.predict_proba(X_test)\n",
    "    \n",
    "    acc = accuracy_score(y_test, y_pred) \n",
    "    recall = recall_score(y_test, y_pred)\n",
    "    precision = precision_score(y_test, y_pred)\n",
    "    f1 = f1_score(y_test, y_pred)    \n",
    "    auc_score = roc_auc_score(y_test, y_pred_prob[ :, 1 ])\n",
    "    \n",
    "    result.append([ target_sr, round(acc, 3) ,round(recall, 3), round(precision, 3), round(f1, 3), round(auc_score, 3) ])\n",
    "\n",
    "result_df = pd.DataFrame(result, columns = [ 'target_sr', 'acc', 'recall', 'precision', 'f1', 'auc_score'])\n",
    "result_df.to_csv('/project/time_series/cchc0427/id_num2/fan_target_sr_id00.csv', index = False)\n"
   ]
  },
  {
   "cell_type": "code",
   "execution_count": 11,
   "id": "e9cf2359",
   "metadata": {},
   "outputs": [
    {
     "name": "stdout",
     "output_type": "stream",
     "text": [
      "abs_max(our_custom)로 진행중입니다.\n",
      "\n",
      "멀티 프로세싱을 시작합니다. 현재 코어 30개 사용 중. \n",
      "1.다른 사람과 동시에 돌리지 마세요.\n",
      "2.함부로 진행중에 중단 하지마세요.\n",
      "--- 걸린시간: 7.409472465515137 ---\n",
      "normal : 3033\n",
      "abnormal : 1221\n",
      "scale_pos_weight is 2.48.\n",
      "Model is ready to running.\n"
     ]
    },
    {
     "name": "stderr",
     "output_type": "stream",
     "text": [
      "/package/anaconda3.8/lib/python3.8/site-packages/lightgbm/engine.py:177: UserWarning: Found `num_iterations` in params. Will use it instead of argument\n",
      "  _log_warning(f\"Found `{alias}` in params. Will use it instead of argument\")\n"
     ]
    },
    {
     "name": "stdout",
     "output_type": "stream",
     "text": [
      "kaiser_best로 진행중입니다.\n",
      "\n",
      "멀티 프로세싱을 시작합니다. 현재 코어 30개 사용 중. \n",
      "1.다른 사람과 동시에 돌리지 마세요.\n",
      "2.함부로 진행중에 중단 하지마세요.\n",
      "--- 걸린시간: 12.401607275009155 ---\n",
      "normal : 3033\n",
      "abnormal : 1221\n",
      "scale_pos_weight is 2.48.\n",
      "Model is ready to running.\n"
     ]
    },
    {
     "name": "stderr",
     "output_type": "stream",
     "text": [
      "/package/anaconda3.8/lib/python3.8/site-packages/lightgbm/engine.py:177: UserWarning: Found `num_iterations` in params. Will use it instead of argument\n",
      "  _log_warning(f\"Found `{alias}` in params. Will use it instead of argument\")\n"
     ]
    },
    {
     "name": "stdout",
     "output_type": "stream",
     "text": [
      "kaiser_fast로 진행중입니다.\n",
      "\n",
      "멀티 프로세싱을 시작합니다. 현재 코어 30개 사용 중. \n",
      "1.다른 사람과 동시에 돌리지 마세요.\n",
      "2.함부로 진행중에 중단 하지마세요.\n",
      "--- 걸린시간: 4.98632287979126 ---\n",
      "normal : 3033\n",
      "abnormal : 1221\n",
      "scale_pos_weight is 2.48.\n",
      "Model is ready to running.\n"
     ]
    },
    {
     "name": "stderr",
     "output_type": "stream",
     "text": [
      "/package/anaconda3.8/lib/python3.8/site-packages/lightgbm/engine.py:177: UserWarning: Found `num_iterations` in params. Will use it instead of argument\n",
      "  _log_warning(f\"Found `{alias}` in params. Will use it instead of argument\")\n"
     ]
    },
    {
     "name": "stdout",
     "output_type": "stream",
     "text": [
      "fft로 진행중입니다.\n",
      "\n",
      "멀티 프로세싱을 시작합니다. 현재 코어 30개 사용 중. \n",
      "1.다른 사람과 동시에 돌리지 마세요.\n",
      "2.함부로 진행중에 중단 하지마세요.\n",
      "--- 걸린시간: 2.100587844848633 ---\n",
      "normal : 3033\n",
      "abnormal : 1221\n",
      "scale_pos_weight is 2.48.\n",
      "Model is ready to running.\n"
     ]
    },
    {
     "name": "stderr",
     "output_type": "stream",
     "text": [
      "/package/anaconda3.8/lib/python3.8/site-packages/lightgbm/engine.py:177: UserWarning: Found `num_iterations` in params. Will use it instead of argument\n",
      "  _log_warning(f\"Found `{alias}` in params. Will use it instead of argument\")\n"
     ]
    },
    {
     "name": "stdout",
     "output_type": "stream",
     "text": [
      "scipy로 진행중입니다.\n",
      "\n",
      "멀티 프로세싱을 시작합니다. 현재 코어 30개 사용 중. \n",
      "1.다른 사람과 동시에 돌리지 마세요.\n",
      "2.함부로 진행중에 중단 하지마세요.\n",
      "--- 걸린시간: 2.2986700534820557 ---\n",
      "normal : 3033\n",
      "abnormal : 1221\n",
      "scale_pos_weight is 2.48.\n",
      "Model is ready to running.\n"
     ]
    },
    {
     "name": "stderr",
     "output_type": "stream",
     "text": [
      "/package/anaconda3.8/lib/python3.8/site-packages/lightgbm/engine.py:177: UserWarning: Found `num_iterations` in params. Will use it instead of argument\n",
      "  _log_warning(f\"Found `{alias}` in params. Will use it instead of argument\")\n"
     ]
    },
    {
     "name": "stdout",
     "output_type": "stream",
     "text": [
      "polyphase로 진행중입니다.\n",
      "\n",
      "멀티 프로세싱을 시작합니다. 현재 코어 30개 사용 중. \n",
      "1.다른 사람과 동시에 돌리지 마세요.\n",
      "2.함부로 진행중에 중단 하지마세요.\n",
      "--- 걸린시간: 2.582017421722412 ---\n",
      "normal : 3033\n",
      "abnormal : 1221\n",
      "scale_pos_weight is 2.48.\n",
      "Model is ready to running.\n"
     ]
    },
    {
     "name": "stderr",
     "output_type": "stream",
     "text": [
      "/package/anaconda3.8/lib/python3.8/site-packages/lightgbm/engine.py:177: UserWarning: Found `num_iterations` in params. Will use it instead of argument\n",
      "  _log_warning(f\"Found `{alias}` in params. Will use it instead of argument\")\n"
     ]
    },
    {
     "name": "stdout",
     "output_type": "stream",
     "text": [
      "linear로 진행중입니다.\n",
      "\n",
      "멀티 프로세싱을 시작합니다. 현재 코어 30개 사용 중. \n",
      "1.다른 사람과 동시에 돌리지 마세요.\n",
      "2.함부로 진행중에 중단 하지마세요.\n",
      "--- 걸린시간: 2.107809543609619 ---\n",
      "normal : 3033\n",
      "abnormal : 1221\n",
      "scale_pos_weight is 2.48.\n",
      "Model is ready to running.\n"
     ]
    },
    {
     "name": "stderr",
     "output_type": "stream",
     "text": [
      "/package/anaconda3.8/lib/python3.8/site-packages/lightgbm/engine.py:177: UserWarning: Found `num_iterations` in params. Will use it instead of argument\n",
      "  _log_warning(f\"Found `{alias}` in params. Will use it instead of argument\")\n"
     ]
    },
    {
     "name": "stdout",
     "output_type": "stream",
     "text": [
      "zero_order_hold로 진행중입니다.\n",
      "\n",
      "멀티 프로세싱을 시작합니다. 현재 코어 30개 사용 중. \n",
      "1.다른 사람과 동시에 돌리지 마세요.\n",
      "2.함부로 진행중에 중단 하지마세요.\n",
      "--- 걸린시간: 2.104094982147217 ---\n",
      "normal : 3033\n",
      "abnormal : 1221\n",
      "scale_pos_weight is 2.48.\n",
      "Model is ready to running.\n"
     ]
    },
    {
     "name": "stderr",
     "output_type": "stream",
     "text": [
      "/package/anaconda3.8/lib/python3.8/site-packages/lightgbm/engine.py:177: UserWarning: Found `num_iterations` in params. Will use it instead of argument\n",
      "  _log_warning(f\"Found `{alias}` in params. Will use it instead of argument\")\n"
     ]
    },
    {
     "name": "stdout",
     "output_type": "stream",
     "text": [
      "sinc_best로 진행중입니다.\n",
      "\n",
      "멀티 프로세싱을 시작합니다. 현재 코어 30개 사용 중. \n",
      "1.다른 사람과 동시에 돌리지 마세요.\n",
      "2.함부로 진행중에 중단 하지마세요.\n",
      "--- 걸린시간: 2.113084077835083 ---\n",
      "normal : 3033\n",
      "abnormal : 1221\n",
      "scale_pos_weight is 2.48.\n",
      "Model is ready to running.\n",
      "sinc_medium로 진행중입니다.\n",
      "\n",
      "멀티 프로세싱을 시작합니다. 현재 코어 30개 사용 중. \n",
      "1.다른 사람과 동시에 돌리지 마세요.\n",
      "2.함부로 진행중에 중단 하지마세요.\n"
     ]
    },
    {
     "name": "stderr",
     "output_type": "stream",
     "text": [
      "/package/anaconda3.8/lib/python3.8/site-packages/lightgbm/engine.py:177: UserWarning: Found `num_iterations` in params. Will use it instead of argument\n",
      "  _log_warning(f\"Found `{alias}` in params. Will use it instead of argument\")\n",
      "/package/anaconda3.8/lib/python3.8/site-packages/sklearn/metrics/_classification.py:1221: UndefinedMetricWarning: Precision is ill-defined and being set to 0.0 due to no predicted samples. Use `zero_division` parameter to control this behavior.\n",
      "  _warn_prf(average, modifier, msg_start, len(result))\n"
     ]
    },
    {
     "name": "stdout",
     "output_type": "stream",
     "text": [
      "--- 걸린시간: 2.1614627838134766 ---\n",
      "normal : 3033\n",
      "abnormal : 1221\n",
      "scale_pos_weight is 2.48.\n",
      "Model is ready to running.\n",
      "sinc_fastest로 진행중입니다.\n",
      "\n",
      "멀티 프로세싱을 시작합니다. 현재 코어 30개 사용 중. \n",
      "1.다른 사람과 동시에 돌리지 마세요.\n",
      "2.함부로 진행중에 중단 하지마세요.\n"
     ]
    },
    {
     "name": "stderr",
     "output_type": "stream",
     "text": [
      "/package/anaconda3.8/lib/python3.8/site-packages/lightgbm/engine.py:177: UserWarning: Found `num_iterations` in params. Will use it instead of argument\n",
      "  _log_warning(f\"Found `{alias}` in params. Will use it instead of argument\")\n",
      "/package/anaconda3.8/lib/python3.8/site-packages/sklearn/metrics/_classification.py:1221: UndefinedMetricWarning: Precision is ill-defined and being set to 0.0 due to no predicted samples. Use `zero_division` parameter to control this behavior.\n",
      "  _warn_prf(average, modifier, msg_start, len(result))\n"
     ]
    },
    {
     "name": "stdout",
     "output_type": "stream",
     "text": [
      "--- 걸린시간: 2.122285842895508 ---\n",
      "normal : 3033\n",
      "abnormal : 1221\n",
      "scale_pos_weight is 2.48.\n",
      "Model is ready to running.\n",
      "soxr_vhq로 진행중입니다.\n",
      "\n",
      "멀티 프로세싱을 시작합니다. 현재 코어 30개 사용 중. \n",
      "1.다른 사람과 동시에 돌리지 마세요.\n",
      "2.함부로 진행중에 중단 하지마세요.\n"
     ]
    },
    {
     "name": "stderr",
     "output_type": "stream",
     "text": [
      "/package/anaconda3.8/lib/python3.8/site-packages/lightgbm/engine.py:177: UserWarning: Found `num_iterations` in params. Will use it instead of argument\n",
      "  _log_warning(f\"Found `{alias}` in params. Will use it instead of argument\")\n",
      "/package/anaconda3.8/lib/python3.8/site-packages/sklearn/metrics/_classification.py:1221: UndefinedMetricWarning: Precision is ill-defined and being set to 0.0 due to no predicted samples. Use `zero_division` parameter to control this behavior.\n",
      "  _warn_prf(average, modifier, msg_start, len(result))\n"
     ]
    },
    {
     "name": "stdout",
     "output_type": "stream",
     "text": [
      "--- 걸린시간: 2.765300989151001 ---\n",
      "normal : 3033\n",
      "abnormal : 1221\n",
      "scale_pos_weight is 2.48.\n",
      "Model is ready to running.\n"
     ]
    },
    {
     "name": "stderr",
     "output_type": "stream",
     "text": [
      "/package/anaconda3.8/lib/python3.8/site-packages/lightgbm/engine.py:177: UserWarning: Found `num_iterations` in params. Will use it instead of argument\n",
      "  _log_warning(f\"Found `{alias}` in params. Will use it instead of argument\")\n"
     ]
    },
    {
     "name": "stdout",
     "output_type": "stream",
     "text": [
      "soxr_hq로 진행중입니다.\n",
      "\n",
      "멀티 프로세싱을 시작합니다. 현재 코어 30개 사용 중. \n",
      "1.다른 사람과 동시에 돌리지 마세요.\n",
      "2.함부로 진행중에 중단 하지마세요.\n",
      "--- 걸린시간: 2.453516721725464 ---\n",
      "normal : 3033\n",
      "abnormal : 1221\n",
      "scale_pos_weight is 2.48.\n",
      "Model is ready to running.\n"
     ]
    },
    {
     "name": "stderr",
     "output_type": "stream",
     "text": [
      "/package/anaconda3.8/lib/python3.8/site-packages/lightgbm/engine.py:177: UserWarning: Found `num_iterations` in params. Will use it instead of argument\n",
      "  _log_warning(f\"Found `{alias}` in params. Will use it instead of argument\")\n"
     ]
    },
    {
     "name": "stdout",
     "output_type": "stream",
     "text": [
      "soxr_mq로 진행중입니다.\n",
      "\n",
      "멀티 프로세싱을 시작합니다. 현재 코어 30개 사용 중. \n",
      "1.다른 사람과 동시에 돌리지 마세요.\n",
      "2.함부로 진행중에 중단 하지마세요.\n",
      "--- 걸린시간: 2.387889862060547 ---\n",
      "normal : 3033\n",
      "abnormal : 1221\n",
      "scale_pos_weight is 2.48.\n",
      "Model is ready to running.\n"
     ]
    },
    {
     "name": "stderr",
     "output_type": "stream",
     "text": [
      "/package/anaconda3.8/lib/python3.8/site-packages/lightgbm/engine.py:177: UserWarning: Found `num_iterations` in params. Will use it instead of argument\n",
      "  _log_warning(f\"Found `{alias}` in params. Will use it instead of argument\")\n"
     ]
    },
    {
     "name": "stdout",
     "output_type": "stream",
     "text": [
      "soxr_lq로 진행중입니다.\n",
      "\n",
      "멀티 프로세싱을 시작합니다. 현재 코어 30개 사용 중. \n",
      "1.다른 사람과 동시에 돌리지 마세요.\n",
      "2.함부로 진행중에 중단 하지마세요.\n",
      "--- 걸린시간: 2.3753530979156494 ---\n",
      "normal : 3033\n",
      "abnormal : 1221\n",
      "scale_pos_weight is 2.48.\n",
      "Model is ready to running.\n"
     ]
    },
    {
     "name": "stderr",
     "output_type": "stream",
     "text": [
      "/package/anaconda3.8/lib/python3.8/site-packages/lightgbm/engine.py:177: UserWarning: Found `num_iterations` in params. Will use it instead of argument\n",
      "  _log_warning(f\"Found `{alias}` in params. Will use it instead of argument\")\n"
     ]
    },
    {
     "name": "stdout",
     "output_type": "stream",
     "text": [
      "soxr_hq로 진행중입니다.\n",
      "\n",
      "멀티 프로세싱을 시작합니다. 현재 코어 30개 사용 중. \n",
      "1.다른 사람과 동시에 돌리지 마세요.\n",
      "2.함부로 진행중에 중단 하지마세요.\n",
      "--- 걸린시간: 2.484039068222046 ---\n",
      "normal : 3033\n",
      "abnormal : 1221\n",
      "scale_pos_weight is 2.48.\n",
      "Model is ready to running.\n"
     ]
    },
    {
     "name": "stderr",
     "output_type": "stream",
     "text": [
      "/package/anaconda3.8/lib/python3.8/site-packages/lightgbm/engine.py:177: UserWarning: Found `num_iterations` in params. Will use it instead of argument\n",
      "  _log_warning(f\"Found `{alias}` in params. Will use it instead of argument\")\n"
     ]
    },
    {
     "name": "stdout",
     "output_type": "stream",
     "text": [
      "soxr_qq로 진행중입니다.\n",
      "\n",
      "멀티 프로세싱을 시작합니다. 현재 코어 30개 사용 중. \n",
      "1.다른 사람과 동시에 돌리지 마세요.\n",
      "2.함부로 진행중에 중단 하지마세요.\n",
      "--- 걸린시간: 1.9286613464355469 ---\n",
      "normal : 3033\n",
      "abnormal : 1221\n",
      "scale_pos_weight is 2.48.\n",
      "Model is ready to running.\n"
     ]
    },
    {
     "name": "stderr",
     "output_type": "stream",
     "text": [
      "/package/anaconda3.8/lib/python3.8/site-packages/lightgbm/engine.py:177: UserWarning: Found `num_iterations` in params. Will use it instead of argument\n",
      "  _log_warning(f\"Found `{alias}` in params. Will use it instead of argument\")\n"
     ]
    }
   ],
   "source": [
    "sampling_lst = ['abs_max(our_custom)',\n",
    "                'kaiser_best',\n",
    "                'kaiser_fast',\n",
    "                'fft',\n",
    "                'scipy',\n",
    "                'polyphase',\n",
    "                'linear',\n",
    "                'zero_order_hold',\n",
    "                'sinc_best',\n",
    "                'sinc_medium' ,\n",
    "                'sinc_fastest',\n",
    "                'soxr_vhq',\n",
    "                'soxr_hq',\n",
    "                'soxr_mq',\n",
    "                'soxr_lq',\n",
    "                'soxr_hq',\n",
    "                'soxr_qq']\n",
    "target_sr = 64\n",
    "result = []\n",
    "\n",
    "for res_type in sampling_lst:\n",
    "    print(f'{res_type}로 진행중입니다.')\n",
    "    fan_result = fan_result = load_data_using_multi_process(fan_file, sr = 16000, target_sr = target_sr, res_type = res_type) # 데이터 target_sr로 부르기\n",
    "    \n",
    "    fan_result_df = pd.DataFrame(fan_result)\n",
    "    \n",
    "    data = fan_result_df.iloc[:, :-1]\n",
    "    target = fan_result_df.iloc[:, -1]\n",
    "    \n",
    "    X_train, X_test, y_train, y_test = train_test_split(data, target, test_size=0.2, shuffle=True, stratify=target, random_state=42)\n",
    "    \n",
    "    model = model_lgbm(fan_result_df) # using (model.py)\n",
    "    \n",
    "    model.fit(X_train, y_train)\n",
    "\n",
    "    y_pred = model.predict(X_test)\n",
    "    y_pred_prob = model.predict_proba(X_test)\n",
    "    \n",
    "    acc = accuracy_score(y_test, y_pred) \n",
    "    recall = recall_score(y_test, y_pred)\n",
    "    precision = precision_score(y_test, y_pred)\n",
    "    f1 = f1_score(y_test, y_pred)    \n",
    "    auc_score = roc_auc_score(y_test, y_pred_prob[ :, 1 ])\n",
    "    \n",
    "    result.append([ res_type, round(acc, 3) ,round(recall, 3), round(precision, 3), round(f1, 3), round(auc_score, 3) ])\n",
    "\n",
    "result_df = pd.DataFrame(result, columns = [ 'res_type', 'acc', 'recall', 'precision', 'f1', 'auc_score'])\n",
    "result_df.to_csv('/project/time_series/cchc0427/id_num/fan_id00_res_type.csv', index = False)\n"
   ]
  },
  {
   "cell_type": "markdown",
   "id": "5841401f",
   "metadata": {},
   "source": [
    "# id02"
   ]
  },
  {
   "cell_type": "code",
   "execution_count": 12,
   "id": "13746c74",
   "metadata": {},
   "outputs": [
    {
     "name": "stdout",
     "output_type": "stream",
     "text": [
      "1375 + 1375 + 1375 = 4125\n"
     ]
    }
   ],
   "source": [
    "fan_files0_id02 = glob.glob(fan_path + '/0/id_02/*/*')\n",
    "fan_files6_id02 = glob.glob(fan_path + '/6/id_02/*/*')\n",
    "fan_files_6_id02 = glob.glob( fan_path + '/_6/id_02/*/*')\n",
    "fan_file = fan_files0_id02 + fan_files6_id02 + fan_files_6_id02\n",
    "print(f'{len(fan_files0_id02)} + {len(fan_files6_id02)} + {len(fan_files_6_id02)} = {len(fan_file)}')"
   ]
  },
  {
   "cell_type": "code",
   "execution_count": 26,
   "id": "c2ddf63b",
   "metadata": {},
   "outputs": [
    {
     "name": "stdout",
     "output_type": "stream",
     "text": [
      "40로 진행중입니다.\n",
      "\n",
      "멀티 프로세싱을 시작합니다. 현재 코어 30개 사용 중. \n",
      "1.다른 사람과 동시에 돌리지 마세요.\n",
      "2.함부로 진행중에 중단 하지마세요.\n",
      "--- 걸린시간: 16.88844895362854 ---\n",
      "normal : 3048\n",
      "abnormal : 1077\n",
      "scale_pos_weight is 2.83.\n",
      "Model is ready to running.\n"
     ]
    },
    {
     "name": "stderr",
     "output_type": "stream",
     "text": [
      "/package/anaconda3.8/lib/python3.8/site-packages/lightgbm/engine.py:177: UserWarning: Found `num_iterations` in params. Will use it instead of argument\n",
      "  _log_warning(f\"Found `{alias}` in params. Will use it instead of argument\")\n"
     ]
    },
    {
     "name": "stdout",
     "output_type": "stream",
     "text": [
      "50로 진행중입니다.\n",
      "\n",
      "멀티 프로세싱을 시작합니다. 현재 코어 30개 사용 중. \n",
      "1.다른 사람과 동시에 돌리지 마세요.\n",
      "2.함부로 진행중에 중단 하지마세요.\n",
      "--- 걸린시간: 13.957999467849731 ---\n",
      "normal : 3048\n",
      "abnormal : 1077\n",
      "scale_pos_weight is 2.83.\n",
      "Model is ready to running.\n"
     ]
    },
    {
     "name": "stderr",
     "output_type": "stream",
     "text": [
      "/package/anaconda3.8/lib/python3.8/site-packages/lightgbm/engine.py:177: UserWarning: Found `num_iterations` in params. Will use it instead of argument\n",
      "  _log_warning(f\"Found `{alias}` in params. Will use it instead of argument\")\n"
     ]
    },
    {
     "name": "stdout",
     "output_type": "stream",
     "text": [
      "64로 진행중입니다.\n",
      "\n",
      "멀티 프로세싱을 시작합니다. 현재 코어 30개 사용 중. \n",
      "1.다른 사람과 동시에 돌리지 마세요.\n",
      "2.함부로 진행중에 중단 하지마세요.\n",
      "--- 걸린시간: 16.29724097251892 ---\n",
      "normal : 3048\n",
      "abnormal : 1077\n",
      "scale_pos_weight is 2.83.\n",
      "Model is ready to running.\n"
     ]
    },
    {
     "name": "stderr",
     "output_type": "stream",
     "text": [
      "/package/anaconda3.8/lib/python3.8/site-packages/lightgbm/engine.py:177: UserWarning: Found `num_iterations` in params. Will use it instead of argument\n",
      "  _log_warning(f\"Found `{alias}` in params. Will use it instead of argument\")\n"
     ]
    },
    {
     "name": "stdout",
     "output_type": "stream",
     "text": [
      "80로 진행중입니다.\n",
      "\n",
      "멀티 프로세싱을 시작합니다. 현재 코어 30개 사용 중. \n",
      "1.다른 사람과 동시에 돌리지 마세요.\n",
      "2.함부로 진행중에 중단 하지마세요.\n",
      "--- 걸린시간: 14.401506900787354 ---\n",
      "normal : 3048\n",
      "abnormal : 1077\n",
      "scale_pos_weight is 2.83.\n",
      "Model is ready to running.\n"
     ]
    },
    {
     "name": "stderr",
     "output_type": "stream",
     "text": [
      "/package/anaconda3.8/lib/python3.8/site-packages/lightgbm/engine.py:177: UserWarning: Found `num_iterations` in params. Will use it instead of argument\n",
      "  _log_warning(f\"Found `{alias}` in params. Will use it instead of argument\")\n"
     ]
    },
    {
     "name": "stdout",
     "output_type": "stream",
     "text": [
      "100로 진행중입니다.\n",
      "\n",
      "멀티 프로세싱을 시작합니다. 현재 코어 30개 사용 중. \n",
      "1.다른 사람과 동시에 돌리지 마세요.\n",
      "2.함부로 진행중에 중단 하지마세요.\n",
      "--- 걸린시간: 14.144270658493042 ---\n",
      "normal : 3048\n",
      "abnormal : 1077\n",
      "scale_pos_weight is 2.83.\n",
      "Model is ready to running.\n"
     ]
    },
    {
     "name": "stderr",
     "output_type": "stream",
     "text": [
      "/package/anaconda3.8/lib/python3.8/site-packages/lightgbm/engine.py:177: UserWarning: Found `num_iterations` in params. Will use it instead of argument\n",
      "  _log_warning(f\"Found `{alias}` in params. Will use it instead of argument\")\n"
     ]
    },
    {
     "name": "stdout",
     "output_type": "stream",
     "text": [
      "125로 진행중입니다.\n",
      "\n",
      "멀티 프로세싱을 시작합니다. 현재 코어 30개 사용 중. \n",
      "1.다른 사람과 동시에 돌리지 마세요.\n",
      "2.함부로 진행중에 중단 하지마세요.\n",
      "--- 걸린시간: 14.223822593688965 ---\n",
      "normal : 3048\n",
      "abnormal : 1077\n",
      "scale_pos_weight is 2.83.\n",
      "Model is ready to running.\n"
     ]
    },
    {
     "name": "stderr",
     "output_type": "stream",
     "text": [
      "/package/anaconda3.8/lib/python3.8/site-packages/lightgbm/engine.py:177: UserWarning: Found `num_iterations` in params. Will use it instead of argument\n",
      "  _log_warning(f\"Found `{alias}` in params. Will use it instead of argument\")\n"
     ]
    },
    {
     "name": "stdout",
     "output_type": "stream",
     "text": [
      "128로 진행중입니다.\n",
      "\n",
      "멀티 프로세싱을 시작합니다. 현재 코어 30개 사용 중. \n",
      "1.다른 사람과 동시에 돌리지 마세요.\n",
      "2.함부로 진행중에 중단 하지마세요.\n",
      "--- 걸린시간: 14.35277533531189 ---\n",
      "normal : 3048\n",
      "abnormal : 1077\n",
      "scale_pos_weight is 2.83.\n",
      "Model is ready to running.\n"
     ]
    },
    {
     "name": "stderr",
     "output_type": "stream",
     "text": [
      "/package/anaconda3.8/lib/python3.8/site-packages/lightgbm/engine.py:177: UserWarning: Found `num_iterations` in params. Will use it instead of argument\n",
      "  _log_warning(f\"Found `{alias}` in params. Will use it instead of argument\")\n"
     ]
    },
    {
     "name": "stdout",
     "output_type": "stream",
     "text": [
      "160로 진행중입니다.\n",
      "\n",
      "멀티 프로세싱을 시작합니다. 현재 코어 30개 사용 중. \n",
      "1.다른 사람과 동시에 돌리지 마세요.\n",
      "2.함부로 진행중에 중단 하지마세요.\n",
      "--- 걸린시간: 13.893249750137329 ---\n",
      "normal : 3048\n",
      "abnormal : 1077\n",
      "scale_pos_weight is 2.83.\n",
      "Model is ready to running.\n"
     ]
    },
    {
     "name": "stderr",
     "output_type": "stream",
     "text": [
      "/package/anaconda3.8/lib/python3.8/site-packages/lightgbm/engine.py:177: UserWarning: Found `num_iterations` in params. Will use it instead of argument\n",
      "  _log_warning(f\"Found `{alias}` in params. Will use it instead of argument\")\n"
     ]
    },
    {
     "name": "stdout",
     "output_type": "stream",
     "text": [
      "200로 진행중입니다.\n",
      "\n",
      "멀티 프로세싱을 시작합니다. 현재 코어 30개 사용 중. \n",
      "1.다른 사람과 동시에 돌리지 마세요.\n",
      "2.함부로 진행중에 중단 하지마세요.\n",
      "--- 걸린시간: 13.828470230102539 ---\n",
      "normal : 3048\n",
      "abnormal : 1077\n",
      "scale_pos_weight is 2.83.\n",
      "Model is ready to running.\n"
     ]
    },
    {
     "name": "stderr",
     "output_type": "stream",
     "text": [
      "/package/anaconda3.8/lib/python3.8/site-packages/lightgbm/engine.py:177: UserWarning: Found `num_iterations` in params. Will use it instead of argument\n",
      "  _log_warning(f\"Found `{alias}` in params. Will use it instead of argument\")\n"
     ]
    },
    {
     "name": "stdout",
     "output_type": "stream",
     "text": [
      "250로 진행중입니다.\n",
      "\n",
      "멀티 프로세싱을 시작합니다. 현재 코어 30개 사용 중. \n",
      "1.다른 사람과 동시에 돌리지 마세요.\n",
      "2.함부로 진행중에 중단 하지마세요.\n",
      "--- 걸린시간: 14.430036306381226 ---\n",
      "normal : 3048\n",
      "abnormal : 1077\n",
      "scale_pos_weight is 2.83.\n",
      "Model is ready to running.\n"
     ]
    },
    {
     "name": "stderr",
     "output_type": "stream",
     "text": [
      "/package/anaconda3.8/lib/python3.8/site-packages/lightgbm/engine.py:177: UserWarning: Found `num_iterations` in params. Will use it instead of argument\n",
      "  _log_warning(f\"Found `{alias}` in params. Will use it instead of argument\")\n"
     ]
    },
    {
     "name": "stdout",
     "output_type": "stream",
     "text": [
      "320로 진행중입니다.\n",
      "\n",
      "멀티 프로세싱을 시작합니다. 현재 코어 30개 사용 중. \n",
      "1.다른 사람과 동시에 돌리지 마세요.\n",
      "2.함부로 진행중에 중단 하지마세요.\n",
      "--- 걸린시간: 13.73881220817566 ---\n",
      "normal : 3048\n",
      "abnormal : 1077\n",
      "scale_pos_weight is 2.83.\n",
      "Model is ready to running.\n"
     ]
    },
    {
     "name": "stderr",
     "output_type": "stream",
     "text": [
      "/package/anaconda3.8/lib/python3.8/site-packages/lightgbm/engine.py:177: UserWarning: Found `num_iterations` in params. Will use it instead of argument\n",
      "  _log_warning(f\"Found `{alias}` in params. Will use it instead of argument\")\n"
     ]
    },
    {
     "name": "stdout",
     "output_type": "stream",
     "text": [
      "400로 진행중입니다.\n",
      "\n",
      "멀티 프로세싱을 시작합니다. 현재 코어 30개 사용 중. \n",
      "1.다른 사람과 동시에 돌리지 마세요.\n",
      "2.함부로 진행중에 중단 하지마세요.\n",
      "--- 걸린시간: 13.58426022529602 ---\n",
      "normal : 3048\n",
      "abnormal : 1077\n",
      "scale_pos_weight is 2.83.\n",
      "Model is ready to running.\n"
     ]
    },
    {
     "name": "stderr",
     "output_type": "stream",
     "text": [
      "/package/anaconda3.8/lib/python3.8/site-packages/lightgbm/engine.py:177: UserWarning: Found `num_iterations` in params. Will use it instead of argument\n",
      "  _log_warning(f\"Found `{alias}` in params. Will use it instead of argument\")\n"
     ]
    },
    {
     "name": "stdout",
     "output_type": "stream",
     "text": [
      "500로 진행중입니다.\n",
      "\n",
      "멀티 프로세싱을 시작합니다. 현재 코어 30개 사용 중. \n",
      "1.다른 사람과 동시에 돌리지 마세요.\n",
      "2.함부로 진행중에 중단 하지마세요.\n",
      "--- 걸린시간: 15.150247812271118 ---\n",
      "normal : 3048\n",
      "abnormal : 1077\n",
      "scale_pos_weight is 2.83.\n",
      "Model is ready to running.\n"
     ]
    },
    {
     "name": "stderr",
     "output_type": "stream",
     "text": [
      "/package/anaconda3.8/lib/python3.8/site-packages/lightgbm/engine.py:177: UserWarning: Found `num_iterations` in params. Will use it instead of argument\n",
      "  _log_warning(f\"Found `{alias}` in params. Will use it instead of argument\")\n"
     ]
    },
    {
     "name": "stdout",
     "output_type": "stream",
     "text": [
      "640로 진행중입니다.\n",
      "\n",
      "멀티 프로세싱을 시작합니다. 현재 코어 30개 사용 중. \n",
      "1.다른 사람과 동시에 돌리지 마세요.\n",
      "2.함부로 진행중에 중단 하지마세요.\n",
      "--- 걸린시간: 13.811315059661865 ---\n",
      "normal : 3048\n",
      "abnormal : 1077\n",
      "scale_pos_weight is 2.83.\n",
      "Model is ready to running.\n"
     ]
    },
    {
     "name": "stderr",
     "output_type": "stream",
     "text": [
      "/package/anaconda3.8/lib/python3.8/site-packages/lightgbm/engine.py:177: UserWarning: Found `num_iterations` in params. Will use it instead of argument\n",
      "  _log_warning(f\"Found `{alias}` in params. Will use it instead of argument\")\n"
     ]
    },
    {
     "name": "stdout",
     "output_type": "stream",
     "text": [
      "800로 진행중입니다.\n",
      "\n",
      "멀티 프로세싱을 시작합니다. 현재 코어 30개 사용 중. \n",
      "1.다른 사람과 동시에 돌리지 마세요.\n",
      "2.함부로 진행중에 중단 하지마세요.\n",
      "--- 걸린시간: 13.853751420974731 ---\n",
      "normal : 3048\n",
      "abnormal : 1077\n",
      "scale_pos_weight is 2.83.\n",
      "Model is ready to running.\n"
     ]
    },
    {
     "name": "stderr",
     "output_type": "stream",
     "text": [
      "/package/anaconda3.8/lib/python3.8/site-packages/lightgbm/engine.py:177: UserWarning: Found `num_iterations` in params. Will use it instead of argument\n",
      "  _log_warning(f\"Found `{alias}` in params. Will use it instead of argument\")\n"
     ]
    },
    {
     "name": "stdout",
     "output_type": "stream",
     "text": [
      "1000로 진행중입니다.\n",
      "\n",
      "멀티 프로세싱을 시작합니다. 현재 코어 30개 사용 중. \n",
      "1.다른 사람과 동시에 돌리지 마세요.\n",
      "2.함부로 진행중에 중단 하지마세요.\n",
      "--- 걸린시간: 16.319580554962158 ---\n",
      "normal : 3048\n",
      "abnormal : 1077\n",
      "scale_pos_weight is 2.83.\n",
      "Model is ready to running.\n"
     ]
    },
    {
     "name": "stderr",
     "output_type": "stream",
     "text": [
      "/package/anaconda3.8/lib/python3.8/site-packages/lightgbm/engine.py:177: UserWarning: Found `num_iterations` in params. Will use it instead of argument\n",
      "  _log_warning(f\"Found `{alias}` in params. Will use it instead of argument\")\n"
     ]
    },
    {
     "name": "stdout",
     "output_type": "stream",
     "text": [
      "1600로 진행중입니다.\n",
      "\n",
      "멀티 프로세싱을 시작합니다. 현재 코어 30개 사용 중. \n",
      "1.다른 사람과 동시에 돌리지 마세요.\n",
      "2.함부로 진행중에 중단 하지마세요.\n",
      "--- 걸린시간: 14.10018801689148 ---\n",
      "normal : 3048\n",
      "abnormal : 1077\n",
      "scale_pos_weight is 2.83.\n",
      "Model is ready to running.\n"
     ]
    },
    {
     "name": "stderr",
     "output_type": "stream",
     "text": [
      "/package/anaconda3.8/lib/python3.8/site-packages/lightgbm/engine.py:177: UserWarning: Found `num_iterations` in params. Will use it instead of argument\n",
      "  _log_warning(f\"Found `{alias}` in params. Will use it instead of argument\")\n"
     ]
    },
    {
     "name": "stdout",
     "output_type": "stream",
     "text": [
      "2000로 진행중입니다.\n",
      "\n",
      "멀티 프로세싱을 시작합니다. 현재 코어 30개 사용 중. \n",
      "1.다른 사람과 동시에 돌리지 마세요.\n",
      "2.함부로 진행중에 중단 하지마세요.\n",
      "--- 걸린시간: 16.594923973083496 ---\n",
      "normal : 3048\n",
      "abnormal : 1077\n",
      "scale_pos_weight is 2.83.\n",
      "Model is ready to running.\n"
     ]
    },
    {
     "name": "stderr",
     "output_type": "stream",
     "text": [
      "/package/anaconda3.8/lib/python3.8/site-packages/lightgbm/engine.py:177: UserWarning: Found `num_iterations` in params. Will use it instead of argument\n",
      "  _log_warning(f\"Found `{alias}` in params. Will use it instead of argument\")\n"
     ]
    },
    {
     "name": "stdout",
     "output_type": "stream",
     "text": [
      "3200로 진행중입니다.\n",
      "\n",
      "멀티 프로세싱을 시작합니다. 현재 코어 30개 사용 중. \n",
      "1.다른 사람과 동시에 돌리지 마세요.\n",
      "2.함부로 진행중에 중단 하지마세요.\n",
      "--- 걸린시간: 13.971089601516724 ---\n",
      "normal : 3048\n",
      "abnormal : 1077\n",
      "scale_pos_weight is 2.83.\n",
      "Model is ready to running.\n"
     ]
    },
    {
     "name": "stderr",
     "output_type": "stream",
     "text": [
      "/package/anaconda3.8/lib/python3.8/site-packages/lightgbm/engine.py:177: UserWarning: Found `num_iterations` in params. Will use it instead of argument\n",
      "  _log_warning(f\"Found `{alias}` in params. Will use it instead of argument\")\n"
     ]
    },
    {
     "name": "stdout",
     "output_type": "stream",
     "text": [
      "4000로 진행중입니다.\n",
      "\n",
      "멀티 프로세싱을 시작합니다. 현재 코어 30개 사용 중. \n",
      "1.다른 사람과 동시에 돌리지 마세요.\n",
      "2.함부로 진행중에 중단 하지마세요.\n",
      "--- 걸린시간: 16.638585329055786 ---\n",
      "normal : 3048\n",
      "abnormal : 1077\n",
      "scale_pos_weight is 2.83.\n",
      "Model is ready to running.\n"
     ]
    },
    {
     "name": "stderr",
     "output_type": "stream",
     "text": [
      "/package/anaconda3.8/lib/python3.8/site-packages/lightgbm/engine.py:177: UserWarning: Found `num_iterations` in params. Will use it instead of argument\n",
      "  _log_warning(f\"Found `{alias}` in params. Will use it instead of argument\")\n"
     ]
    },
    {
     "name": "stdout",
     "output_type": "stream",
     "text": [
      "8000로 진행중입니다.\n",
      "\n",
      "멀티 프로세싱을 시작합니다. 현재 코어 30개 사용 중. \n",
      "1.다른 사람과 동시에 돌리지 마세요.\n",
      "2.함부로 진행중에 중단 하지마세요.\n",
      "--- 걸린시간: 17.339788675308228 ---\n",
      "normal : 3048\n",
      "abnormal : 1077\n",
      "scale_pos_weight is 2.83.\n",
      "Model is ready to running.\n"
     ]
    },
    {
     "name": "stderr",
     "output_type": "stream",
     "text": [
      "/package/anaconda3.8/lib/python3.8/site-packages/lightgbm/engine.py:177: UserWarning: Found `num_iterations` in params. Will use it instead of argument\n",
      "  _log_warning(f\"Found `{alias}` in params. Will use it instead of argument\")\n"
     ]
    },
    {
     "name": "stdout",
     "output_type": "stream",
     "text": [
      "10000로 진행중입니다.\n",
      "\n",
      "멀티 프로세싱을 시작합니다. 현재 코어 30개 사용 중. \n",
      "1.다른 사람과 동시에 돌리지 마세요.\n",
      "2.함부로 진행중에 중단 하지마세요.\n",
      "--- 걸린시간: 17.114534854888916 ---\n",
      "normal : 3048\n",
      "abnormal : 1077\n",
      "scale_pos_weight is 2.83.\n",
      "Model is ready to running.\n"
     ]
    },
    {
     "name": "stderr",
     "output_type": "stream",
     "text": [
      "/package/anaconda3.8/lib/python3.8/site-packages/lightgbm/engine.py:177: UserWarning: Found `num_iterations` in params. Will use it instead of argument\n",
      "  _log_warning(f\"Found `{alias}` in params. Will use it instead of argument\")\n"
     ]
    },
    {
     "name": "stdout",
     "output_type": "stream",
     "text": [
      "13000로 진행중입니다.\n",
      "\n",
      "멀티 프로세싱을 시작합니다. 현재 코어 30개 사용 중. \n",
      "1.다른 사람과 동시에 돌리지 마세요.\n",
      "2.함부로 진행중에 중단 하지마세요.\n",
      "--- 걸린시간: 18.676635265350342 ---\n",
      "normal : 3048\n",
      "abnormal : 1077\n",
      "scale_pos_weight is 2.83.\n",
      "Model is ready to running.\n"
     ]
    },
    {
     "name": "stderr",
     "output_type": "stream",
     "text": [
      "/package/anaconda3.8/lib/python3.8/site-packages/lightgbm/engine.py:177: UserWarning: Found `num_iterations` in params. Will use it instead of argument\n",
      "  _log_warning(f\"Found `{alias}` in params. Will use it instead of argument\")\n"
     ]
    }
   ],
   "source": [
    "result = []\n",
    "\n",
    "for target_sr in target_lst:\n",
    "    print(f'{target_sr}로 진행중입니다.')\n",
    "    fan_result = load_data_using_multi_process(fan_files, sr = 16000, target_sr = target_sr, res_type = 'kaiser_best') # 데이터 target_sr로 부르기\n",
    "    \n",
    "    # librosa.resample하게되면 shape이 ( file수, 1, column수 ) squeeze함수는 shape에서 1인부분 제거 1의의미 모르겠음\n",
    "    fan_squeeze_result = np.squeeze(fan_result) \n",
    "    \n",
    "    fan_result_df = pd.DataFrame(fan_squeeze_result)\n",
    "    \n",
    "    data = fan_result_df.iloc[:, :-1]\n",
    "    target = fan_result_df.iloc[:, -1]\n",
    "    \n",
    "    X_train, X_test, y_train, y_test = train_test_split(data, target, test_size=0.2, shuffle=True, stratify=target, random_state=42)\n",
    "    \n",
    "    model = model_lgbm(fan_result_df) # using (model.py)\n",
    "    \n",
    "    model.fit(X_train, y_train)\n",
    "\n",
    "    y_pred = model.predict(X_test)\n",
    "    y_pred_prob = model.predict_proba(X_test)\n",
    "    \n",
    "    acc = accuracy_score(y_test, y_pred) \n",
    "    recall = recall_score(y_test, y_pred)\n",
    "    precision = precision_score(y_test, y_pred)\n",
    "    f1 = f1_score(y_test, y_pred)    \n",
    "    auc_score = roc_auc_score(y_test, y_pred_prob[ :, 1 ])\n",
    "    \n",
    "    result.append([ target_sr, round(acc, 3) ,round(recall, 3), round(precision, 3), round(f1, 3), round(auc_score, 3) ])\n",
    "\n",
    "result_df = pd.DataFrame(result, columns = [ 'target_sr', 'acc', 'recall', 'precision', 'f1', 'auc_score'])\n",
    "result_df.to_csv('/project/time_series/cchc0427/id_num2/fan_target_sr_id02.csv', index = False)\n"
   ]
  },
  {
   "cell_type": "code",
   "execution_count": 13,
   "id": "6bf2a641",
   "metadata": {},
   "outputs": [
    {
     "name": "stdout",
     "output_type": "stream",
     "text": [
      "abs_max(our_custom)로 진행중입니다.\n",
      "\n",
      "멀티 프로세싱을 시작합니다. 현재 코어 30개 사용 중. \n",
      "1.다른 사람과 동시에 돌리지 마세요.\n",
      "2.함부로 진행중에 중단 하지마세요.\n",
      "--- 걸린시간: 8.600489616394043 ---\n",
      "normal : 3048\n",
      "abnormal : 1077\n",
      "scale_pos_weight is 2.83.\n",
      "Model is ready to running.\n"
     ]
    },
    {
     "name": "stderr",
     "output_type": "stream",
     "text": [
      "/package/anaconda3.8/lib/python3.8/site-packages/lightgbm/engine.py:177: UserWarning: Found `num_iterations` in params. Will use it instead of argument\n",
      "  _log_warning(f\"Found `{alias}` in params. Will use it instead of argument\")\n"
     ]
    },
    {
     "name": "stdout",
     "output_type": "stream",
     "text": [
      "kaiser_best로 진행중입니다.\n",
      "\n",
      "멀티 프로세싱을 시작합니다. 현재 코어 30개 사용 중. \n",
      "1.다른 사람과 동시에 돌리지 마세요.\n",
      "2.함부로 진행중에 중단 하지마세요.\n",
      "--- 걸린시간: 9.10737419128418 ---\n",
      "normal : 3048\n",
      "abnormal : 1077\n",
      "scale_pos_weight is 2.83.\n",
      "Model is ready to running.\n"
     ]
    },
    {
     "name": "stderr",
     "output_type": "stream",
     "text": [
      "/package/anaconda3.8/lib/python3.8/site-packages/lightgbm/engine.py:177: UserWarning: Found `num_iterations` in params. Will use it instead of argument\n",
      "  _log_warning(f\"Found `{alias}` in params. Will use it instead of argument\")\n"
     ]
    },
    {
     "name": "stdout",
     "output_type": "stream",
     "text": [
      "kaiser_fast로 진행중입니다.\n",
      "\n",
      "멀티 프로세싱을 시작합니다. 현재 코어 30개 사용 중. \n",
      "1.다른 사람과 동시에 돌리지 마세요.\n",
      "2.함부로 진행중에 중단 하지마세요.\n",
      "--- 걸린시간: 4.940669059753418 ---\n",
      "normal : 3048\n",
      "abnormal : 1077\n",
      "scale_pos_weight is 2.83.\n",
      "Model is ready to running.\n"
     ]
    },
    {
     "name": "stderr",
     "output_type": "stream",
     "text": [
      "/package/anaconda3.8/lib/python3.8/site-packages/lightgbm/engine.py:177: UserWarning: Found `num_iterations` in params. Will use it instead of argument\n",
      "  _log_warning(f\"Found `{alias}` in params. Will use it instead of argument\")\n"
     ]
    },
    {
     "name": "stdout",
     "output_type": "stream",
     "text": [
      "fft로 진행중입니다.\n",
      "\n",
      "멀티 프로세싱을 시작합니다. 현재 코어 30개 사용 중. \n",
      "1.다른 사람과 동시에 돌리지 마세요.\n",
      "2.함부로 진행중에 중단 하지마세요.\n",
      "--- 걸린시간: 2.269618511199951 ---\n",
      "normal : 3048\n",
      "abnormal : 1077\n",
      "scale_pos_weight is 2.83.\n",
      "Model is ready to running.\n"
     ]
    },
    {
     "name": "stderr",
     "output_type": "stream",
     "text": [
      "/package/anaconda3.8/lib/python3.8/site-packages/lightgbm/engine.py:177: UserWarning: Found `num_iterations` in params. Will use it instead of argument\n",
      "  _log_warning(f\"Found `{alias}` in params. Will use it instead of argument\")\n"
     ]
    },
    {
     "name": "stdout",
     "output_type": "stream",
     "text": [
      "scipy로 진행중입니다.\n",
      "\n",
      "멀티 프로세싱을 시작합니다. 현재 코어 30개 사용 중. \n",
      "1.다른 사람과 동시에 돌리지 마세요.\n",
      "2.함부로 진행중에 중단 하지마세요.\n",
      "--- 걸린시간: 2.3428897857666016 ---\n",
      "normal : 3048\n",
      "abnormal : 1077\n",
      "scale_pos_weight is 2.83.\n",
      "Model is ready to running.\n"
     ]
    },
    {
     "name": "stderr",
     "output_type": "stream",
     "text": [
      "/package/anaconda3.8/lib/python3.8/site-packages/lightgbm/engine.py:177: UserWarning: Found `num_iterations` in params. Will use it instead of argument\n",
      "  _log_warning(f\"Found `{alias}` in params. Will use it instead of argument\")\n"
     ]
    },
    {
     "name": "stdout",
     "output_type": "stream",
     "text": [
      "polyphase로 진행중입니다.\n",
      "\n",
      "멀티 프로세싱을 시작합니다. 현재 코어 30개 사용 중. \n",
      "1.다른 사람과 동시에 돌리지 마세요.\n",
      "2.함부로 진행중에 중단 하지마세요.\n",
      "--- 걸린시간: 2.5672686100006104 ---\n",
      "normal : 3048\n",
      "abnormal : 1077\n",
      "scale_pos_weight is 2.83.\n",
      "Model is ready to running.\n"
     ]
    },
    {
     "name": "stderr",
     "output_type": "stream",
     "text": [
      "/package/anaconda3.8/lib/python3.8/site-packages/lightgbm/engine.py:177: UserWarning: Found `num_iterations` in params. Will use it instead of argument\n",
      "  _log_warning(f\"Found `{alias}` in params. Will use it instead of argument\")\n"
     ]
    },
    {
     "name": "stdout",
     "output_type": "stream",
     "text": [
      "linear로 진행중입니다.\n",
      "\n",
      "멀티 프로세싱을 시작합니다. 현재 코어 30개 사용 중. \n",
      "1.다른 사람과 동시에 돌리지 마세요.\n",
      "2.함부로 진행중에 중단 하지마세요.\n",
      "--- 걸린시간: 2.150094985961914 ---\n",
      "normal : 3048\n",
      "abnormal : 1077\n",
      "scale_pos_weight is 2.83.\n",
      "Model is ready to running.\n"
     ]
    },
    {
     "name": "stderr",
     "output_type": "stream",
     "text": [
      "/package/anaconda3.8/lib/python3.8/site-packages/lightgbm/engine.py:177: UserWarning: Found `num_iterations` in params. Will use it instead of argument\n",
      "  _log_warning(f\"Found `{alias}` in params. Will use it instead of argument\")\n"
     ]
    },
    {
     "name": "stdout",
     "output_type": "stream",
     "text": [
      "zero_order_hold로 진행중입니다.\n",
      "\n",
      "멀티 프로세싱을 시작합니다. 현재 코어 30개 사용 중. \n",
      "1.다른 사람과 동시에 돌리지 마세요.\n",
      "2.함부로 진행중에 중단 하지마세요.\n",
      "--- 걸린시간: 2.2241761684417725 ---\n",
      "normal : 3048\n",
      "abnormal : 1077\n",
      "scale_pos_weight is 2.83.\n",
      "Model is ready to running.\n"
     ]
    },
    {
     "name": "stderr",
     "output_type": "stream",
     "text": [
      "/package/anaconda3.8/lib/python3.8/site-packages/lightgbm/engine.py:177: UserWarning: Found `num_iterations` in params. Will use it instead of argument\n",
      "  _log_warning(f\"Found `{alias}` in params. Will use it instead of argument\")\n"
     ]
    },
    {
     "name": "stdout",
     "output_type": "stream",
     "text": [
      "sinc_best로 진행중입니다.\n",
      "\n",
      "멀티 프로세싱을 시작합니다. 현재 코어 30개 사용 중. \n",
      "1.다른 사람과 동시에 돌리지 마세요.\n",
      "2.함부로 진행중에 중단 하지마세요.\n",
      "--- 걸린시간: 11.379287719726562 ---\n",
      "normal : 3048\n",
      "abnormal : 1077\n",
      "scale_pos_weight is 2.83.\n",
      "Model is ready to running.\n"
     ]
    },
    {
     "name": "stderr",
     "output_type": "stream",
     "text": [
      "/package/anaconda3.8/lib/python3.8/site-packages/lightgbm/engine.py:177: UserWarning: Found `num_iterations` in params. Will use it instead of argument\n",
      "  _log_warning(f\"Found `{alias}` in params. Will use it instead of argument\")\n"
     ]
    },
    {
     "name": "stdout",
     "output_type": "stream",
     "text": [
      "sinc_medium로 진행중입니다.\n",
      "\n",
      "멀티 프로세싱을 시작합니다. 현재 코어 30개 사용 중. \n",
      "1.다른 사람과 동시에 돌리지 마세요.\n",
      "2.함부로 진행중에 중단 하지마세요.\n",
      "--- 걸린시간: 4.653646469116211 ---\n",
      "normal : 3048\n",
      "abnormal : 1077\n",
      "scale_pos_weight is 2.83.\n",
      "Model is ready to running.\n"
     ]
    },
    {
     "name": "stderr",
     "output_type": "stream",
     "text": [
      "/package/anaconda3.8/lib/python3.8/site-packages/lightgbm/engine.py:177: UserWarning: Found `num_iterations` in params. Will use it instead of argument\n",
      "  _log_warning(f\"Found `{alias}` in params. Will use it instead of argument\")\n"
     ]
    },
    {
     "name": "stdout",
     "output_type": "stream",
     "text": [
      "sinc_fastest로 진행중입니다.\n",
      "\n",
      "멀티 프로세싱을 시작합니다. 현재 코어 30개 사용 중. \n",
      "1.다른 사람과 동시에 돌리지 마세요.\n",
      "2.함부로 진행중에 중단 하지마세요.\n",
      "--- 걸린시간: 3.220400094985962 ---\n",
      "normal : 3048\n",
      "abnormal : 1077\n",
      "scale_pos_weight is 2.83.\n",
      "Model is ready to running.\n"
     ]
    },
    {
     "name": "stderr",
     "output_type": "stream",
     "text": [
      "/package/anaconda3.8/lib/python3.8/site-packages/lightgbm/engine.py:177: UserWarning: Found `num_iterations` in params. Will use it instead of argument\n",
      "  _log_warning(f\"Found `{alias}` in params. Will use it instead of argument\")\n"
     ]
    },
    {
     "name": "stdout",
     "output_type": "stream",
     "text": [
      "soxr_vhq로 진행중입니다.\n",
      "\n",
      "멀티 프로세싱을 시작합니다. 현재 코어 30개 사용 중. \n",
      "1.다른 사람과 동시에 돌리지 마세요.\n",
      "2.함부로 진행중에 중단 하지마세요.\n",
      "--- 걸린시간: 2.627056360244751 ---\n",
      "normal : 3048\n",
      "abnormal : 1077\n",
      "scale_pos_weight is 2.83.\n",
      "Model is ready to running.\n"
     ]
    },
    {
     "name": "stderr",
     "output_type": "stream",
     "text": [
      "/package/anaconda3.8/lib/python3.8/site-packages/lightgbm/engine.py:177: UserWarning: Found `num_iterations` in params. Will use it instead of argument\n",
      "  _log_warning(f\"Found `{alias}` in params. Will use it instead of argument\")\n"
     ]
    },
    {
     "name": "stdout",
     "output_type": "stream",
     "text": [
      "soxr_hq로 진행중입니다.\n",
      "\n",
      "멀티 프로세싱을 시작합니다. 현재 코어 30개 사용 중. \n",
      "1.다른 사람과 동시에 돌리지 마세요.\n",
      "2.함부로 진행중에 중단 하지마세요.\n",
      "--- 걸린시간: 2.3644649982452393 ---\n",
      "normal : 3048\n",
      "abnormal : 1077\n",
      "scale_pos_weight is 2.83.\n",
      "Model is ready to running.\n"
     ]
    },
    {
     "name": "stderr",
     "output_type": "stream",
     "text": [
      "/package/anaconda3.8/lib/python3.8/site-packages/lightgbm/engine.py:177: UserWarning: Found `num_iterations` in params. Will use it instead of argument\n",
      "  _log_warning(f\"Found `{alias}` in params. Will use it instead of argument\")\n"
     ]
    },
    {
     "name": "stdout",
     "output_type": "stream",
     "text": [
      "soxr_mq로 진행중입니다.\n",
      "\n",
      "멀티 프로세싱을 시작합니다. 현재 코어 30개 사용 중. \n",
      "1.다른 사람과 동시에 돌리지 마세요.\n",
      "2.함부로 진행중에 중단 하지마세요.\n",
      "--- 걸린시간: 2.405925750732422 ---\n",
      "normal : 3048\n",
      "abnormal : 1077\n",
      "scale_pos_weight is 2.83.\n",
      "Model is ready to running.\n"
     ]
    },
    {
     "name": "stderr",
     "output_type": "stream",
     "text": [
      "/package/anaconda3.8/lib/python3.8/site-packages/lightgbm/engine.py:177: UserWarning: Found `num_iterations` in params. Will use it instead of argument\n",
      "  _log_warning(f\"Found `{alias}` in params. Will use it instead of argument\")\n"
     ]
    },
    {
     "name": "stdout",
     "output_type": "stream",
     "text": [
      "soxr_lq로 진행중입니다.\n",
      "\n",
      "멀티 프로세싱을 시작합니다. 현재 코어 30개 사용 중. \n",
      "1.다른 사람과 동시에 돌리지 마세요.\n",
      "2.함부로 진행중에 중단 하지마세요.\n",
      "--- 걸린시간: 2.3745007514953613 ---\n",
      "normal : 3048\n",
      "abnormal : 1077\n",
      "scale_pos_weight is 2.83.\n",
      "Model is ready to running.\n"
     ]
    },
    {
     "name": "stderr",
     "output_type": "stream",
     "text": [
      "/package/anaconda3.8/lib/python3.8/site-packages/lightgbm/engine.py:177: UserWarning: Found `num_iterations` in params. Will use it instead of argument\n",
      "  _log_warning(f\"Found `{alias}` in params. Will use it instead of argument\")\n"
     ]
    },
    {
     "name": "stdout",
     "output_type": "stream",
     "text": [
      "soxr_hq로 진행중입니다.\n",
      "\n",
      "멀티 프로세싱을 시작합니다. 현재 코어 30개 사용 중. \n",
      "1.다른 사람과 동시에 돌리지 마세요.\n",
      "2.함부로 진행중에 중단 하지마세요.\n",
      "--- 걸린시간: 2.3752031326293945 ---\n",
      "normal : 3048\n",
      "abnormal : 1077\n",
      "scale_pos_weight is 2.83.\n",
      "Model is ready to running.\n"
     ]
    },
    {
     "name": "stderr",
     "output_type": "stream",
     "text": [
      "/package/anaconda3.8/lib/python3.8/site-packages/lightgbm/engine.py:177: UserWarning: Found `num_iterations` in params. Will use it instead of argument\n",
      "  _log_warning(f\"Found `{alias}` in params. Will use it instead of argument\")\n"
     ]
    },
    {
     "name": "stdout",
     "output_type": "stream",
     "text": [
      "soxr_qq로 진행중입니다.\n",
      "\n",
      "멀티 프로세싱을 시작합니다. 현재 코어 30개 사용 중. \n",
      "1.다른 사람과 동시에 돌리지 마세요.\n",
      "2.함부로 진행중에 중단 하지마세요.\n",
      "--- 걸린시간: 2.1978209018707275 ---\n",
      "normal : 3048\n",
      "abnormal : 1077\n",
      "scale_pos_weight is 2.83.\n",
      "Model is ready to running.\n"
     ]
    },
    {
     "name": "stderr",
     "output_type": "stream",
     "text": [
      "/package/anaconda3.8/lib/python3.8/site-packages/lightgbm/engine.py:177: UserWarning: Found `num_iterations` in params. Will use it instead of argument\n",
      "  _log_warning(f\"Found `{alias}` in params. Will use it instead of argument\")\n"
     ]
    }
   ],
   "source": [
    "sampling_lst = ['abs_max(our_custom)',\n",
    "                'kaiser_best',\n",
    "                'kaiser_fast',\n",
    "                'fft',\n",
    "                'scipy',\n",
    "                'polyphase',\n",
    "                'linear',\n",
    "                'zero_order_hold',\n",
    "                'sinc_best',\n",
    "                'sinc_medium' ,\n",
    "                'sinc_fastest',\n",
    "                'soxr_vhq',\n",
    "                'soxr_hq',\n",
    "                'soxr_mq',\n",
    "                'soxr_lq',\n",
    "                'soxr_hq',\n",
    "                'soxr_qq']\n",
    "target_sr = 125\n",
    "result = []\n",
    "\n",
    "for res_type in sampling_lst:\n",
    "    print(f'{res_type}로 진행중입니다.')\n",
    "    fan_result = fan_result = load_data_using_multi_process(fan_file, sr = 16000, target_sr = target_sr, res_type = res_type) # 데이터 target_sr로 부르기\n",
    "    \n",
    "    fan_result_df = pd.DataFrame(fan_result)\n",
    "    \n",
    "    data = fan_result_df.iloc[:, :-1]\n",
    "    target = fan_result_df.iloc[:, -1]\n",
    "    \n",
    "    X_train, X_test, y_train, y_test = train_test_split(data, target, test_size=0.2, shuffle=True, stratify=target, random_state=42)\n",
    "    \n",
    "    model = model_lgbm(fan_result_df) # using (model.py)\n",
    "    \n",
    "    model.fit(X_train, y_train)\n",
    "\n",
    "    y_pred = model.predict(X_test)\n",
    "    y_pred_prob = model.predict_proba(X_test)\n",
    "    \n",
    "    acc = accuracy_score(y_test, y_pred) \n",
    "    recall = recall_score(y_test, y_pred)\n",
    "    precision = precision_score(y_test, y_pred)\n",
    "    f1 = f1_score(y_test, y_pred)    \n",
    "    auc_score = roc_auc_score(y_test, y_pred_prob[ :, 1 ])\n",
    "    \n",
    "    result.append([ res_type, round(acc, 3) ,round(recall, 3), round(precision, 3), round(f1, 3), round(auc_score, 3) ])\n",
    "\n",
    "result_df = pd.DataFrame(result, columns = [ 'res_type', 'acc', 'recall', 'precision', 'f1', 'auc_score'])\n",
    "result_df.to_csv('/project/time_series/cchc0427/id_num/fan_id02_res_type.csv', index = False)\n"
   ]
  },
  {
   "cell_type": "markdown",
   "id": "31903e5b",
   "metadata": {},
   "source": [
    "# id04"
   ]
  },
  {
   "cell_type": "code",
   "execution_count": 14,
   "id": "02d07358",
   "metadata": {},
   "outputs": [
    {
     "name": "stdout",
     "output_type": "stream",
     "text": [
      "1381 + 1381 + 1381 = 4143\n"
     ]
    }
   ],
   "source": [
    "fan_files0_id04 = glob.glob(fan_path + '/0/id_04/*/*')\n",
    "fan_files6_id04 = glob.glob(fan_path + '/6/id_04/*/*')\n",
    "fan_files_6_id04 = glob.glob( fan_path + '/_6/id_04/*/*')\n",
    "fan_file = fan_files0_id04 + fan_files6_id04 + fan_files_6_id04\n",
    "print(f'{len(fan_files0_id04)} + {len(fan_files6_id04)} + {len(fan_files_6_id04)} = {len(fan_file)}')"
   ]
  },
  {
   "cell_type": "code",
   "execution_count": 28,
   "id": "9b02330e",
   "metadata": {},
   "outputs": [
    {
     "name": "stdout",
     "output_type": "stream",
     "text": [
      "40로 진행중입니다.\n",
      "\n",
      "멀티 프로세싱을 시작합니다. 현재 코어 30개 사용 중. \n",
      "1.다른 사람과 동시에 돌리지 마세요.\n",
      "2.함부로 진행중에 중단 하지마세요.\n",
      "--- 걸린시간: 17.22735095024109 ---\n",
      "normal : 3099\n",
      "abnormal : 1044\n",
      "scale_pos_weight is 2.97.\n",
      "Model is ready to running.\n"
     ]
    },
    {
     "name": "stderr",
     "output_type": "stream",
     "text": [
      "/package/anaconda3.8/lib/python3.8/site-packages/lightgbm/engine.py:177: UserWarning: Found `num_iterations` in params. Will use it instead of argument\n",
      "  _log_warning(f\"Found `{alias}` in params. Will use it instead of argument\")\n"
     ]
    },
    {
     "name": "stdout",
     "output_type": "stream",
     "text": [
      "50로 진행중입니다.\n",
      "\n",
      "멀티 프로세싱을 시작합니다. 현재 코어 30개 사용 중. \n",
      "1.다른 사람과 동시에 돌리지 마세요.\n",
      "2.함부로 진행중에 중단 하지마세요.\n",
      "--- 걸린시간: 14.167811632156372 ---\n",
      "normal : 3099\n",
      "abnormal : 1044\n",
      "scale_pos_weight is 2.97.\n",
      "Model is ready to running.\n"
     ]
    },
    {
     "name": "stderr",
     "output_type": "stream",
     "text": [
      "/package/anaconda3.8/lib/python3.8/site-packages/lightgbm/engine.py:177: UserWarning: Found `num_iterations` in params. Will use it instead of argument\n",
      "  _log_warning(f\"Found `{alias}` in params. Will use it instead of argument\")\n"
     ]
    },
    {
     "name": "stdout",
     "output_type": "stream",
     "text": [
      "64로 진행중입니다.\n",
      "\n",
      "멀티 프로세싱을 시작합니다. 현재 코어 30개 사용 중. \n",
      "1.다른 사람과 동시에 돌리지 마세요.\n",
      "2.함부로 진행중에 중단 하지마세요.\n",
      "--- 걸린시간: 13.931687355041504 ---\n",
      "normal : 3099\n",
      "abnormal : 1044\n",
      "scale_pos_weight is 2.97.\n",
      "Model is ready to running.\n"
     ]
    },
    {
     "name": "stderr",
     "output_type": "stream",
     "text": [
      "/package/anaconda3.8/lib/python3.8/site-packages/lightgbm/engine.py:177: UserWarning: Found `num_iterations` in params. Will use it instead of argument\n",
      "  _log_warning(f\"Found `{alias}` in params. Will use it instead of argument\")\n"
     ]
    },
    {
     "name": "stdout",
     "output_type": "stream",
     "text": [
      "80로 진행중입니다.\n",
      "\n",
      "멀티 프로세싱을 시작합니다. 현재 코어 30개 사용 중. \n",
      "1.다른 사람과 동시에 돌리지 마세요.\n",
      "2.함부로 진행중에 중단 하지마세요.\n",
      "--- 걸린시간: 13.894511699676514 ---\n",
      "normal : 3099\n",
      "abnormal : 1044\n",
      "scale_pos_weight is 2.97.\n",
      "Model is ready to running.\n"
     ]
    },
    {
     "name": "stderr",
     "output_type": "stream",
     "text": [
      "/package/anaconda3.8/lib/python3.8/site-packages/lightgbm/engine.py:177: UserWarning: Found `num_iterations` in params. Will use it instead of argument\n",
      "  _log_warning(f\"Found `{alias}` in params. Will use it instead of argument\")\n"
     ]
    },
    {
     "name": "stdout",
     "output_type": "stream",
     "text": [
      "100로 진행중입니다.\n",
      "\n",
      "멀티 프로세싱을 시작합니다. 현재 코어 30개 사용 중. \n",
      "1.다른 사람과 동시에 돌리지 마세요.\n",
      "2.함부로 진행중에 중단 하지마세요.\n",
      "--- 걸린시간: 14.068825244903564 ---\n",
      "normal : 3099\n",
      "abnormal : 1044\n",
      "scale_pos_weight is 2.97.\n",
      "Model is ready to running.\n"
     ]
    },
    {
     "name": "stderr",
     "output_type": "stream",
     "text": [
      "/package/anaconda3.8/lib/python3.8/site-packages/lightgbm/engine.py:177: UserWarning: Found `num_iterations` in params. Will use it instead of argument\n",
      "  _log_warning(f\"Found `{alias}` in params. Will use it instead of argument\")\n"
     ]
    },
    {
     "name": "stdout",
     "output_type": "stream",
     "text": [
      "125로 진행중입니다.\n",
      "\n",
      "멀티 프로세싱을 시작합니다. 현재 코어 30개 사용 중. \n",
      "1.다른 사람과 동시에 돌리지 마세요.\n",
      "2.함부로 진행중에 중단 하지마세요.\n",
      "--- 걸린시간: 14.171069860458374 ---\n",
      "normal : 3099\n",
      "abnormal : 1044\n",
      "scale_pos_weight is 2.97.\n",
      "Model is ready to running.\n"
     ]
    },
    {
     "name": "stderr",
     "output_type": "stream",
     "text": [
      "/package/anaconda3.8/lib/python3.8/site-packages/lightgbm/engine.py:177: UserWarning: Found `num_iterations` in params. Will use it instead of argument\n",
      "  _log_warning(f\"Found `{alias}` in params. Will use it instead of argument\")\n"
     ]
    },
    {
     "name": "stdout",
     "output_type": "stream",
     "text": [
      "128로 진행중입니다.\n",
      "\n",
      "멀티 프로세싱을 시작합니다. 현재 코어 30개 사용 중. \n",
      "1.다른 사람과 동시에 돌리지 마세요.\n",
      "2.함부로 진행중에 중단 하지마세요.\n",
      "--- 걸린시간: 13.86357307434082 ---\n",
      "normal : 3099\n",
      "abnormal : 1044\n",
      "scale_pos_weight is 2.97.\n",
      "Model is ready to running.\n"
     ]
    },
    {
     "name": "stderr",
     "output_type": "stream",
     "text": [
      "/package/anaconda3.8/lib/python3.8/site-packages/lightgbm/engine.py:177: UserWarning: Found `num_iterations` in params. Will use it instead of argument\n",
      "  _log_warning(f\"Found `{alias}` in params. Will use it instead of argument\")\n"
     ]
    },
    {
     "name": "stdout",
     "output_type": "stream",
     "text": [
      "160로 진행중입니다.\n",
      "\n",
      "멀티 프로세싱을 시작합니다. 현재 코어 30개 사용 중. \n",
      "1.다른 사람과 동시에 돌리지 마세요.\n",
      "2.함부로 진행중에 중단 하지마세요.\n",
      "--- 걸린시간: 13.999368906021118 ---\n",
      "normal : 3099\n",
      "abnormal : 1044\n",
      "scale_pos_weight is 2.97.\n",
      "Model is ready to running.\n"
     ]
    },
    {
     "name": "stderr",
     "output_type": "stream",
     "text": [
      "/package/anaconda3.8/lib/python3.8/site-packages/lightgbm/engine.py:177: UserWarning: Found `num_iterations` in params. Will use it instead of argument\n",
      "  _log_warning(f\"Found `{alias}` in params. Will use it instead of argument\")\n"
     ]
    },
    {
     "name": "stdout",
     "output_type": "stream",
     "text": [
      "200로 진행중입니다.\n",
      "\n",
      "멀티 프로세싱을 시작합니다. 현재 코어 30개 사용 중. \n",
      "1.다른 사람과 동시에 돌리지 마세요.\n",
      "2.함부로 진행중에 중단 하지마세요.\n",
      "--- 걸린시간: 13.806971073150635 ---\n",
      "normal : 3099\n",
      "abnormal : 1044\n",
      "scale_pos_weight is 2.97.\n",
      "Model is ready to running.\n"
     ]
    },
    {
     "name": "stderr",
     "output_type": "stream",
     "text": [
      "/package/anaconda3.8/lib/python3.8/site-packages/lightgbm/engine.py:177: UserWarning: Found `num_iterations` in params. Will use it instead of argument\n",
      "  _log_warning(f\"Found `{alias}` in params. Will use it instead of argument\")\n"
     ]
    },
    {
     "name": "stdout",
     "output_type": "stream",
     "text": [
      "250로 진행중입니다.\n",
      "\n",
      "멀티 프로세싱을 시작합니다. 현재 코어 30개 사용 중. \n",
      "1.다른 사람과 동시에 돌리지 마세요.\n",
      "2.함부로 진행중에 중단 하지마세요.\n",
      "--- 걸린시간: 14.177083730697632 ---\n",
      "normal : 3099\n",
      "abnormal : 1044\n",
      "scale_pos_weight is 2.97.\n",
      "Model is ready to running.\n"
     ]
    },
    {
     "name": "stderr",
     "output_type": "stream",
     "text": [
      "/package/anaconda3.8/lib/python3.8/site-packages/lightgbm/engine.py:177: UserWarning: Found `num_iterations` in params. Will use it instead of argument\n",
      "  _log_warning(f\"Found `{alias}` in params. Will use it instead of argument\")\n"
     ]
    },
    {
     "name": "stdout",
     "output_type": "stream",
     "text": [
      "320로 진행중입니다.\n",
      "\n",
      "멀티 프로세싱을 시작합니다. 현재 코어 30개 사용 중. \n",
      "1.다른 사람과 동시에 돌리지 마세요.\n",
      "2.함부로 진행중에 중단 하지마세요.\n",
      "--- 걸린시간: 13.084312915802002 ---\n",
      "normal : 3099\n",
      "abnormal : 1044\n",
      "scale_pos_weight is 2.97.\n",
      "Model is ready to running.\n"
     ]
    },
    {
     "name": "stderr",
     "output_type": "stream",
     "text": [
      "/package/anaconda3.8/lib/python3.8/site-packages/lightgbm/engine.py:177: UserWarning: Found `num_iterations` in params. Will use it instead of argument\n",
      "  _log_warning(f\"Found `{alias}` in params. Will use it instead of argument\")\n"
     ]
    },
    {
     "name": "stdout",
     "output_type": "stream",
     "text": [
      "400로 진행중입니다.\n",
      "\n",
      "멀티 프로세싱을 시작합니다. 현재 코어 30개 사용 중. \n",
      "1.다른 사람과 동시에 돌리지 마세요.\n",
      "2.함부로 진행중에 중단 하지마세요.\n",
      "--- 걸린시간: 13.37392282485962 ---\n",
      "normal : 3099\n",
      "abnormal : 1044\n",
      "scale_pos_weight is 2.97.\n",
      "Model is ready to running.\n"
     ]
    },
    {
     "name": "stderr",
     "output_type": "stream",
     "text": [
      "/package/anaconda3.8/lib/python3.8/site-packages/lightgbm/engine.py:177: UserWarning: Found `num_iterations` in params. Will use it instead of argument\n",
      "  _log_warning(f\"Found `{alias}` in params. Will use it instead of argument\")\n"
     ]
    },
    {
     "name": "stdout",
     "output_type": "stream",
     "text": [
      "500로 진행중입니다.\n",
      "\n",
      "멀티 프로세싱을 시작합니다. 현재 코어 30개 사용 중. \n",
      "1.다른 사람과 동시에 돌리지 마세요.\n",
      "2.함부로 진행중에 중단 하지마세요.\n",
      "--- 걸린시간: 14.794359922409058 ---\n",
      "normal : 3099\n",
      "abnormal : 1044\n",
      "scale_pos_weight is 2.97.\n",
      "Model is ready to running.\n"
     ]
    },
    {
     "name": "stderr",
     "output_type": "stream",
     "text": [
      "/package/anaconda3.8/lib/python3.8/site-packages/lightgbm/engine.py:177: UserWarning: Found `num_iterations` in params. Will use it instead of argument\n",
      "  _log_warning(f\"Found `{alias}` in params. Will use it instead of argument\")\n"
     ]
    },
    {
     "name": "stdout",
     "output_type": "stream",
     "text": [
      "640로 진행중입니다.\n",
      "\n",
      "멀티 프로세싱을 시작합니다. 현재 코어 30개 사용 중. \n",
      "1.다른 사람과 동시에 돌리지 마세요.\n",
      "2.함부로 진행중에 중단 하지마세요.\n",
      "--- 걸린시간: 13.435714483261108 ---\n",
      "normal : 3099\n",
      "abnormal : 1044\n",
      "scale_pos_weight is 2.97.\n",
      "Model is ready to running.\n"
     ]
    },
    {
     "name": "stderr",
     "output_type": "stream",
     "text": [
      "/package/anaconda3.8/lib/python3.8/site-packages/lightgbm/engine.py:177: UserWarning: Found `num_iterations` in params. Will use it instead of argument\n",
      "  _log_warning(f\"Found `{alias}` in params. Will use it instead of argument\")\n"
     ]
    },
    {
     "name": "stdout",
     "output_type": "stream",
     "text": [
      "800로 진행중입니다.\n",
      "\n",
      "멀티 프로세싱을 시작합니다. 현재 코어 30개 사용 중. \n",
      "1.다른 사람과 동시에 돌리지 마세요.\n",
      "2.함부로 진행중에 중단 하지마세요.\n",
      "--- 걸린시간: 13.526068210601807 ---\n",
      "normal : 3099\n",
      "abnormal : 1044\n",
      "scale_pos_weight is 2.97.\n",
      "Model is ready to running.\n"
     ]
    },
    {
     "name": "stderr",
     "output_type": "stream",
     "text": [
      "/package/anaconda3.8/lib/python3.8/site-packages/lightgbm/engine.py:177: UserWarning: Found `num_iterations` in params. Will use it instead of argument\n",
      "  _log_warning(f\"Found `{alias}` in params. Will use it instead of argument\")\n"
     ]
    },
    {
     "name": "stdout",
     "output_type": "stream",
     "text": [
      "1000로 진행중입니다.\n",
      "\n",
      "멀티 프로세싱을 시작합니다. 현재 코어 30개 사용 중. \n",
      "1.다른 사람과 동시에 돌리지 마세요.\n",
      "2.함부로 진행중에 중단 하지마세요.\n",
      "--- 걸린시간: 16.36445379257202 ---\n",
      "normal : 3099\n",
      "abnormal : 1044\n",
      "scale_pos_weight is 2.97.\n",
      "Model is ready to running.\n"
     ]
    },
    {
     "name": "stderr",
     "output_type": "stream",
     "text": [
      "/package/anaconda3.8/lib/python3.8/site-packages/lightgbm/engine.py:177: UserWarning: Found `num_iterations` in params. Will use it instead of argument\n",
      "  _log_warning(f\"Found `{alias}` in params. Will use it instead of argument\")\n"
     ]
    },
    {
     "name": "stdout",
     "output_type": "stream",
     "text": [
      "1600로 진행중입니다.\n",
      "\n",
      "멀티 프로세싱을 시작합니다. 현재 코어 30개 사용 중. \n",
      "1.다른 사람과 동시에 돌리지 마세요.\n",
      "2.함부로 진행중에 중단 하지마세요.\n",
      "--- 걸린시간: 13.685886859893799 ---\n",
      "normal : 3099\n",
      "abnormal : 1044\n",
      "scale_pos_weight is 2.97.\n",
      "Model is ready to running.\n"
     ]
    },
    {
     "name": "stderr",
     "output_type": "stream",
     "text": [
      "/package/anaconda3.8/lib/python3.8/site-packages/lightgbm/engine.py:177: UserWarning: Found `num_iterations` in params. Will use it instead of argument\n",
      "  _log_warning(f\"Found `{alias}` in params. Will use it instead of argument\")\n"
     ]
    },
    {
     "name": "stdout",
     "output_type": "stream",
     "text": [
      "2000로 진행중입니다.\n",
      "\n",
      "멀티 프로세싱을 시작합니다. 현재 코어 30개 사용 중. \n",
      "1.다른 사람과 동시에 돌리지 마세요.\n",
      "2.함부로 진행중에 중단 하지마세요.\n",
      "--- 걸린시간: 16.396655321121216 ---\n",
      "normal : 3099\n",
      "abnormal : 1044\n",
      "scale_pos_weight is 2.97.\n",
      "Model is ready to running.\n"
     ]
    },
    {
     "name": "stderr",
     "output_type": "stream",
     "text": [
      "/package/anaconda3.8/lib/python3.8/site-packages/lightgbm/engine.py:177: UserWarning: Found `num_iterations` in params. Will use it instead of argument\n",
      "  _log_warning(f\"Found `{alias}` in params. Will use it instead of argument\")\n"
     ]
    },
    {
     "name": "stdout",
     "output_type": "stream",
     "text": [
      "3200로 진행중입니다.\n",
      "\n",
      "멀티 프로세싱을 시작합니다. 현재 코어 30개 사용 중. \n",
      "1.다른 사람과 동시에 돌리지 마세요.\n",
      "2.함부로 진행중에 중단 하지마세요.\n",
      "--- 걸린시간: 13.769692182540894 ---\n",
      "normal : 3099\n",
      "abnormal : 1044\n",
      "scale_pos_weight is 2.97.\n",
      "Model is ready to running.\n"
     ]
    },
    {
     "name": "stderr",
     "output_type": "stream",
     "text": [
      "/package/anaconda3.8/lib/python3.8/site-packages/lightgbm/engine.py:177: UserWarning: Found `num_iterations` in params. Will use it instead of argument\n",
      "  _log_warning(f\"Found `{alias}` in params. Will use it instead of argument\")\n"
     ]
    },
    {
     "name": "stdout",
     "output_type": "stream",
     "text": [
      "4000로 진행중입니다.\n",
      "\n",
      "멀티 프로세싱을 시작합니다. 현재 코어 30개 사용 중. \n",
      "1.다른 사람과 동시에 돌리지 마세요.\n",
      "2.함부로 진행중에 중단 하지마세요.\n",
      "--- 걸린시간: 16.648162364959717 ---\n",
      "normal : 3099\n",
      "abnormal : 1044\n",
      "scale_pos_weight is 2.97.\n",
      "Model is ready to running.\n"
     ]
    },
    {
     "name": "stderr",
     "output_type": "stream",
     "text": [
      "/package/anaconda3.8/lib/python3.8/site-packages/lightgbm/engine.py:177: UserWarning: Found `num_iterations` in params. Will use it instead of argument\n",
      "  _log_warning(f\"Found `{alias}` in params. Will use it instead of argument\")\n"
     ]
    },
    {
     "name": "stdout",
     "output_type": "stream",
     "text": [
      "8000로 진행중입니다.\n",
      "\n",
      "멀티 프로세싱을 시작합니다. 현재 코어 30개 사용 중. \n",
      "1.다른 사람과 동시에 돌리지 마세요.\n",
      "2.함부로 진행중에 중단 하지마세요.\n",
      "--- 걸린시간: 17.746797561645508 ---\n",
      "normal : 3099\n",
      "abnormal : 1044\n",
      "scale_pos_weight is 2.97.\n",
      "Model is ready to running.\n"
     ]
    },
    {
     "name": "stderr",
     "output_type": "stream",
     "text": [
      "/package/anaconda3.8/lib/python3.8/site-packages/lightgbm/engine.py:177: UserWarning: Found `num_iterations` in params. Will use it instead of argument\n",
      "  _log_warning(f\"Found `{alias}` in params. Will use it instead of argument\")\n"
     ]
    },
    {
     "name": "stdout",
     "output_type": "stream",
     "text": [
      "10000로 진행중입니다.\n",
      "\n",
      "멀티 프로세싱을 시작합니다. 현재 코어 30개 사용 중. \n",
      "1.다른 사람과 동시에 돌리지 마세요.\n",
      "2.함부로 진행중에 중단 하지마세요.\n",
      "--- 걸린시간: 16.83266305923462 ---\n",
      "normal : 3099\n",
      "abnormal : 1044\n",
      "scale_pos_weight is 2.97.\n",
      "Model is ready to running.\n"
     ]
    },
    {
     "name": "stderr",
     "output_type": "stream",
     "text": [
      "/package/anaconda3.8/lib/python3.8/site-packages/lightgbm/engine.py:177: UserWarning: Found `num_iterations` in params. Will use it instead of argument\n",
      "  _log_warning(f\"Found `{alias}` in params. Will use it instead of argument\")\n"
     ]
    },
    {
     "name": "stdout",
     "output_type": "stream",
     "text": [
      "13000로 진행중입니다.\n",
      "\n",
      "멀티 프로세싱을 시작합니다. 현재 코어 30개 사용 중. \n",
      "1.다른 사람과 동시에 돌리지 마세요.\n",
      "2.함부로 진행중에 중단 하지마세요.\n",
      "--- 걸린시간: 19.813520193099976 ---\n",
      "normal : 3099\n",
      "abnormal : 1044\n",
      "scale_pos_weight is 2.97.\n",
      "Model is ready to running.\n"
     ]
    },
    {
     "name": "stderr",
     "output_type": "stream",
     "text": [
      "/package/anaconda3.8/lib/python3.8/site-packages/lightgbm/engine.py:177: UserWarning: Found `num_iterations` in params. Will use it instead of argument\n",
      "  _log_warning(f\"Found `{alias}` in params. Will use it instead of argument\")\n"
     ]
    }
   ],
   "source": [
    "result = []\n",
    "\n",
    "for target_sr in target_lst:\n",
    "    print(f'{target_sr}로 진행중입니다.')\n",
    "    fan_result = load_data_using_multi_process(fan_files, sr = 16000, target_sr = target_sr, res_type = 'kaiser_best') # 데이터 target_sr로 부르기\n",
    "    \n",
    "    # librosa.resample하게되면 shape이 ( file수, 1, column수 ) squeeze함수는 shape에서 1인부분 제거 1의의미 모르겠음\n",
    "    fan_squeeze_result = np.squeeze(fan_result) \n",
    "    \n",
    "    fan_result_df = pd.DataFrame(fan_squeeze_result)\n",
    "    \n",
    "    data = fan_result_df.iloc[:, :-1]\n",
    "    target = fan_result_df.iloc[:, -1]\n",
    "    \n",
    "    X_train, X_test, y_train, y_test = train_test_split(data, target, test_size=0.2, shuffle=True, stratify=target, random_state=42)\n",
    "    \n",
    "    model = model_lgbm(fan_result_df) # using (model.py)\n",
    "    \n",
    "    model.fit(X_train, y_train)\n",
    "\n",
    "    y_pred = model.predict(X_test)\n",
    "    y_pred_prob = model.predict_proba(X_test)\n",
    "    \n",
    "    acc = accuracy_score(y_test, y_pred) \n",
    "    recall = recall_score(y_test, y_pred)\n",
    "    precision = precision_score(y_test, y_pred)\n",
    "    f1 = f1_score(y_test, y_pred)    \n",
    "    auc_score = roc_auc_score(y_test, y_pred_prob[ :, 1 ])\n",
    "    \n",
    "    result.append([ target_sr, round(acc, 3) ,round(recall, 3), round(precision, 3), round(f1, 3), round(auc_score, 3) ])\n",
    "\n",
    "result_df = pd.DataFrame(result, columns = [ 'target_sr', 'acc', 'recall', 'precision', 'f1', 'auc_score'])\n",
    "result_df.to_csv('/project/time_series/cchc0427/id_num2/fan_target_sr_id04.csv', index = False)\n"
   ]
  },
  {
   "cell_type": "code",
   "execution_count": 15,
   "id": "601ea8e6",
   "metadata": {},
   "outputs": [
    {
     "name": "stdout",
     "output_type": "stream",
     "text": [
      "abs_max(our_custom)로 진행중입니다.\n",
      "\n",
      "멀티 프로세싱을 시작합니다. 현재 코어 30개 사용 중. \n",
      "1.다른 사람과 동시에 돌리지 마세요.\n",
      "2.함부로 진행중에 중단 하지마세요.\n",
      "--- 걸린시간: 8.84999394416809 ---\n",
      "normal : 3099\n",
      "abnormal : 1044\n",
      "scale_pos_weight is 2.97.\n",
      "Model is ready to running.\n"
     ]
    },
    {
     "name": "stderr",
     "output_type": "stream",
     "text": [
      "/package/anaconda3.8/lib/python3.8/site-packages/lightgbm/engine.py:177: UserWarning: Found `num_iterations` in params. Will use it instead of argument\n",
      "  _log_warning(f\"Found `{alias}` in params. Will use it instead of argument\")\n"
     ]
    },
    {
     "name": "stdout",
     "output_type": "stream",
     "text": [
      "kaiser_best로 진행중입니다.\n",
      "\n",
      "멀티 프로세싱을 시작합니다. 현재 코어 30개 사용 중. \n",
      "1.다른 사람과 동시에 돌리지 마세요.\n",
      "2.함부로 진행중에 중단 하지마세요.\n",
      "--- 걸린시간: 15.8693106174469 ---\n",
      "normal : 3099\n",
      "abnormal : 1044\n",
      "scale_pos_weight is 2.97.\n",
      "Model is ready to running.\n"
     ]
    },
    {
     "name": "stderr",
     "output_type": "stream",
     "text": [
      "/package/anaconda3.8/lib/python3.8/site-packages/lightgbm/engine.py:177: UserWarning: Found `num_iterations` in params. Will use it instead of argument\n",
      "  _log_warning(f\"Found `{alias}` in params. Will use it instead of argument\")\n"
     ]
    },
    {
     "name": "stdout",
     "output_type": "stream",
     "text": [
      "kaiser_fast로 진행중입니다.\n",
      "\n",
      "멀티 프로세싱을 시작합니다. 현재 코어 30개 사용 중. \n",
      "1.다른 사람과 동시에 돌리지 마세요.\n",
      "2.함부로 진행중에 중단 하지마세요.\n",
      "--- 걸린시간: 5.297942876815796 ---\n",
      "normal : 3099\n",
      "abnormal : 1044\n",
      "scale_pos_weight is 2.97.\n",
      "Model is ready to running.\n"
     ]
    },
    {
     "name": "stderr",
     "output_type": "stream",
     "text": [
      "/package/anaconda3.8/lib/python3.8/site-packages/lightgbm/engine.py:177: UserWarning: Found `num_iterations` in params. Will use it instead of argument\n",
      "  _log_warning(f\"Found `{alias}` in params. Will use it instead of argument\")\n"
     ]
    },
    {
     "name": "stdout",
     "output_type": "stream",
     "text": [
      "fft로 진행중입니다.\n",
      "\n",
      "멀티 프로세싱을 시작합니다. 현재 코어 30개 사용 중. \n",
      "1.다른 사람과 동시에 돌리지 마세요.\n",
      "2.함부로 진행중에 중단 하지마세요.\n",
      "--- 걸린시간: 2.2239818572998047 ---\n",
      "normal : 3099\n",
      "abnormal : 1044\n",
      "scale_pos_weight is 2.97.\n",
      "Model is ready to running.\n"
     ]
    },
    {
     "name": "stderr",
     "output_type": "stream",
     "text": [
      "/package/anaconda3.8/lib/python3.8/site-packages/lightgbm/engine.py:177: UserWarning: Found `num_iterations` in params. Will use it instead of argument\n",
      "  _log_warning(f\"Found `{alias}` in params. Will use it instead of argument\")\n"
     ]
    },
    {
     "name": "stdout",
     "output_type": "stream",
     "text": [
      "scipy로 진행중입니다.\n",
      "\n",
      "멀티 프로세싱을 시작합니다. 현재 코어 30개 사용 중. \n",
      "1.다른 사람과 동시에 돌리지 마세요.\n",
      "2.함부로 진행중에 중단 하지마세요.\n",
      "--- 걸린시간: 2.448821783065796 ---\n",
      "normal : 3099\n",
      "abnormal : 1044\n",
      "scale_pos_weight is 2.97.\n",
      "Model is ready to running.\n"
     ]
    },
    {
     "name": "stderr",
     "output_type": "stream",
     "text": [
      "/package/anaconda3.8/lib/python3.8/site-packages/lightgbm/engine.py:177: UserWarning: Found `num_iterations` in params. Will use it instead of argument\n",
      "  _log_warning(f\"Found `{alias}` in params. Will use it instead of argument\")\n"
     ]
    },
    {
     "name": "stdout",
     "output_type": "stream",
     "text": [
      "polyphase로 진행중입니다.\n",
      "\n",
      "멀티 프로세싱을 시작합니다. 현재 코어 30개 사용 중. \n",
      "1.다른 사람과 동시에 돌리지 마세요.\n",
      "2.함부로 진행중에 중단 하지마세요.\n",
      "--- 걸린시간: 2.669910430908203 ---\n",
      "normal : 3099\n",
      "abnormal : 1044\n",
      "scale_pos_weight is 2.97.\n",
      "Model is ready to running.\n"
     ]
    },
    {
     "name": "stderr",
     "output_type": "stream",
     "text": [
      "/package/anaconda3.8/lib/python3.8/site-packages/lightgbm/engine.py:177: UserWarning: Found `num_iterations` in params. Will use it instead of argument\n",
      "  _log_warning(f\"Found `{alias}` in params. Will use it instead of argument\")\n"
     ]
    },
    {
     "name": "stdout",
     "output_type": "stream",
     "text": [
      "linear로 진행중입니다.\n",
      "\n",
      "멀티 프로세싱을 시작합니다. 현재 코어 30개 사용 중. \n",
      "1.다른 사람과 동시에 돌리지 마세요.\n",
      "2.함부로 진행중에 중단 하지마세요.\n",
      "--- 걸린시간: 2.265089273452759 ---\n",
      "normal : 3099\n",
      "abnormal : 1044\n",
      "scale_pos_weight is 2.97.\n",
      "Model is ready to running.\n"
     ]
    },
    {
     "name": "stderr",
     "output_type": "stream",
     "text": [
      "/package/anaconda3.8/lib/python3.8/site-packages/lightgbm/engine.py:177: UserWarning: Found `num_iterations` in params. Will use it instead of argument\n",
      "  _log_warning(f\"Found `{alias}` in params. Will use it instead of argument\")\n"
     ]
    },
    {
     "name": "stdout",
     "output_type": "stream",
     "text": [
      "zero_order_hold로 진행중입니다.\n",
      "\n",
      "멀티 프로세싱을 시작합니다. 현재 코어 30개 사용 중. \n",
      "1.다른 사람과 동시에 돌리지 마세요.\n",
      "2.함부로 진행중에 중단 하지마세요.\n",
      "--- 걸린시간: 2.3026485443115234 ---\n",
      "normal : 3099\n",
      "abnormal : 1044\n",
      "scale_pos_weight is 2.97.\n",
      "Model is ready to running.\n"
     ]
    },
    {
     "name": "stderr",
     "output_type": "stream",
     "text": [
      "/package/anaconda3.8/lib/python3.8/site-packages/lightgbm/engine.py:177: UserWarning: Found `num_iterations` in params. Will use it instead of argument\n",
      "  _log_warning(f\"Found `{alias}` in params. Will use it instead of argument\")\n"
     ]
    },
    {
     "name": "stdout",
     "output_type": "stream",
     "text": [
      "sinc_best로 진행중입니다.\n",
      "\n",
      "멀티 프로세싱을 시작합니다. 현재 코어 30개 사용 중. \n",
      "1.다른 사람과 동시에 돌리지 마세요.\n",
      "2.함부로 진행중에 중단 하지마세요.\n",
      "--- 걸린시간: 11.730921268463135 ---\n",
      "normal : 3099\n",
      "abnormal : 1044\n",
      "scale_pos_weight is 2.97.\n",
      "Model is ready to running.\n"
     ]
    },
    {
     "name": "stderr",
     "output_type": "stream",
     "text": [
      "/package/anaconda3.8/lib/python3.8/site-packages/lightgbm/engine.py:177: UserWarning: Found `num_iterations` in params. Will use it instead of argument\n",
      "  _log_warning(f\"Found `{alias}` in params. Will use it instead of argument\")\n"
     ]
    },
    {
     "name": "stdout",
     "output_type": "stream",
     "text": [
      "sinc_medium로 진행중입니다.\n",
      "\n",
      "멀티 프로세싱을 시작합니다. 현재 코어 30개 사용 중. \n",
      "1.다른 사람과 동시에 돌리지 마세요.\n",
      "2.함부로 진행중에 중단 하지마세요.\n",
      "--- 걸린시간: 5.029473066329956 ---\n",
      "normal : 3099\n",
      "abnormal : 1044\n",
      "scale_pos_weight is 2.97.\n",
      "Model is ready to running.\n"
     ]
    },
    {
     "name": "stderr",
     "output_type": "stream",
     "text": [
      "/package/anaconda3.8/lib/python3.8/site-packages/lightgbm/engine.py:177: UserWarning: Found `num_iterations` in params. Will use it instead of argument\n",
      "  _log_warning(f\"Found `{alias}` in params. Will use it instead of argument\")\n"
     ]
    },
    {
     "name": "stdout",
     "output_type": "stream",
     "text": [
      "sinc_fastest로 진행중입니다.\n",
      "\n",
      "멀티 프로세싱을 시작합니다. 현재 코어 30개 사용 중. \n",
      "1.다른 사람과 동시에 돌리지 마세요.\n",
      "2.함부로 진행중에 중단 하지마세요.\n",
      "--- 걸린시간: 3.346489906311035 ---\n",
      "normal : 3099\n",
      "abnormal : 1044\n",
      "scale_pos_weight is 2.97.\n",
      "Model is ready to running.\n"
     ]
    },
    {
     "name": "stderr",
     "output_type": "stream",
     "text": [
      "/package/anaconda3.8/lib/python3.8/site-packages/lightgbm/engine.py:177: UserWarning: Found `num_iterations` in params. Will use it instead of argument\n",
      "  _log_warning(f\"Found `{alias}` in params. Will use it instead of argument\")\n"
     ]
    },
    {
     "name": "stdout",
     "output_type": "stream",
     "text": [
      "soxr_vhq로 진행중입니다.\n",
      "\n",
      "멀티 프로세싱을 시작합니다. 현재 코어 30개 사용 중. \n",
      "1.다른 사람과 동시에 돌리지 마세요.\n",
      "2.함부로 진행중에 중단 하지마세요.\n",
      "--- 걸린시간: 2.4211204051971436 ---\n",
      "normal : 3099\n",
      "abnormal : 1044\n",
      "scale_pos_weight is 2.97.\n",
      "Model is ready to running.\n"
     ]
    },
    {
     "name": "stderr",
     "output_type": "stream",
     "text": [
      "/package/anaconda3.8/lib/python3.8/site-packages/lightgbm/engine.py:177: UserWarning: Found `num_iterations` in params. Will use it instead of argument\n",
      "  _log_warning(f\"Found `{alias}` in params. Will use it instead of argument\")\n"
     ]
    },
    {
     "name": "stdout",
     "output_type": "stream",
     "text": [
      "soxr_hq로 진행중입니다.\n",
      "\n",
      "멀티 프로세싱을 시작합니다. 현재 코어 30개 사용 중. \n",
      "1.다른 사람과 동시에 돌리지 마세요.\n",
      "2.함부로 진행중에 중단 하지마세요.\n",
      "--- 걸린시간: 2.2138659954071045 ---\n",
      "normal : 3099\n",
      "abnormal : 1044\n",
      "scale_pos_weight is 2.97.\n",
      "Model is ready to running.\n"
     ]
    },
    {
     "name": "stderr",
     "output_type": "stream",
     "text": [
      "/package/anaconda3.8/lib/python3.8/site-packages/lightgbm/engine.py:177: UserWarning: Found `num_iterations` in params. Will use it instead of argument\n",
      "  _log_warning(f\"Found `{alias}` in params. Will use it instead of argument\")\n"
     ]
    },
    {
     "name": "stdout",
     "output_type": "stream",
     "text": [
      "soxr_mq로 진행중입니다.\n",
      "\n",
      "멀티 프로세싱을 시작합니다. 현재 코어 30개 사용 중. \n",
      "1.다른 사람과 동시에 돌리지 마세요.\n",
      "2.함부로 진행중에 중단 하지마세요.\n",
      "--- 걸린시간: 2.2364847660064697 ---\n",
      "normal : 3099\n",
      "abnormal : 1044\n",
      "scale_pos_weight is 2.97.\n",
      "Model is ready to running.\n"
     ]
    },
    {
     "name": "stderr",
     "output_type": "stream",
     "text": [
      "/package/anaconda3.8/lib/python3.8/site-packages/lightgbm/engine.py:177: UserWarning: Found `num_iterations` in params. Will use it instead of argument\n",
      "  _log_warning(f\"Found `{alias}` in params. Will use it instead of argument\")\n"
     ]
    },
    {
     "name": "stdout",
     "output_type": "stream",
     "text": [
      "soxr_lq로 진행중입니다.\n",
      "\n",
      "멀티 프로세싱을 시작합니다. 현재 코어 30개 사용 중. \n",
      "1.다른 사람과 동시에 돌리지 마세요.\n",
      "2.함부로 진행중에 중단 하지마세요.\n",
      "--- 걸린시간: 2.288701295852661 ---\n",
      "normal : 3099\n",
      "abnormal : 1044\n",
      "scale_pos_weight is 2.97.\n",
      "Model is ready to running.\n"
     ]
    },
    {
     "name": "stderr",
     "output_type": "stream",
     "text": [
      "/package/anaconda3.8/lib/python3.8/site-packages/lightgbm/engine.py:177: UserWarning: Found `num_iterations` in params. Will use it instead of argument\n",
      "  _log_warning(f\"Found `{alias}` in params. Will use it instead of argument\")\n"
     ]
    },
    {
     "name": "stdout",
     "output_type": "stream",
     "text": [
      "soxr_hq로 진행중입니다.\n",
      "\n",
      "멀티 프로세싱을 시작합니다. 현재 코어 30개 사용 중. \n",
      "1.다른 사람과 동시에 돌리지 마세요.\n",
      "2.함부로 진행중에 중단 하지마세요.\n",
      "--- 걸린시간: 2.436673879623413 ---\n",
      "normal : 3099\n",
      "abnormal : 1044\n",
      "scale_pos_weight is 2.97.\n",
      "Model is ready to running.\n"
     ]
    },
    {
     "name": "stderr",
     "output_type": "stream",
     "text": [
      "/package/anaconda3.8/lib/python3.8/site-packages/lightgbm/engine.py:177: UserWarning: Found `num_iterations` in params. Will use it instead of argument\n",
      "  _log_warning(f\"Found `{alias}` in params. Will use it instead of argument\")\n"
     ]
    },
    {
     "name": "stdout",
     "output_type": "stream",
     "text": [
      "soxr_qq로 진행중입니다.\n",
      "\n",
      "멀티 프로세싱을 시작합니다. 현재 코어 30개 사용 중. \n",
      "1.다른 사람과 동시에 돌리지 마세요.\n",
      "2.함부로 진행중에 중단 하지마세요.\n",
      "--- 걸린시간: 2.2728445529937744 ---\n",
      "normal : 3099\n",
      "abnormal : 1044\n",
      "scale_pos_weight is 2.97.\n",
      "Model is ready to running.\n"
     ]
    },
    {
     "name": "stderr",
     "output_type": "stream",
     "text": [
      "/package/anaconda3.8/lib/python3.8/site-packages/lightgbm/engine.py:177: UserWarning: Found `num_iterations` in params. Will use it instead of argument\n",
      "  _log_warning(f\"Found `{alias}` in params. Will use it instead of argument\")\n"
     ]
    }
   ],
   "source": [
    "sampling_lst = ['abs_max(our_custom)',\n",
    "                'kaiser_best',\n",
    "                'kaiser_fast',\n",
    "                'fft',\n",
    "                'scipy',\n",
    "                'polyphase',\n",
    "                'linear',\n",
    "                'zero_order_hold',\n",
    "                'sinc_best',\n",
    "                'sinc_medium' ,\n",
    "                'sinc_fastest',\n",
    "                'soxr_vhq',\n",
    "                'soxr_hq',\n",
    "                'soxr_mq',\n",
    "                'soxr_lq',\n",
    "                'soxr_hq',\n",
    "                'soxr_qq']\n",
    "target_sr = 125\n",
    "result = []\n",
    "\n",
    "for res_type in sampling_lst:\n",
    "    print(f'{res_type}로 진행중입니다.')\n",
    "    fan_result = fan_result = load_data_using_multi_process(fan_file, sr = 16000, target_sr = target_sr, res_type = res_type) # 데이터 target_sr로 부르기\n",
    "    \n",
    "    fan_result_df = pd.DataFrame(fan_result)\n",
    "    \n",
    "    data = fan_result_df.iloc[:, :-1]\n",
    "    target = fan_result_df.iloc[:, -1]\n",
    "    \n",
    "    X_train, X_test, y_train, y_test = train_test_split(data, target, test_size=0.2, shuffle=True, stratify=target, random_state=42)\n",
    "    \n",
    "    model = model_lgbm(fan_result_df) # using (model.py)\n",
    "    \n",
    "    model.fit(X_train, y_train)\n",
    "\n",
    "    y_pred = model.predict(X_test)\n",
    "    y_pred_prob = model.predict_proba(X_test)\n",
    "    \n",
    "    acc = accuracy_score(y_test, y_pred) \n",
    "    recall = recall_score(y_test, y_pred)\n",
    "    precision = precision_score(y_test, y_pred)\n",
    "    f1 = f1_score(y_test, y_pred)    \n",
    "    auc_score = roc_auc_score(y_test, y_pred_prob[ :, 1 ])\n",
    "    \n",
    "    result.append([ res_type, round(acc, 3) ,round(recall, 3), round(precision, 3), round(f1, 3), round(auc_score, 3) ])\n",
    "\n",
    "result_df = pd.DataFrame(result, columns = [ 'res_type', 'acc', 'recall', 'precision', 'f1', 'auc_score'])\n",
    "result_df.to_csv('/project/time_series/cchc0427/id_num/fan_id04_res_type.csv', index = False)\n"
   ]
  },
  {
   "cell_type": "markdown",
   "id": "1791e9c5",
   "metadata": {},
   "source": [
    "# id06"
   ]
  },
  {
   "cell_type": "code",
   "execution_count": 16,
   "id": "2bf5c2a2",
   "metadata": {},
   "outputs": [
    {
     "name": "stdout",
     "output_type": "stream",
     "text": [
      "1376 + 1376 + 1376 = 4128\n"
     ]
    }
   ],
   "source": [
    "fan_files0_id06 = glob.glob(fan_path + '/0/id_06/*/*')\n",
    "fan_files6_id06 = glob.glob(fan_path + '/6/id_06/*/*')\n",
    "fan_files_6_id06 = glob.glob( fan_path + '/_6/id_06/*/*')\n",
    "fan_file = fan_files0_id06 + fan_files6_id06 + fan_files_6_id06\n",
    "print(f'{len(fan_files0_id06)} + {len(fan_files6_id06)} + {len(fan_files_6_id06)} = {len(fan_file)}')"
   ]
  },
  {
   "cell_type": "code",
   "execution_count": 17,
   "id": "e553d934",
   "metadata": {},
   "outputs": [
    {
     "ename": "NameError",
     "evalue": "name 'target_lst' is not defined",
     "output_type": "error",
     "traceback": [
      "\u001b[0;31m---------------------------------------------------------------------------\u001b[0m",
      "\u001b[0;31mNameError\u001b[0m                                 Traceback (most recent call last)",
      "\u001b[0;32m/tmp/ipykernel_165649/778458529.py\u001b[0m in \u001b[0;36m<module>\u001b[0;34m\u001b[0m\n\u001b[1;32m      1\u001b[0m \u001b[0mresult\u001b[0m \u001b[0;34m=\u001b[0m \u001b[0;34m[\u001b[0m\u001b[0;34m]\u001b[0m\u001b[0;34m\u001b[0m\u001b[0;34m\u001b[0m\u001b[0m\n\u001b[1;32m      2\u001b[0m \u001b[0;34m\u001b[0m\u001b[0m\n\u001b[0;32m----> 3\u001b[0;31m \u001b[0;32mfor\u001b[0m \u001b[0mtarget_sr\u001b[0m \u001b[0;32min\u001b[0m \u001b[0mtarget_lst\u001b[0m\u001b[0;34m:\u001b[0m\u001b[0;34m\u001b[0m\u001b[0;34m\u001b[0m\u001b[0m\n\u001b[0m\u001b[1;32m      4\u001b[0m     \u001b[0mprint\u001b[0m\u001b[0;34m(\u001b[0m\u001b[0;34mf'{target_sr}로 진행중입니다.'\u001b[0m\u001b[0;34m)\u001b[0m\u001b[0;34m\u001b[0m\u001b[0;34m\u001b[0m\u001b[0m\n\u001b[1;32m      5\u001b[0m     \u001b[0mfan_result\u001b[0m \u001b[0;34m=\u001b[0m \u001b[0mload_data_using_multi_process\u001b[0m\u001b[0;34m(\u001b[0m\u001b[0mfan_files\u001b[0m\u001b[0;34m,\u001b[0m \u001b[0msr\u001b[0m \u001b[0;34m=\u001b[0m \u001b[0;36m16000\u001b[0m\u001b[0;34m,\u001b[0m \u001b[0mtarget_sr\u001b[0m \u001b[0;34m=\u001b[0m \u001b[0mtarget_sr\u001b[0m\u001b[0;34m,\u001b[0m \u001b[0mres_type\u001b[0m \u001b[0;34m=\u001b[0m \u001b[0;34m'kaiser_best'\u001b[0m\u001b[0;34m)\u001b[0m \u001b[0;31m# 데이터 target_sr로 부르기\u001b[0m\u001b[0;34m\u001b[0m\u001b[0;34m\u001b[0m\u001b[0m\n",
      "\u001b[0;31mNameError\u001b[0m: name 'target_lst' is not defined"
     ]
    }
   ],
   "source": [
    "result = []\n",
    "\n",
    "for target_sr in target_lst:\n",
    "    print(f'{target_sr}로 진행중입니다.')\n",
    "    fan_result = load_data_using_multi_process(fan_files, sr = 16000, target_sr = target_sr, res_type = 'kaiser_best') # 데이터 target_sr로 부르기\n",
    "    \n",
    "    # librosa.resample하게되면 shape이 ( file수, 1, column수 ) squeeze함수는 shape에서 1인부분 제거 1의의미 모르겠음\n",
    "    fan_squeeze_result = np.squeeze(fan_result) \n",
    "    \n",
    "    fan_result_df = pd.DataFrame(fan_squeeze_result)\n",
    "    \n",
    "    data = fan_result_df.iloc[:, :-1]\n",
    "    target = fan_result_df.iloc[:, -1]\n",
    "    \n",
    "    X_train, X_test, y_train, y_test = train_test_split(data, target, test_size=0.2, shuffle=True, stratify=target, random_state=42)\n",
    "    \n",
    "    model = model_lgbm(fan_result_df) # using (model.py)\n",
    "    \n",
    "    model.fit(X_train, y_train)\n",
    "\n",
    "    y_pred = model.predict(X_test)\n",
    "    y_pred_prob = model.predict_proba(X_test)\n",
    "    \n",
    "    acc = accuracy_score(y_test, y_pred) \n",
    "    recall = recall_score(y_test, y_pred)\n",
    "    precision = precision_score(y_test, y_pred)\n",
    "    f1 = f1_score(y_test, y_pred)    \n",
    "    auc_score = roc_auc_score(y_test, y_pred_prob[ :, 1 ])\n",
    "    \n",
    "    result.append([ target_sr, round(acc, 3) ,round(recall, 3), round(precision, 3), round(f1, 3), round(auc_score, 3) ])\n",
    "\n",
    "result_df = pd.DataFrame(result, columns = [ 'target_sr', 'acc', 'recall', 'precision', 'f1', 'auc_score'])\n",
    "result_df.to_csv('/project/time_series/cchc0427/id_num2/fan_target_sr_id06.csv', index = False)\n"
   ]
  },
  {
   "cell_type": "code",
   "execution_count": 18,
   "id": "8eb631e0",
   "metadata": {
    "scrolled": false
   },
   "outputs": [
    {
     "name": "stdout",
     "output_type": "stream",
     "text": [
      "abs_max(our_custom)로 진행중입니다.\n",
      "\n",
      "멀티 프로세싱을 시작합니다. 현재 코어 30개 사용 중. \n",
      "1.다른 사람과 동시에 돌리지 마세요.\n",
      "2.함부로 진행중에 중단 하지마세요.\n",
      "--- 걸린시간: 24.493667364120483 ---\n",
      "normal : 3045\n",
      "abnormal : 1083\n",
      "scale_pos_weight is 2.81.\n",
      "Model is ready to running.\n"
     ]
    },
    {
     "name": "stderr",
     "output_type": "stream",
     "text": [
      "/package/anaconda3.8/lib/python3.8/site-packages/lightgbm/engine.py:177: UserWarning: Found `num_iterations` in params. Will use it instead of argument\n",
      "  _log_warning(f\"Found `{alias}` in params. Will use it instead of argument\")\n"
     ]
    },
    {
     "name": "stdout",
     "output_type": "stream",
     "text": [
      "kaiser_best로 진행중입니다.\n",
      "\n",
      "멀티 프로세싱을 시작합니다. 현재 코어 30개 사용 중. \n",
      "1.다른 사람과 동시에 돌리지 마세요.\n",
      "2.함부로 진행중에 중단 하지마세요.\n",
      "--- 걸린시간: 12.161941766738892 ---\n",
      "normal : 3045\n",
      "abnormal : 1083\n",
      "scale_pos_weight is 2.81.\n",
      "Model is ready to running.\n"
     ]
    },
    {
     "name": "stderr",
     "output_type": "stream",
     "text": [
      "/package/anaconda3.8/lib/python3.8/site-packages/lightgbm/engine.py:177: UserWarning: Found `num_iterations` in params. Will use it instead of argument\n",
      "  _log_warning(f\"Found `{alias}` in params. Will use it instead of argument\")\n"
     ]
    },
    {
     "name": "stdout",
     "output_type": "stream",
     "text": [
      "kaiser_fast로 진행중입니다.\n",
      "\n",
      "멀티 프로세싱을 시작합니다. 현재 코어 30개 사용 중. \n",
      "1.다른 사람과 동시에 돌리지 마세요.\n",
      "2.함부로 진행중에 중단 하지마세요.\n",
      "--- 걸린시간: 6.081114053726196 ---\n",
      "normal : 3045\n",
      "abnormal : 1083\n",
      "scale_pos_weight is 2.81.\n",
      "Model is ready to running.\n"
     ]
    },
    {
     "name": "stderr",
     "output_type": "stream",
     "text": [
      "/package/anaconda3.8/lib/python3.8/site-packages/lightgbm/engine.py:177: UserWarning: Found `num_iterations` in params. Will use it instead of argument\n",
      "  _log_warning(f\"Found `{alias}` in params. Will use it instead of argument\")\n"
     ]
    },
    {
     "name": "stdout",
     "output_type": "stream",
     "text": [
      "fft로 진행중입니다.\n",
      "\n",
      "멀티 프로세싱을 시작합니다. 현재 코어 30개 사용 중. \n",
      "1.다른 사람과 동시에 돌리지 마세요.\n",
      "2.함부로 진행중에 중단 하지마세요.\n",
      "--- 걸린시간: 3.4815948009490967 ---\n",
      "normal : 3045\n",
      "abnormal : 1083\n",
      "scale_pos_weight is 2.81.\n",
      "Model is ready to running.\n"
     ]
    },
    {
     "name": "stderr",
     "output_type": "stream",
     "text": [
      "/package/anaconda3.8/lib/python3.8/site-packages/lightgbm/engine.py:177: UserWarning: Found `num_iterations` in params. Will use it instead of argument\n",
      "  _log_warning(f\"Found `{alias}` in params. Will use it instead of argument\")\n"
     ]
    },
    {
     "name": "stdout",
     "output_type": "stream",
     "text": [
      "scipy로 진행중입니다.\n",
      "\n",
      "멀티 프로세싱을 시작합니다. 현재 코어 30개 사용 중. \n",
      "1.다른 사람과 동시에 돌리지 마세요.\n",
      "2.함부로 진행중에 중단 하지마세요.\n",
      "--- 걸린시간: 3.6413519382476807 ---\n",
      "normal : 3045\n",
      "abnormal : 1083\n",
      "scale_pos_weight is 2.81.\n",
      "Model is ready to running.\n"
     ]
    },
    {
     "name": "stderr",
     "output_type": "stream",
     "text": [
      "/package/anaconda3.8/lib/python3.8/site-packages/lightgbm/engine.py:177: UserWarning: Found `num_iterations` in params. Will use it instead of argument\n",
      "  _log_warning(f\"Found `{alias}` in params. Will use it instead of argument\")\n"
     ]
    },
    {
     "name": "stdout",
     "output_type": "stream",
     "text": [
      "polyphase로 진행중입니다.\n",
      "\n",
      "멀티 프로세싱을 시작합니다. 현재 코어 30개 사용 중. \n",
      "1.다른 사람과 동시에 돌리지 마세요.\n",
      "2.함부로 진행중에 중단 하지마세요.\n",
      "--- 걸린시간: 4.1317102909088135 ---\n",
      "normal : 3045\n",
      "abnormal : 1083\n",
      "scale_pos_weight is 2.81.\n",
      "Model is ready to running.\n"
     ]
    },
    {
     "name": "stderr",
     "output_type": "stream",
     "text": [
      "/package/anaconda3.8/lib/python3.8/site-packages/lightgbm/engine.py:177: UserWarning: Found `num_iterations` in params. Will use it instead of argument\n",
      "  _log_warning(f\"Found `{alias}` in params. Will use it instead of argument\")\n"
     ]
    },
    {
     "name": "stdout",
     "output_type": "stream",
     "text": [
      "linear로 진행중입니다.\n",
      "\n",
      "멀티 프로세싱을 시작합니다. 현재 코어 30개 사용 중. \n",
      "1.다른 사람과 동시에 돌리지 마세요.\n",
      "2.함부로 진행중에 중단 하지마세요.\n",
      "--- 걸린시간: 3.397709608078003 ---\n",
      "normal : 3045\n",
      "abnormal : 1083\n",
      "scale_pos_weight is 2.81.\n",
      "Model is ready to running.\n"
     ]
    },
    {
     "name": "stderr",
     "output_type": "stream",
     "text": [
      "/package/anaconda3.8/lib/python3.8/site-packages/lightgbm/engine.py:177: UserWarning: Found `num_iterations` in params. Will use it instead of argument\n",
      "  _log_warning(f\"Found `{alias}` in params. Will use it instead of argument\")\n"
     ]
    },
    {
     "name": "stdout",
     "output_type": "stream",
     "text": [
      "zero_order_hold로 진행중입니다.\n",
      "\n",
      "멀티 프로세싱을 시작합니다. 현재 코어 30개 사용 중. \n",
      "1.다른 사람과 동시에 돌리지 마세요.\n",
      "2.함부로 진행중에 중단 하지마세요.\n",
      "--- 걸린시간: 3.6911685466766357 ---\n",
      "normal : 3045\n",
      "abnormal : 1083\n",
      "scale_pos_weight is 2.81.\n",
      "Model is ready to running.\n"
     ]
    },
    {
     "name": "stderr",
     "output_type": "stream",
     "text": [
      "/package/anaconda3.8/lib/python3.8/site-packages/lightgbm/engine.py:177: UserWarning: Found `num_iterations` in params. Will use it instead of argument\n",
      "  _log_warning(f\"Found `{alias}` in params. Will use it instead of argument\")\n"
     ]
    },
    {
     "name": "stdout",
     "output_type": "stream",
     "text": [
      "sinc_best로 진행중입니다.\n",
      "\n",
      "멀티 프로세싱을 시작합니다. 현재 코어 30개 사용 중. \n",
      "1.다른 사람과 동시에 돌리지 마세요.\n",
      "2.함부로 진행중에 중단 하지마세요.\n",
      "--- 걸린시간: 12.801236391067505 ---\n",
      "normal : 3045\n",
      "abnormal : 1083\n",
      "scale_pos_weight is 2.81.\n",
      "Model is ready to running.\n"
     ]
    },
    {
     "name": "stderr",
     "output_type": "stream",
     "text": [
      "/package/anaconda3.8/lib/python3.8/site-packages/lightgbm/engine.py:177: UserWarning: Found `num_iterations` in params. Will use it instead of argument\n",
      "  _log_warning(f\"Found `{alias}` in params. Will use it instead of argument\")\n"
     ]
    },
    {
     "name": "stdout",
     "output_type": "stream",
     "text": [
      "sinc_medium로 진행중입니다.\n",
      "\n",
      "멀티 프로세싱을 시작합니다. 현재 코어 30개 사용 중. \n",
      "1.다른 사람과 동시에 돌리지 마세요.\n",
      "2.함부로 진행중에 중단 하지마세요.\n",
      "--- 걸린시간: 6.420550584793091 ---\n",
      "normal : 3045\n",
      "abnormal : 1083\n",
      "scale_pos_weight is 2.81.\n",
      "Model is ready to running.\n"
     ]
    },
    {
     "name": "stderr",
     "output_type": "stream",
     "text": [
      "/package/anaconda3.8/lib/python3.8/site-packages/lightgbm/engine.py:177: UserWarning: Found `num_iterations` in params. Will use it instead of argument\n",
      "  _log_warning(f\"Found `{alias}` in params. Will use it instead of argument\")\n"
     ]
    },
    {
     "name": "stdout",
     "output_type": "stream",
     "text": [
      "sinc_fastest로 진행중입니다.\n",
      "\n",
      "멀티 프로세싱을 시작합니다. 현재 코어 30개 사용 중. \n",
      "1.다른 사람과 동시에 돌리지 마세요.\n",
      "2.함부로 진행중에 중단 하지마세요.\n",
      "--- 걸린시간: 4.439622402191162 ---\n",
      "normal : 3045\n",
      "abnormal : 1083\n",
      "scale_pos_weight is 2.81.\n",
      "Model is ready to running.\n"
     ]
    },
    {
     "name": "stderr",
     "output_type": "stream",
     "text": [
      "/package/anaconda3.8/lib/python3.8/site-packages/lightgbm/engine.py:177: UserWarning: Found `num_iterations` in params. Will use it instead of argument\n",
      "  _log_warning(f\"Found `{alias}` in params. Will use it instead of argument\")\n"
     ]
    },
    {
     "name": "stdout",
     "output_type": "stream",
     "text": [
      "soxr_vhq로 진행중입니다.\n",
      "\n",
      "멀티 프로세싱을 시작합니다. 현재 코어 30개 사용 중. \n",
      "1.다른 사람과 동시에 돌리지 마세요.\n",
      "2.함부로 진행중에 중단 하지마세요.\n",
      "--- 걸린시간: 3.77716064453125 ---\n",
      "normal : 3045\n",
      "abnormal : 1083\n",
      "scale_pos_weight is 2.81.\n",
      "Model is ready to running.\n"
     ]
    },
    {
     "name": "stderr",
     "output_type": "stream",
     "text": [
      "/package/anaconda3.8/lib/python3.8/site-packages/lightgbm/engine.py:177: UserWarning: Found `num_iterations` in params. Will use it instead of argument\n",
      "  _log_warning(f\"Found `{alias}` in params. Will use it instead of argument\")\n"
     ]
    },
    {
     "name": "stdout",
     "output_type": "stream",
     "text": [
      "soxr_hq로 진행중입니다.\n",
      "\n",
      "멀티 프로세싱을 시작합니다. 현재 코어 30개 사용 중. \n",
      "1.다른 사람과 동시에 돌리지 마세요.\n",
      "2.함부로 진행중에 중단 하지마세요.\n",
      "--- 걸린시간: 3.610337972640991 ---\n",
      "normal : 3045\n",
      "abnormal : 1083\n",
      "scale_pos_weight is 2.81.\n",
      "Model is ready to running.\n"
     ]
    },
    {
     "name": "stderr",
     "output_type": "stream",
     "text": [
      "/package/anaconda3.8/lib/python3.8/site-packages/lightgbm/engine.py:177: UserWarning: Found `num_iterations` in params. Will use it instead of argument\n",
      "  _log_warning(f\"Found `{alias}` in params. Will use it instead of argument\")\n"
     ]
    },
    {
     "name": "stdout",
     "output_type": "stream",
     "text": [
      "soxr_mq로 진행중입니다.\n",
      "\n",
      "멀티 프로세싱을 시작합니다. 현재 코어 30개 사용 중. \n",
      "1.다른 사람과 동시에 돌리지 마세요.\n",
      "2.함부로 진행중에 중단 하지마세요.\n",
      "--- 걸린시간: 3.7020697593688965 ---\n",
      "normal : 3045\n",
      "abnormal : 1083\n",
      "scale_pos_weight is 2.81.\n",
      "Model is ready to running.\n"
     ]
    },
    {
     "name": "stderr",
     "output_type": "stream",
     "text": [
      "/package/anaconda3.8/lib/python3.8/site-packages/lightgbm/engine.py:177: UserWarning: Found `num_iterations` in params. Will use it instead of argument\n",
      "  _log_warning(f\"Found `{alias}` in params. Will use it instead of argument\")\n"
     ]
    },
    {
     "name": "stdout",
     "output_type": "stream",
     "text": [
      "soxr_lq로 진행중입니다.\n",
      "\n",
      "멀티 프로세싱을 시작합니다. 현재 코어 30개 사용 중. \n",
      "1.다른 사람과 동시에 돌리지 마세요.\n",
      "2.함부로 진행중에 중단 하지마세요.\n",
      "--- 걸린시간: 3.5138044357299805 ---\n",
      "normal : 3045\n",
      "abnormal : 1083\n",
      "scale_pos_weight is 2.81.\n",
      "Model is ready to running.\n"
     ]
    },
    {
     "name": "stderr",
     "output_type": "stream",
     "text": [
      "/package/anaconda3.8/lib/python3.8/site-packages/lightgbm/engine.py:177: UserWarning: Found `num_iterations` in params. Will use it instead of argument\n",
      "  _log_warning(f\"Found `{alias}` in params. Will use it instead of argument\")\n"
     ]
    },
    {
     "name": "stdout",
     "output_type": "stream",
     "text": [
      "soxr_hq로 진행중입니다.\n",
      "\n",
      "멀티 프로세싱을 시작합니다. 현재 코어 30개 사용 중. \n",
      "1.다른 사람과 동시에 돌리지 마세요.\n",
      "2.함부로 진행중에 중단 하지마세요.\n",
      "--- 걸린시간: 3.8599321842193604 ---\n",
      "normal : 3045\n",
      "abnormal : 1083\n",
      "scale_pos_weight is 2.81.\n",
      "Model is ready to running.\n"
     ]
    },
    {
     "name": "stderr",
     "output_type": "stream",
     "text": [
      "/package/anaconda3.8/lib/python3.8/site-packages/lightgbm/engine.py:177: UserWarning: Found `num_iterations` in params. Will use it instead of argument\n",
      "  _log_warning(f\"Found `{alias}` in params. Will use it instead of argument\")\n"
     ]
    },
    {
     "name": "stdout",
     "output_type": "stream",
     "text": [
      "soxr_qq로 진행중입니다.\n",
      "\n",
      "멀티 프로세싱을 시작합니다. 현재 코어 30개 사용 중. \n",
      "1.다른 사람과 동시에 돌리지 마세요.\n",
      "2.함부로 진행중에 중단 하지마세요.\n",
      "--- 걸린시간: 3.55428409576416 ---\n",
      "normal : 3045\n",
      "abnormal : 1083\n",
      "scale_pos_weight is 2.81.\n",
      "Model is ready to running.\n"
     ]
    },
    {
     "name": "stderr",
     "output_type": "stream",
     "text": [
      "/package/anaconda3.8/lib/python3.8/site-packages/lightgbm/engine.py:177: UserWarning: Found `num_iterations` in params. Will use it instead of argument\n",
      "  _log_warning(f\"Found `{alias}` in params. Will use it instead of argument\")\n"
     ]
    }
   ],
   "source": [
    "sampling_lst = ['abs_max(our_custom)',\n",
    "                'kaiser_best',\n",
    "                'kaiser_fast',\n",
    "                'fft',\n",
    "                'scipy',\n",
    "                'polyphase',\n",
    "                'linear',\n",
    "                'zero_order_hold',\n",
    "                'sinc_best',\n",
    "                'sinc_medium' ,\n",
    "                'sinc_fastest',\n",
    "                'soxr_vhq',\n",
    "                'soxr_hq',\n",
    "                'soxr_mq',\n",
    "                'soxr_lq',\n",
    "                'soxr_hq',\n",
    "                'soxr_qq']\n",
    "target_sr = 1600\n",
    "result = []\n",
    "\n",
    "for res_type in sampling_lst:\n",
    "    print(f'{res_type}로 진행중입니다.')\n",
    "    fan_result = fan_result = load_data_using_multi_process(fan_file, sr = 16000, target_sr = target_sr, res_type = res_type) # 데이터 target_sr로 부르기\n",
    "    \n",
    "    fan_result_df = pd.DataFrame(fan_result)\n",
    "    \n",
    "    data = fan_result_df.iloc[:, :-1]\n",
    "    target = fan_result_df.iloc[:, -1]\n",
    "    \n",
    "    X_train, X_test, y_train, y_test = train_test_split(data, target, test_size=0.2, shuffle=True, stratify=target, random_state=42)\n",
    "    \n",
    "    model = model_lgbm(fan_result_df) # using (model.py)\n",
    "    \n",
    "    model.fit(X_train, y_train)\n",
    "\n",
    "    y_pred = model.predict(X_test)\n",
    "    y_pred_prob = model.predict_proba(X_test)\n",
    "    \n",
    "    acc = accuracy_score(y_test, y_pred) \n",
    "    recall = recall_score(y_test, y_pred)\n",
    "    precision = precision_score(y_test, y_pred)\n",
    "    f1 = f1_score(y_test, y_pred)    \n",
    "    auc_score = roc_auc_score(y_test, y_pred_prob[ :, 1 ])\n",
    "    \n",
    "    result.append([ res_type, round(acc, 3) ,round(recall, 3), round(precision, 3), round(f1, 3), round(auc_score, 3) ])\n",
    "\n",
    "result_df = pd.DataFrame(result, columns = [ 'res_type', 'acc', 'recall', 'precision', 'f1', 'auc_score'])\n",
    "result_df.to_csv('/project/time_series/cchc0427/id_num/fan_id06_res_type.csv', index = False)\n"
   ]
  },
  {
   "cell_type": "markdown",
   "id": "5366aef9",
   "metadata": {},
   "source": [
    "# 결과"
   ]
  },
  {
   "cell_type": "code",
   "execution_count": 5,
   "id": "51cc4c41",
   "metadata": {},
   "outputs": [],
   "source": [
    "fan_target_sr_id00 = pd.read_csv('/project/time_series/cchc0427/id_num/fan_target_sr_id00.csv')\n",
    "fan_target_sr_id02 = pd.read_csv('/project/time_series/cchc0427/id_num/fan_target_sr_id02.csv')\n",
    "fan_target_sr_id04 = pd.read_csv('/project/time_series/cchc0427/id_num/fan_target_sr_id04.csv')\n",
    "fan_target_sr_id06 = pd.read_csv('/project/time_series/cchc0427/id_num/fan_target_sr_id06.csv')"
   ]
  },
  {
   "cell_type": "code",
   "execution_count": 6,
   "id": "5de526a9",
   "metadata": {},
   "outputs": [
    {
     "data": {
      "text/html": [
       "<div>\n",
       "<style scoped>\n",
       "    .dataframe tbody tr th:only-of-type {\n",
       "        vertical-align: middle;\n",
       "    }\n",
       "\n",
       "    .dataframe tbody tr th {\n",
       "        vertical-align: top;\n",
       "    }\n",
       "\n",
       "    .dataframe thead th {\n",
       "        text-align: right;\n",
       "    }\n",
       "</style>\n",
       "<table border=\"1\" class=\"dataframe\">\n",
       "  <thead>\n",
       "    <tr style=\"text-align: right;\">\n",
       "      <th></th>\n",
       "      <th>target_sr</th>\n",
       "      <th>acc</th>\n",
       "      <th>recall</th>\n",
       "      <th>precision</th>\n",
       "      <th>f1</th>\n",
       "      <th>auc_score</th>\n",
       "    </tr>\n",
       "  </thead>\n",
       "  <tbody>\n",
       "    <tr>\n",
       "      <th>0</th>\n",
       "      <td>40</td>\n",
       "      <td>0.717</td>\n",
       "      <td>0.201</td>\n",
       "      <td>0.516</td>\n",
       "      <td>0.289</td>\n",
       "      <td>0.589</td>\n",
       "    </tr>\n",
       "    <tr>\n",
       "      <th>1</th>\n",
       "      <td>50</td>\n",
       "      <td>0.972</td>\n",
       "      <td>0.910</td>\n",
       "      <td>0.991</td>\n",
       "      <td>0.949</td>\n",
       "      <td>0.996</td>\n",
       "    </tr>\n",
       "    <tr>\n",
       "      <th>2</th>\n",
       "      <td>64</td>\n",
       "      <td>0.995</td>\n",
       "      <td>0.984</td>\n",
       "      <td>1.000</td>\n",
       "      <td>0.992</td>\n",
       "      <td>1.000</td>\n",
       "    </tr>\n",
       "    <tr>\n",
       "      <th>3</th>\n",
       "      <td>80</td>\n",
       "      <td>0.985</td>\n",
       "      <td>0.947</td>\n",
       "      <td>1.000</td>\n",
       "      <td>0.973</td>\n",
       "      <td>1.000</td>\n",
       "    </tr>\n",
       "    <tr>\n",
       "      <th>4</th>\n",
       "      <td>100</td>\n",
       "      <td>0.979</td>\n",
       "      <td>0.930</td>\n",
       "      <td>0.996</td>\n",
       "      <td>0.962</td>\n",
       "      <td>0.999</td>\n",
       "    </tr>\n",
       "    <tr>\n",
       "      <th>5</th>\n",
       "      <td>125</td>\n",
       "      <td>0.966</td>\n",
       "      <td>0.881</td>\n",
       "      <td>1.000</td>\n",
       "      <td>0.937</td>\n",
       "      <td>0.997</td>\n",
       "    </tr>\n",
       "    <tr>\n",
       "      <th>6</th>\n",
       "      <td>128</td>\n",
       "      <td>0.955</td>\n",
       "      <td>0.848</td>\n",
       "      <td>0.995</td>\n",
       "      <td>0.916</td>\n",
       "      <td>0.997</td>\n",
       "    </tr>\n",
       "    <tr>\n",
       "      <th>7</th>\n",
       "      <td>160</td>\n",
       "      <td>0.993</td>\n",
       "      <td>0.975</td>\n",
       "      <td>1.000</td>\n",
       "      <td>0.988</td>\n",
       "      <td>1.000</td>\n",
       "    </tr>\n",
       "    <tr>\n",
       "      <th>8</th>\n",
       "      <td>200</td>\n",
       "      <td>0.986</td>\n",
       "      <td>0.951</td>\n",
       "      <td>1.000</td>\n",
       "      <td>0.975</td>\n",
       "      <td>1.000</td>\n",
       "    </tr>\n",
       "    <tr>\n",
       "      <th>9</th>\n",
       "      <td>250</td>\n",
       "      <td>0.979</td>\n",
       "      <td>0.926</td>\n",
       "      <td>1.000</td>\n",
       "      <td>0.962</td>\n",
       "      <td>1.000</td>\n",
       "    </tr>\n",
       "    <tr>\n",
       "      <th>10</th>\n",
       "      <td>320</td>\n",
       "      <td>0.976</td>\n",
       "      <td>0.918</td>\n",
       "      <td>1.000</td>\n",
       "      <td>0.957</td>\n",
       "      <td>0.999</td>\n",
       "    </tr>\n",
       "    <tr>\n",
       "      <th>11</th>\n",
       "      <td>400</td>\n",
       "      <td>0.969</td>\n",
       "      <td>0.893</td>\n",
       "      <td>1.000</td>\n",
       "      <td>0.944</td>\n",
       "      <td>0.998</td>\n",
       "    </tr>\n",
       "    <tr>\n",
       "      <th>12</th>\n",
       "      <td>500</td>\n",
       "      <td>0.957</td>\n",
       "      <td>0.848</td>\n",
       "      <td>1.000</td>\n",
       "      <td>0.918</td>\n",
       "      <td>0.997</td>\n",
       "    </tr>\n",
       "    <tr>\n",
       "      <th>13</th>\n",
       "      <td>640</td>\n",
       "      <td>0.947</td>\n",
       "      <td>0.816</td>\n",
       "      <td>1.000</td>\n",
       "      <td>0.898</td>\n",
       "      <td>0.995</td>\n",
       "    </tr>\n",
       "    <tr>\n",
       "      <th>14</th>\n",
       "      <td>800</td>\n",
       "      <td>0.949</td>\n",
       "      <td>0.824</td>\n",
       "      <td>1.000</td>\n",
       "      <td>0.903</td>\n",
       "      <td>0.996</td>\n",
       "    </tr>\n",
       "    <tr>\n",
       "      <th>15</th>\n",
       "      <td>1000</td>\n",
       "      <td>0.944</td>\n",
       "      <td>0.803</td>\n",
       "      <td>1.000</td>\n",
       "      <td>0.891</td>\n",
       "      <td>0.998</td>\n",
       "    </tr>\n",
       "    <tr>\n",
       "      <th>16</th>\n",
       "      <td>1600</td>\n",
       "      <td>0.940</td>\n",
       "      <td>0.791</td>\n",
       "      <td>1.000</td>\n",
       "      <td>0.883</td>\n",
       "      <td>0.996</td>\n",
       "    </tr>\n",
       "    <tr>\n",
       "      <th>17</th>\n",
       "      <td>2000</td>\n",
       "      <td>0.924</td>\n",
       "      <td>0.738</td>\n",
       "      <td>0.994</td>\n",
       "      <td>0.847</td>\n",
       "      <td>0.995</td>\n",
       "    </tr>\n",
       "    <tr>\n",
       "      <th>18</th>\n",
       "      <td>3200</td>\n",
       "      <td>0.918</td>\n",
       "      <td>0.713</td>\n",
       "      <td>1.000</td>\n",
       "      <td>0.833</td>\n",
       "      <td>0.995</td>\n",
       "    </tr>\n",
       "    <tr>\n",
       "      <th>19</th>\n",
       "      <td>4000</td>\n",
       "      <td>0.915</td>\n",
       "      <td>0.705</td>\n",
       "      <td>1.000</td>\n",
       "      <td>0.827</td>\n",
       "      <td>0.993</td>\n",
       "    </tr>\n",
       "    <tr>\n",
       "      <th>20</th>\n",
       "      <td>8000</td>\n",
       "      <td>0.908</td>\n",
       "      <td>0.689</td>\n",
       "      <td>0.988</td>\n",
       "      <td>0.812</td>\n",
       "      <td>0.993</td>\n",
       "    </tr>\n",
       "    <tr>\n",
       "      <th>21</th>\n",
       "      <td>10000</td>\n",
       "      <td>0.917</td>\n",
       "      <td>0.709</td>\n",
       "      <td>1.000</td>\n",
       "      <td>0.830</td>\n",
       "      <td>0.993</td>\n",
       "    </tr>\n",
       "    <tr>\n",
       "      <th>22</th>\n",
       "      <td>13000</td>\n",
       "      <td>0.912</td>\n",
       "      <td>0.693</td>\n",
       "      <td>1.000</td>\n",
       "      <td>0.818</td>\n",
       "      <td>0.994</td>\n",
       "    </tr>\n",
       "  </tbody>\n",
       "</table>\n",
       "</div>"
      ],
      "text/plain": [
       "    target_sr    acc  recall  precision     f1  auc_score\n",
       "0          40  0.717   0.201      0.516  0.289      0.589\n",
       "1          50  0.972   0.910      0.991  0.949      0.996\n",
       "2          64  0.995   0.984      1.000  0.992      1.000\n",
       "3          80  0.985   0.947      1.000  0.973      1.000\n",
       "4         100  0.979   0.930      0.996  0.962      0.999\n",
       "5         125  0.966   0.881      1.000  0.937      0.997\n",
       "6         128  0.955   0.848      0.995  0.916      0.997\n",
       "7         160  0.993   0.975      1.000  0.988      1.000\n",
       "8         200  0.986   0.951      1.000  0.975      1.000\n",
       "9         250  0.979   0.926      1.000  0.962      1.000\n",
       "10        320  0.976   0.918      1.000  0.957      0.999\n",
       "11        400  0.969   0.893      1.000  0.944      0.998\n",
       "12        500  0.957   0.848      1.000  0.918      0.997\n",
       "13        640  0.947   0.816      1.000  0.898      0.995\n",
       "14        800  0.949   0.824      1.000  0.903      0.996\n",
       "15       1000  0.944   0.803      1.000  0.891      0.998\n",
       "16       1600  0.940   0.791      1.000  0.883      0.996\n",
       "17       2000  0.924   0.738      0.994  0.847      0.995\n",
       "18       3200  0.918   0.713      1.000  0.833      0.995\n",
       "19       4000  0.915   0.705      1.000  0.827      0.993\n",
       "20       8000  0.908   0.689      0.988  0.812      0.993\n",
       "21      10000  0.917   0.709      1.000  0.830      0.993\n",
       "22      13000  0.912   0.693      1.000  0.818      0.994"
      ]
     },
     "execution_count": 6,
     "metadata": {},
     "output_type": "execute_result"
    }
   ],
   "source": [
    "fan_target_sr_id00 -> 64"
   ]
  },
  {
   "cell_type": "code",
   "execution_count": 7,
   "id": "99f69430",
   "metadata": {},
   "outputs": [
    {
     "data": {
      "text/html": [
       "<div>\n",
       "<style scoped>\n",
       "    .dataframe tbody tr th:only-of-type {\n",
       "        vertical-align: middle;\n",
       "    }\n",
       "\n",
       "    .dataframe tbody tr th {\n",
       "        vertical-align: top;\n",
       "    }\n",
       "\n",
       "    .dataframe thead th {\n",
       "        text-align: right;\n",
       "    }\n",
       "</style>\n",
       "<table border=\"1\" class=\"dataframe\">\n",
       "  <thead>\n",
       "    <tr style=\"text-align: right;\">\n",
       "      <th></th>\n",
       "      <th>target_sr</th>\n",
       "      <th>acc</th>\n",
       "      <th>recall</th>\n",
       "      <th>precision</th>\n",
       "      <th>f1</th>\n",
       "      <th>auc_score</th>\n",
       "    </tr>\n",
       "  </thead>\n",
       "  <tbody>\n",
       "    <tr>\n",
       "      <th>0</th>\n",
       "      <td>40</td>\n",
       "      <td>0.710</td>\n",
       "      <td>0.070</td>\n",
       "      <td>0.278</td>\n",
       "      <td>0.112</td>\n",
       "      <td>0.534</td>\n",
       "    </tr>\n",
       "    <tr>\n",
       "      <th>1</th>\n",
       "      <td>50</td>\n",
       "      <td>0.721</td>\n",
       "      <td>0.065</td>\n",
       "      <td>0.326</td>\n",
       "      <td>0.109</td>\n",
       "      <td>0.561</td>\n",
       "    </tr>\n",
       "    <tr>\n",
       "      <th>2</th>\n",
       "      <td>64</td>\n",
       "      <td>0.736</td>\n",
       "      <td>0.079</td>\n",
       "      <td>0.459</td>\n",
       "      <td>0.135</td>\n",
       "      <td>0.511</td>\n",
       "    </tr>\n",
       "    <tr>\n",
       "      <th>3</th>\n",
       "      <td>80</td>\n",
       "      <td>0.730</td>\n",
       "      <td>0.051</td>\n",
       "      <td>0.367</td>\n",
       "      <td>0.090</td>\n",
       "      <td>0.515</td>\n",
       "    </tr>\n",
       "    <tr>\n",
       "      <th>4</th>\n",
       "      <td>100</td>\n",
       "      <td>0.726</td>\n",
       "      <td>0.042</td>\n",
       "      <td>0.310</td>\n",
       "      <td>0.074</td>\n",
       "      <td>0.485</td>\n",
       "    </tr>\n",
       "    <tr>\n",
       "      <th>5</th>\n",
       "      <td>125</td>\n",
       "      <td>0.792</td>\n",
       "      <td>0.247</td>\n",
       "      <td>0.841</td>\n",
       "      <td>0.381</td>\n",
       "      <td>0.798</td>\n",
       "    </tr>\n",
       "    <tr>\n",
       "      <th>6</th>\n",
       "      <td>128</td>\n",
       "      <td>0.790</td>\n",
       "      <td>0.214</td>\n",
       "      <td>0.920</td>\n",
       "      <td>0.347</td>\n",
       "      <td>0.787</td>\n",
       "    </tr>\n",
       "    <tr>\n",
       "      <th>7</th>\n",
       "      <td>160</td>\n",
       "      <td>0.754</td>\n",
       "      <td>0.112</td>\n",
       "      <td>0.667</td>\n",
       "      <td>0.191</td>\n",
       "      <td>0.687</td>\n",
       "    </tr>\n",
       "    <tr>\n",
       "      <th>8</th>\n",
       "      <td>200</td>\n",
       "      <td>0.745</td>\n",
       "      <td>0.098</td>\n",
       "      <td>0.568</td>\n",
       "      <td>0.167</td>\n",
       "      <td>0.677</td>\n",
       "    </tr>\n",
       "    <tr>\n",
       "      <th>9</th>\n",
       "      <td>250</td>\n",
       "      <td>0.741</td>\n",
       "      <td>0.070</td>\n",
       "      <td>0.517</td>\n",
       "      <td>0.123</td>\n",
       "      <td>0.684</td>\n",
       "    </tr>\n",
       "    <tr>\n",
       "      <th>10</th>\n",
       "      <td>320</td>\n",
       "      <td>0.756</td>\n",
       "      <td>0.093</td>\n",
       "      <td>0.769</td>\n",
       "      <td>0.166</td>\n",
       "      <td>0.666</td>\n",
       "    </tr>\n",
       "    <tr>\n",
       "      <th>11</th>\n",
       "      <td>400</td>\n",
       "      <td>0.733</td>\n",
       "      <td>0.028</td>\n",
       "      <td>0.353</td>\n",
       "      <td>0.052</td>\n",
       "      <td>0.651</td>\n",
       "    </tr>\n",
       "    <tr>\n",
       "      <th>12</th>\n",
       "      <td>500</td>\n",
       "      <td>0.741</td>\n",
       "      <td>0.033</td>\n",
       "      <td>0.538</td>\n",
       "      <td>0.061</td>\n",
       "      <td>0.645</td>\n",
       "    </tr>\n",
       "    <tr>\n",
       "      <th>13</th>\n",
       "      <td>640</td>\n",
       "      <td>0.753</td>\n",
       "      <td>0.065</td>\n",
       "      <td>0.824</td>\n",
       "      <td>0.121</td>\n",
       "      <td>0.671</td>\n",
       "    </tr>\n",
       "    <tr>\n",
       "      <th>14</th>\n",
       "      <td>800</td>\n",
       "      <td>0.759</td>\n",
       "      <td>0.084</td>\n",
       "      <td>0.900</td>\n",
       "      <td>0.153</td>\n",
       "      <td>0.729</td>\n",
       "    </tr>\n",
       "    <tr>\n",
       "      <th>15</th>\n",
       "      <td>1000</td>\n",
       "      <td>0.759</td>\n",
       "      <td>0.074</td>\n",
       "      <td>1.000</td>\n",
       "      <td>0.139</td>\n",
       "      <td>0.758</td>\n",
       "    </tr>\n",
       "    <tr>\n",
       "      <th>16</th>\n",
       "      <td>1600</td>\n",
       "      <td>0.770</td>\n",
       "      <td>0.116</td>\n",
       "      <td>1.000</td>\n",
       "      <td>0.208</td>\n",
       "      <td>0.805</td>\n",
       "    </tr>\n",
       "    <tr>\n",
       "      <th>17</th>\n",
       "      <td>2000</td>\n",
       "      <td>0.782</td>\n",
       "      <td>0.163</td>\n",
       "      <td>1.000</td>\n",
       "      <td>0.280</td>\n",
       "      <td>0.800</td>\n",
       "    </tr>\n",
       "    <tr>\n",
       "      <th>18</th>\n",
       "      <td>3200</td>\n",
       "      <td>0.775</td>\n",
       "      <td>0.135</td>\n",
       "      <td>1.000</td>\n",
       "      <td>0.238</td>\n",
       "      <td>0.821</td>\n",
       "    </tr>\n",
       "    <tr>\n",
       "      <th>19</th>\n",
       "      <td>4000</td>\n",
       "      <td>0.776</td>\n",
       "      <td>0.140</td>\n",
       "      <td>1.000</td>\n",
       "      <td>0.245</td>\n",
       "      <td>0.855</td>\n",
       "    </tr>\n",
       "    <tr>\n",
       "      <th>20</th>\n",
       "      <td>8000</td>\n",
       "      <td>0.782</td>\n",
       "      <td>0.163</td>\n",
       "      <td>1.000</td>\n",
       "      <td>0.280</td>\n",
       "      <td>0.849</td>\n",
       "    </tr>\n",
       "    <tr>\n",
       "      <th>21</th>\n",
       "      <td>10000</td>\n",
       "      <td>0.773</td>\n",
       "      <td>0.135</td>\n",
       "      <td>0.967</td>\n",
       "      <td>0.237</td>\n",
       "      <td>0.865</td>\n",
       "    </tr>\n",
       "    <tr>\n",
       "      <th>22</th>\n",
       "      <td>13000</td>\n",
       "      <td>0.772</td>\n",
       "      <td>0.126</td>\n",
       "      <td>1.000</td>\n",
       "      <td>0.223</td>\n",
       "      <td>0.860</td>\n",
       "    </tr>\n",
       "  </tbody>\n",
       "</table>\n",
       "</div>"
      ],
      "text/plain": [
       "    target_sr    acc  recall  precision     f1  auc_score\n",
       "0          40  0.710   0.070      0.278  0.112      0.534\n",
       "1          50  0.721   0.065      0.326  0.109      0.561\n",
       "2          64  0.736   0.079      0.459  0.135      0.511\n",
       "3          80  0.730   0.051      0.367  0.090      0.515\n",
       "4         100  0.726   0.042      0.310  0.074      0.485\n",
       "5         125  0.792   0.247      0.841  0.381      0.798\n",
       "6         128  0.790   0.214      0.920  0.347      0.787\n",
       "7         160  0.754   0.112      0.667  0.191      0.687\n",
       "8         200  0.745   0.098      0.568  0.167      0.677\n",
       "9         250  0.741   0.070      0.517  0.123      0.684\n",
       "10        320  0.756   0.093      0.769  0.166      0.666\n",
       "11        400  0.733   0.028      0.353  0.052      0.651\n",
       "12        500  0.741   0.033      0.538  0.061      0.645\n",
       "13        640  0.753   0.065      0.824  0.121      0.671\n",
       "14        800  0.759   0.084      0.900  0.153      0.729\n",
       "15       1000  0.759   0.074      1.000  0.139      0.758\n",
       "16       1600  0.770   0.116      1.000  0.208      0.805\n",
       "17       2000  0.782   0.163      1.000  0.280      0.800\n",
       "18       3200  0.775   0.135      1.000  0.238      0.821\n",
       "19       4000  0.776   0.140      1.000  0.245      0.855\n",
       "20       8000  0.782   0.163      1.000  0.280      0.849\n",
       "21      10000  0.773   0.135      0.967  0.237      0.865\n",
       "22      13000  0.772   0.126      1.000  0.223      0.860"
      ]
     },
     "execution_count": 7,
     "metadata": {},
     "output_type": "execute_result"
    }
   ],
   "source": [
    "# f1 : 125, auc:10000\n",
    "fan_target_sr_id02 "
   ]
  },
  {
   "cell_type": "code",
   "execution_count": 8,
   "id": "d49bb507",
   "metadata": {},
   "outputs": [
    {
     "data": {
      "text/html": [
       "<div>\n",
       "<style scoped>\n",
       "    .dataframe tbody tr th:only-of-type {\n",
       "        vertical-align: middle;\n",
       "    }\n",
       "\n",
       "    .dataframe tbody tr th {\n",
       "        vertical-align: top;\n",
       "    }\n",
       "\n",
       "    .dataframe thead th {\n",
       "        text-align: right;\n",
       "    }\n",
       "</style>\n",
       "<table border=\"1\" class=\"dataframe\">\n",
       "  <thead>\n",
       "    <tr style=\"text-align: right;\">\n",
       "      <th></th>\n",
       "      <th>target_sr</th>\n",
       "      <th>acc</th>\n",
       "      <th>recall</th>\n",
       "      <th>precision</th>\n",
       "      <th>f1</th>\n",
       "      <th>auc_score</th>\n",
       "    </tr>\n",
       "  </thead>\n",
       "  <tbody>\n",
       "    <tr>\n",
       "      <th>0</th>\n",
       "      <td>40</td>\n",
       "      <td>0.776</td>\n",
       "      <td>0.244</td>\n",
       "      <td>0.646</td>\n",
       "      <td>0.354</td>\n",
       "      <td>0.655</td>\n",
       "    </tr>\n",
       "    <tr>\n",
       "      <th>1</th>\n",
       "      <td>50</td>\n",
       "      <td>0.771</td>\n",
       "      <td>0.187</td>\n",
       "      <td>0.661</td>\n",
       "      <td>0.291</td>\n",
       "      <td>0.654</td>\n",
       "    </tr>\n",
       "    <tr>\n",
       "      <th>2</th>\n",
       "      <td>64</td>\n",
       "      <td>0.758</td>\n",
       "      <td>0.120</td>\n",
       "      <td>0.595</td>\n",
       "      <td>0.199</td>\n",
       "      <td>0.562</td>\n",
       "    </tr>\n",
       "    <tr>\n",
       "      <th>3</th>\n",
       "      <td>80</td>\n",
       "      <td>0.754</td>\n",
       "      <td>0.086</td>\n",
       "      <td>0.581</td>\n",
       "      <td>0.150</td>\n",
       "      <td>0.603</td>\n",
       "    </tr>\n",
       "    <tr>\n",
       "      <th>4</th>\n",
       "      <td>100</td>\n",
       "      <td>0.744</td>\n",
       "      <td>0.067</td>\n",
       "      <td>0.452</td>\n",
       "      <td>0.117</td>\n",
       "      <td>0.614</td>\n",
       "    </tr>\n",
       "    <tr>\n",
       "      <th>5</th>\n",
       "      <td>125</td>\n",
       "      <td>0.918</td>\n",
       "      <td>0.689</td>\n",
       "      <td>0.980</td>\n",
       "      <td>0.809</td>\n",
       "      <td>0.981</td>\n",
       "    </tr>\n",
       "    <tr>\n",
       "      <th>6</th>\n",
       "      <td>128</td>\n",
       "      <td>0.911</td>\n",
       "      <td>0.670</td>\n",
       "      <td>0.966</td>\n",
       "      <td>0.791</td>\n",
       "      <td>0.976</td>\n",
       "    </tr>\n",
       "    <tr>\n",
       "      <th>7</th>\n",
       "      <td>160</td>\n",
       "      <td>0.878</td>\n",
       "      <td>0.545</td>\n",
       "      <td>0.950</td>\n",
       "      <td>0.693</td>\n",
       "      <td>0.945</td>\n",
       "    </tr>\n",
       "    <tr>\n",
       "      <th>8</th>\n",
       "      <td>200</td>\n",
       "      <td>0.847</td>\n",
       "      <td>0.416</td>\n",
       "      <td>0.946</td>\n",
       "      <td>0.578</td>\n",
       "      <td>0.919</td>\n",
       "    </tr>\n",
       "    <tr>\n",
       "      <th>9</th>\n",
       "      <td>250</td>\n",
       "      <td>0.876</td>\n",
       "      <td>0.536</td>\n",
       "      <td>0.949</td>\n",
       "      <td>0.685</td>\n",
       "      <td>0.951</td>\n",
       "    </tr>\n",
       "    <tr>\n",
       "      <th>10</th>\n",
       "      <td>320</td>\n",
       "      <td>0.844</td>\n",
       "      <td>0.416</td>\n",
       "      <td>0.926</td>\n",
       "      <td>0.574</td>\n",
       "      <td>0.921</td>\n",
       "    </tr>\n",
       "    <tr>\n",
       "      <th>11</th>\n",
       "      <td>400</td>\n",
       "      <td>0.823</td>\n",
       "      <td>0.330</td>\n",
       "      <td>0.908</td>\n",
       "      <td>0.484</td>\n",
       "      <td>0.877</td>\n",
       "    </tr>\n",
       "    <tr>\n",
       "      <th>12</th>\n",
       "      <td>500</td>\n",
       "      <td>0.811</td>\n",
       "      <td>0.287</td>\n",
       "      <td>0.882</td>\n",
       "      <td>0.433</td>\n",
       "      <td>0.869</td>\n",
       "    </tr>\n",
       "    <tr>\n",
       "      <th>13</th>\n",
       "      <td>640</td>\n",
       "      <td>0.847</td>\n",
       "      <td>0.431</td>\n",
       "      <td>0.918</td>\n",
       "      <td>0.586</td>\n",
       "      <td>0.915</td>\n",
       "    </tr>\n",
       "    <tr>\n",
       "      <th>14</th>\n",
       "      <td>800</td>\n",
       "      <td>0.841</td>\n",
       "      <td>0.392</td>\n",
       "      <td>0.943</td>\n",
       "      <td>0.554</td>\n",
       "      <td>0.916</td>\n",
       "    </tr>\n",
       "    <tr>\n",
       "      <th>15</th>\n",
       "      <td>1000</td>\n",
       "      <td>0.837</td>\n",
       "      <td>0.388</td>\n",
       "      <td>0.920</td>\n",
       "      <td>0.545</td>\n",
       "      <td>0.914</td>\n",
       "    </tr>\n",
       "    <tr>\n",
       "      <th>16</th>\n",
       "      <td>1600</td>\n",
       "      <td>0.835</td>\n",
       "      <td>0.354</td>\n",
       "      <td>0.974</td>\n",
       "      <td>0.519</td>\n",
       "      <td>0.925</td>\n",
       "    </tr>\n",
       "    <tr>\n",
       "      <th>17</th>\n",
       "      <td>2000</td>\n",
       "      <td>0.818</td>\n",
       "      <td>0.311</td>\n",
       "      <td>0.903</td>\n",
       "      <td>0.463</td>\n",
       "      <td>0.918</td>\n",
       "    </tr>\n",
       "    <tr>\n",
       "      <th>18</th>\n",
       "      <td>3200</td>\n",
       "      <td>0.809</td>\n",
       "      <td>0.258</td>\n",
       "      <td>0.947</td>\n",
       "      <td>0.406</td>\n",
       "      <td>0.917</td>\n",
       "    </tr>\n",
       "    <tr>\n",
       "      <th>19</th>\n",
       "      <td>4000</td>\n",
       "      <td>0.824</td>\n",
       "      <td>0.325</td>\n",
       "      <td>0.932</td>\n",
       "      <td>0.482</td>\n",
       "      <td>0.928</td>\n",
       "    </tr>\n",
       "    <tr>\n",
       "      <th>20</th>\n",
       "      <td>8000</td>\n",
       "      <td>0.814</td>\n",
       "      <td>0.273</td>\n",
       "      <td>0.966</td>\n",
       "      <td>0.425</td>\n",
       "      <td>0.915</td>\n",
       "    </tr>\n",
       "    <tr>\n",
       "      <th>21</th>\n",
       "      <td>10000</td>\n",
       "      <td>0.826</td>\n",
       "      <td>0.316</td>\n",
       "      <td>0.985</td>\n",
       "      <td>0.478</td>\n",
       "      <td>0.938</td>\n",
       "    </tr>\n",
       "    <tr>\n",
       "      <th>22</th>\n",
       "      <td>13000</td>\n",
       "      <td>0.828</td>\n",
       "      <td>0.321</td>\n",
       "      <td>0.985</td>\n",
       "      <td>0.484</td>\n",
       "      <td>0.932</td>\n",
       "    </tr>\n",
       "  </tbody>\n",
       "</table>\n",
       "</div>"
      ],
      "text/plain": [
       "    target_sr    acc  recall  precision     f1  auc_score\n",
       "0          40  0.776   0.244      0.646  0.354      0.655\n",
       "1          50  0.771   0.187      0.661  0.291      0.654\n",
       "2          64  0.758   0.120      0.595  0.199      0.562\n",
       "3          80  0.754   0.086      0.581  0.150      0.603\n",
       "4         100  0.744   0.067      0.452  0.117      0.614\n",
       "5         125  0.918   0.689      0.980  0.809      0.981\n",
       "6         128  0.911   0.670      0.966  0.791      0.976\n",
       "7         160  0.878   0.545      0.950  0.693      0.945\n",
       "8         200  0.847   0.416      0.946  0.578      0.919\n",
       "9         250  0.876   0.536      0.949  0.685      0.951\n",
       "10        320  0.844   0.416      0.926  0.574      0.921\n",
       "11        400  0.823   0.330      0.908  0.484      0.877\n",
       "12        500  0.811   0.287      0.882  0.433      0.869\n",
       "13        640  0.847   0.431      0.918  0.586      0.915\n",
       "14        800  0.841   0.392      0.943  0.554      0.916\n",
       "15       1000  0.837   0.388      0.920  0.545      0.914\n",
       "16       1600  0.835   0.354      0.974  0.519      0.925\n",
       "17       2000  0.818   0.311      0.903  0.463      0.918\n",
       "18       3200  0.809   0.258      0.947  0.406      0.917\n",
       "19       4000  0.824   0.325      0.932  0.482      0.928\n",
       "20       8000  0.814   0.273      0.966  0.425      0.915\n",
       "21      10000  0.826   0.316      0.985  0.478      0.938\n",
       "22      13000  0.828   0.321      0.985  0.484      0.932"
      ]
     },
     "execution_count": 8,
     "metadata": {},
     "output_type": "execute_result"
    }
   ],
   "source": [
    "\n",
    "fan_target_sr_id04"
   ]
  },
  {
   "cell_type": "code",
   "execution_count": 9,
   "id": "cf57d88a",
   "metadata": {},
   "outputs": [
    {
     "data": {
      "text/html": [
       "<div>\n",
       "<style scoped>\n",
       "    .dataframe tbody tr th:only-of-type {\n",
       "        vertical-align: middle;\n",
       "    }\n",
       "\n",
       "    .dataframe tbody tr th {\n",
       "        vertical-align: top;\n",
       "    }\n",
       "\n",
       "    .dataframe thead th {\n",
       "        text-align: right;\n",
       "    }\n",
       "</style>\n",
       "<table border=\"1\" class=\"dataframe\">\n",
       "  <thead>\n",
       "    <tr style=\"text-align: right;\">\n",
       "      <th></th>\n",
       "      <th>target_sr</th>\n",
       "      <th>acc</th>\n",
       "      <th>recall</th>\n",
       "      <th>precision</th>\n",
       "      <th>f1</th>\n",
       "      <th>auc_score</th>\n",
       "    </tr>\n",
       "  </thead>\n",
       "  <tbody>\n",
       "    <tr>\n",
       "      <th>0</th>\n",
       "      <td>40</td>\n",
       "      <td>0.706</td>\n",
       "      <td>0.065</td>\n",
       "      <td>0.259</td>\n",
       "      <td>0.103</td>\n",
       "      <td>0.521</td>\n",
       "    </tr>\n",
       "    <tr>\n",
       "      <th>1</th>\n",
       "      <td>50</td>\n",
       "      <td>0.722</td>\n",
       "      <td>0.051</td>\n",
       "      <td>0.314</td>\n",
       "      <td>0.087</td>\n",
       "      <td>0.528</td>\n",
       "    </tr>\n",
       "    <tr>\n",
       "      <th>2</th>\n",
       "      <td>64</td>\n",
       "      <td>0.725</td>\n",
       "      <td>0.046</td>\n",
       "      <td>0.333</td>\n",
       "      <td>0.081</td>\n",
       "      <td>0.552</td>\n",
       "    </tr>\n",
       "    <tr>\n",
       "      <th>3</th>\n",
       "      <td>80</td>\n",
       "      <td>0.719</td>\n",
       "      <td>0.037</td>\n",
       "      <td>0.258</td>\n",
       "      <td>0.065</td>\n",
       "      <td>0.503</td>\n",
       "    </tr>\n",
       "    <tr>\n",
       "      <th>4</th>\n",
       "      <td>100</td>\n",
       "      <td>0.724</td>\n",
       "      <td>0.032</td>\n",
       "      <td>0.280</td>\n",
       "      <td>0.058</td>\n",
       "      <td>0.492</td>\n",
       "    </tr>\n",
       "    <tr>\n",
       "      <th>5</th>\n",
       "      <td>125</td>\n",
       "      <td>0.772</td>\n",
       "      <td>0.194</td>\n",
       "      <td>0.764</td>\n",
       "      <td>0.309</td>\n",
       "      <td>0.637</td>\n",
       "    </tr>\n",
       "    <tr>\n",
       "      <th>6</th>\n",
       "      <td>128</td>\n",
       "      <td>0.775</td>\n",
       "      <td>0.194</td>\n",
       "      <td>0.792</td>\n",
       "      <td>0.311</td>\n",
       "      <td>0.658</td>\n",
       "    </tr>\n",
       "    <tr>\n",
       "      <th>7</th>\n",
       "      <td>160</td>\n",
       "      <td>0.745</td>\n",
       "      <td>0.092</td>\n",
       "      <td>0.588</td>\n",
       "      <td>0.159</td>\n",
       "      <td>0.631</td>\n",
       "    </tr>\n",
       "    <tr>\n",
       "      <th>8</th>\n",
       "      <td>200</td>\n",
       "      <td>0.752</td>\n",
       "      <td>0.111</td>\n",
       "      <td>0.667</td>\n",
       "      <td>0.190</td>\n",
       "      <td>0.619</td>\n",
       "    </tr>\n",
       "    <tr>\n",
       "      <th>9</th>\n",
       "      <td>250</td>\n",
       "      <td>0.801</td>\n",
       "      <td>0.263</td>\n",
       "      <td>0.934</td>\n",
       "      <td>0.410</td>\n",
       "      <td>0.834</td>\n",
       "    </tr>\n",
       "    <tr>\n",
       "      <th>10</th>\n",
       "      <td>320</td>\n",
       "      <td>0.763</td>\n",
       "      <td>0.129</td>\n",
       "      <td>0.800</td>\n",
       "      <td>0.222</td>\n",
       "      <td>0.736</td>\n",
       "    </tr>\n",
       "    <tr>\n",
       "      <th>11</th>\n",
       "      <td>400</td>\n",
       "      <td>0.757</td>\n",
       "      <td>0.106</td>\n",
       "      <td>0.767</td>\n",
       "      <td>0.186</td>\n",
       "      <td>0.693</td>\n",
       "    </tr>\n",
       "    <tr>\n",
       "      <th>12</th>\n",
       "      <td>500</td>\n",
       "      <td>0.745</td>\n",
       "      <td>0.055</td>\n",
       "      <td>0.667</td>\n",
       "      <td>0.102</td>\n",
       "      <td>0.668</td>\n",
       "    </tr>\n",
       "    <tr>\n",
       "      <th>13</th>\n",
       "      <td>640</td>\n",
       "      <td>0.937</td>\n",
       "      <td>0.770</td>\n",
       "      <td>0.988</td>\n",
       "      <td>0.865</td>\n",
       "      <td>0.993</td>\n",
       "    </tr>\n",
       "    <tr>\n",
       "      <th>14</th>\n",
       "      <td>800</td>\n",
       "      <td>0.937</td>\n",
       "      <td>0.770</td>\n",
       "      <td>0.988</td>\n",
       "      <td>0.865</td>\n",
       "      <td>0.996</td>\n",
       "    </tr>\n",
       "    <tr>\n",
       "      <th>15</th>\n",
       "      <td>1000</td>\n",
       "      <td>0.936</td>\n",
       "      <td>0.760</td>\n",
       "      <td>0.994</td>\n",
       "      <td>0.862</td>\n",
       "      <td>0.994</td>\n",
       "    </tr>\n",
       "    <tr>\n",
       "      <th>16</th>\n",
       "      <td>1600</td>\n",
       "      <td>0.942</td>\n",
       "      <td>0.779</td>\n",
       "      <td>1.000</td>\n",
       "      <td>0.876</td>\n",
       "      <td>0.999</td>\n",
       "    </tr>\n",
       "    <tr>\n",
       "      <th>17</th>\n",
       "      <td>2000</td>\n",
       "      <td>0.938</td>\n",
       "      <td>0.770</td>\n",
       "      <td>0.994</td>\n",
       "      <td>0.868</td>\n",
       "      <td>0.999</td>\n",
       "    </tr>\n",
       "    <tr>\n",
       "      <th>18</th>\n",
       "      <td>3200</td>\n",
       "      <td>0.937</td>\n",
       "      <td>0.765</td>\n",
       "      <td>0.994</td>\n",
       "      <td>0.865</td>\n",
       "      <td>0.997</td>\n",
       "    </tr>\n",
       "    <tr>\n",
       "      <th>19</th>\n",
       "      <td>4000</td>\n",
       "      <td>0.932</td>\n",
       "      <td>0.747</td>\n",
       "      <td>0.994</td>\n",
       "      <td>0.853</td>\n",
       "      <td>0.998</td>\n",
       "    </tr>\n",
       "    <tr>\n",
       "      <th>20</th>\n",
       "      <td>8000</td>\n",
       "      <td>0.930</td>\n",
       "      <td>0.737</td>\n",
       "      <td>0.994</td>\n",
       "      <td>0.847</td>\n",
       "      <td>0.999</td>\n",
       "    </tr>\n",
       "    <tr>\n",
       "      <th>21</th>\n",
       "      <td>10000</td>\n",
       "      <td>0.929</td>\n",
       "      <td>0.728</td>\n",
       "      <td>1.000</td>\n",
       "      <td>0.843</td>\n",
       "      <td>0.999</td>\n",
       "    </tr>\n",
       "    <tr>\n",
       "      <th>22</th>\n",
       "      <td>13000</td>\n",
       "      <td>0.929</td>\n",
       "      <td>0.728</td>\n",
       "      <td>1.000</td>\n",
       "      <td>0.843</td>\n",
       "      <td>0.999</td>\n",
       "    </tr>\n",
       "  </tbody>\n",
       "</table>\n",
       "</div>"
      ],
      "text/plain": [
       "    target_sr    acc  recall  precision     f1  auc_score\n",
       "0          40  0.706   0.065      0.259  0.103      0.521\n",
       "1          50  0.722   0.051      0.314  0.087      0.528\n",
       "2          64  0.725   0.046      0.333  0.081      0.552\n",
       "3          80  0.719   0.037      0.258  0.065      0.503\n",
       "4         100  0.724   0.032      0.280  0.058      0.492\n",
       "5         125  0.772   0.194      0.764  0.309      0.637\n",
       "6         128  0.775   0.194      0.792  0.311      0.658\n",
       "7         160  0.745   0.092      0.588  0.159      0.631\n",
       "8         200  0.752   0.111      0.667  0.190      0.619\n",
       "9         250  0.801   0.263      0.934  0.410      0.834\n",
       "10        320  0.763   0.129      0.800  0.222      0.736\n",
       "11        400  0.757   0.106      0.767  0.186      0.693\n",
       "12        500  0.745   0.055      0.667  0.102      0.668\n",
       "13        640  0.937   0.770      0.988  0.865      0.993\n",
       "14        800  0.937   0.770      0.988  0.865      0.996\n",
       "15       1000  0.936   0.760      0.994  0.862      0.994\n",
       "16       1600  0.942   0.779      1.000  0.876      0.999\n",
       "17       2000  0.938   0.770      0.994  0.868      0.999\n",
       "18       3200  0.937   0.765      0.994  0.865      0.997\n",
       "19       4000  0.932   0.747      0.994  0.853      0.998\n",
       "20       8000  0.930   0.737      0.994  0.847      0.999\n",
       "21      10000  0.929   0.728      1.000  0.843      0.999\n",
       "22      13000  0.929   0.728      1.000  0.843      0.999"
      ]
     },
     "execution_count": 9,
     "metadata": {},
     "output_type": "execute_result"
    }
   ],
   "source": [
    "fan_target_sr_id06"
   ]
  },
  {
   "cell_type": "markdown",
   "id": "d3212adf",
   "metadata": {},
   "source": [
    "id00 : f1 = 64, auc = 64\n",
    "id02 : f1 =125, auc = 10000 \n",
    "id04 : f1 =125, auc = 125 \n",
    "id06 : f1 =1600, auc = 1600"
   ]
  }
 ],
 "metadata": {
  "kernelspec": {
   "display_name": "Python 3 (ipykernel)",
   "language": "python",
   "name": "python3"
  },
  "language_info": {
   "codemirror_mode": {
    "name": "ipython",
    "version": 3
   },
   "file_extension": ".py",
   "mimetype": "text/x-python",
   "name": "python",
   "nbconvert_exporter": "python",
   "pygments_lexer": "ipython3",
   "version": "3.8.11"
  },
  "toc": {
   "base_numbering": 1,
   "nav_menu": {},
   "number_sections": true,
   "sideBar": true,
   "skip_h1_title": false,
   "title_cell": "Table of Contents",
   "title_sidebar": "Contents",
   "toc_cell": false,
   "toc_position": {
    "height": "calc(100% - 180px)",
    "left": "10px",
    "top": "150px",
    "width": "288px"
   },
   "toc_section_display": true,
   "toc_window_display": true
  }
 },
 "nbformat": 4,
 "nbformat_minor": 5
}

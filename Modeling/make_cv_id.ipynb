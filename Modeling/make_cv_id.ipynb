{
 "cells": [
  {
   "cell_type": "code",
   "execution_count": 1,
   "id": "a3938b54",
   "metadata": {},
   "outputs": [],
   "source": [
    "import numpy as np\n",
    "import pandas as pd\n",
    "import glob\n",
    "import os\n",
    "os.getcwd()\n",
    "os.chdir('/project/time_series')\n",
    "from load_data_custom import load_data_using_multi_process\n",
    "from make_roc_curve import make_roc_curve\n",
    "os.chdir('/project/time_series/cchc0427')\n",
    "from lightgbm import LGBMClassifier\n",
    "from sklearn.model_selection import train_test_split\n",
    "from model import model_lgbm\n",
    "from sklearn.metrics import accuracy_score, f1_score, roc_auc_score, precision_score, recall_score\n",
    "import lazy_loader as lazy\n",
    "samplerate = lazy.load(\"samplerate\")\n",
    "resampy = lazy.load(\"resampy\")\n",
    "import copy\n",
    "import librosa\n",
    "import time\n",
    "import csv\n",
    "import warnings\n",
    "warnings.filterwarnings(action='ignore')"
   ]
  },
  {
   "cell_type": "code",
   "execution_count": 2,
   "id": "79a4da16",
   "metadata": {},
   "outputs": [],
   "source": [
    "fan_path = '/data/time_series/fan/0'\n",
    "id_lst = ['/id_00', '/id_02', '/id_04', '/id_06']\n",
    "file_path = []        "
   ]
  },
  {
   "cell_type": "code",
   "execution_count": 3,
   "id": "3663ae10",
   "metadata": {},
   "outputs": [
    {
     "name": "stdout",
     "output_type": "stream",
     "text": [
      "/id_00 시작\n",
      "fan_0_id_00\n",
      "/id_02 시작\n",
      "fan_0_id_02\n",
      "/id_04 시작\n",
      "fan_0_id_04\n",
      "/id_06 시작\n",
      "fan_0_id_06\n"
     ]
    }
   ],
   "source": [
    "for i, test_id in enumerate(id_lst):\n",
    "    id_lst1 = copy.deepcopy(id_lst)\n",
    "    id_lst1.remove(test_id)\n",
    "    test_file = glob.glob(fan_path + test_id +'/*/*')\n",
    "    train_file = []\n",
    "    \n",
    "    obj_name = test_file[0].split('/')[3:6]\n",
    "    print(f'{test_id} 시작')\n",
    "    print(\"_\".join(obj_name))\n",
    "    \n",
    "    for train_id in id_lst1:\n",
    "        file = glob.glob(fan_path + train_id + '/*/*')\n",
    "        train_file += file"
   ]
  },
  {
   "cell_type": "code",
   "execution_count": 4,
   "id": "512bad24",
   "metadata": {},
   "outputs": [],
   "source": [
    "target_lst = []\n",
    "for i in range(1, 16001):\n",
    "    if ( i < 60 ) or ( i > 13000):\n",
    "        continue\n",
    "    if 16000 % i == 0 :\n",
    "        target_lst.append(int(i))\n",
    "target_lst.append(10000)\n",
    "target_lst.append(13000)\n",
    "sampling_lst = ['abs_max(our_custom)',\n",
    "                'kaiser_best',\n",
    "                'kaiser_fast',\n",
    "                'fft',\n",
    "                'scipy',\n",
    "                'polyphase',\n",
    "                'linear',\n",
    "                'zero_order_hold',\n",
    "                'sinc_best',\n",
    "                'sinc_medium' ,\n",
    "                'sinc_fastest',\n",
    "                'soxr_vhq',\n",
    "                'soxr_hq',\n",
    "                'soxr_mq',\n",
    "                'soxr_lq',\n",
    "                'soxr_qq']"
   ]
  },
  {
   "cell_type": "code",
   "execution_count": 6,
   "id": "81c06bc7",
   "metadata": {},
   "outputs": [],
   "source": [
    "obj_name = test_file[0].split('/')[3:6]\n",
    "name = \"_\".join(obj_name)\n",
    "name = str(name)\n",
    "name = str(name)"
   ]
  },
  {
   "cell_type": "code",
   "execution_count": 7,
   "id": "d0a6fffb",
   "metadata": {},
   "outputs": [
    {
     "data": {
      "text/plain": [
       "['/id_00', '/id_02', '/id_04', '/id_06']"
      ]
     },
     "execution_count": 7,
     "metadata": {},
     "output_type": "execute_result"
    }
   ],
   "source": [
    "id_lst"
   ]
  },
  {
   "cell_type": "code",
   "execution_count": 8,
   "id": "b0531a80",
   "metadata": {},
   "outputs": [
    {
     "name": "stdout",
     "output_type": "stream",
     "text": [
      "행개수1344\n"
     ]
    }
   ],
   "source": [
    "print(f'행개수{len(sampling_lst) * len(target_lst) * len(id_lst)}')"
   ]
  },
  {
   "cell_type": "code",
   "execution_count": 9,
   "id": "ecc23e71",
   "metadata": {},
   "outputs": [
    {
     "name": "stdout",
     "output_type": "stream",
     "text": [
      "행개수4032\n"
     ]
    }
   ],
   "source": [
    "print(f'행개수{len(sampling_lst) * len(target_lst) * 12}')"
   ]
  },
  {
   "cell_type": "code",
   "execution_count": 20,
   "id": "12e57fa1",
   "metadata": {},
   "outputs": [
    {
     "data": {
      "text/plain": [
       "4132"
      ]
     },
     "execution_count": 20,
     "metadata": {},
     "output_type": "execute_result"
    }
   ],
   "source": [
    "len(train_file)"
   ]
  },
  {
   "cell_type": "code",
   "execution_count": 18,
   "id": "ab949b78",
   "metadata": {},
   "outputs": [
    {
     "data": {
      "text/plain": [
       "1418"
      ]
     },
     "execution_count": 18,
     "metadata": {},
     "output_type": "execute_result"
    }
   ],
   "source": [
    "len(test_file)"
   ]
  },
  {
   "cell_type": "code",
   "execution_count": 10,
   "id": "a4ef6259",
   "metadata": {
    "scrolled": true
   },
   "outputs": [
    {
     "name": "stdout",
     "output_type": "stream",
     "text": [
      "파일 저장 완료파일 저장 완료파일 저장 완료파일 저장 완료파일 저장 완료\n",
      "\n",
      "파일 저장 완료파일 저장 완료파일 저장 완료파일 저장 완료파일 저장 완료\n",
      "\n",
      "파일 저장 완료파일 저장 완료파일 저장 완료파일 저장 완료파일 저장 완료\n",
      "\n",
      "\n"
     ]
    }
   ],
   "source": [
    "# 여기 돌려요\n",
    "result = []\n",
    "f = open('cv_id.csv','w', newline = '')\n",
    "wr = csv.writer(f)\n",
    "wr.writerow(['Model','sampling_way','target_sr','acc','recall','precision','f1','auc_score'])\n",
    "\n",
    "for i, test_id in enumerate(id_lst):\n",
    "    id_lst1 = copy.deepcopy(id_lst)\n",
    "    id_lst1.remove(test_id)\n",
    "    test_file = glob.glob(fan_path + test_id +'/*/*')\n",
    "    train_file = []\n",
    "    \n",
    "    obj_name = test_file[0].split('/')[3:6]\n",
    "    name = str('_'.join(obj_name))\n",
    "    \n",
    "    for train_id in id_lst1:\n",
    "        file = glob.glob(fan_path + train_id + '/*/*')\n",
    "        train_file += file\n",
    "    break    \n",
    "    for sampling_way in sampling_lst:\n",
    "        start = time.time()\n",
    "        for target_sr in target_lst:\n",
    "\n",
    "            train_result = load_data_using_multi_process(train_file, sr = 16000, target_sr = target_sr, sampling_way = sampling_way) # 데이터 target_sr로 부르기\n",
    "            train_result_df = pd.DataFrame(train_result)\n",
    "\n",
    "            test_result = load_data_using_multi_process(test_file, sr = 16000, target_sr = target_sr, sampling_way = sampling_way)\n",
    "            test_result_df = pd.DataFrame(test_result)\n",
    "            \n",
    "            train_data = train_result_df.iloc[:, :-1]\n",
    "            train_target = train_result_df.iloc[:, -1]\n",
    "\n",
    "            test_data = test_result_df.iloc[:, :-1]\n",
    "            test_target = test_result_df.iloc[:, -1]\n",
    "            \n",
    "            model = model_lgbm(train_result_df) # using (model.py)\n",
    "\n",
    "            model.fit(train_data, train_target)\n",
    "\n",
    "            y_pred = model.predict(test_data)\n",
    "            y_pred_prob = model.predict_proba(test_data)\n",
    "\n",
    "            acc = accuracy_score(test_target, y_pred) \n",
    "            recall = recall_score(test_target, y_pred)\n",
    "            precision = precision_score(test_target, y_pred)\n",
    "            f1 = f1_score(test_target, y_pred)    \n",
    "            auc_score = roc_auc_score(test_target, y_pred_prob[ :, 1 ])\n",
    "\n",
    "            result += [ str(name), str(sampling_way), target_sr, round(acc, 3), round(recall, 3), round(precision, 3), round(f1, 3), round(auc_score, 3) ]\n",
    "            print(f'{result}\\n')\n",
    "            wr.writerow(result)\n",
    "            result = []\n",
    "            \n",
    "f.close()\n",
    "print('파일 저장 완료파일 저장 완료파일 저장 완료파일 저장 완료파일 저장 완료\\n\\n' * 3)"
   ]
  }
 ],
 "metadata": {
  "kernelspec": {
   "display_name": "Python 3 (ipykernel)",
   "language": "python",
   "name": "python3"
  },
  "language_info": {
   "codemirror_mode": {
    "name": "ipython",
    "version": 3
   },
   "file_extension": ".py",
   "mimetype": "text/x-python",
   "name": "python",
   "nbconvert_exporter": "python",
   "pygments_lexer": "ipython3",
   "version": "3.8.11"
  },
  "toc": {
   "base_numbering": 1,
   "nav_menu": {},
   "number_sections": true,
   "sideBar": true,
   "skip_h1_title": false,
   "title_cell": "Table of Contents",
   "title_sidebar": "Contents",
   "toc_cell": false,
   "toc_position": {
    "height": "calc(100% - 180px)",
    "left": "10px",
    "top": "150px",
    "width": "299.304px"
   },
   "toc_section_display": true,
   "toc_window_display": false
  }
 },
 "nbformat": 4,
 "nbformat_minor": 5
}

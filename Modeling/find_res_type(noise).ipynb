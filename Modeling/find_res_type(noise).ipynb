{
 "cells": [
  {
   "cell_type": "code",
   "execution_count": 1,
   "id": "68f167a9",
   "metadata": {},
   "outputs": [],
   "source": [
    "import numpy as np\n",
    "import pandas as pd\n",
    "import glob\n",
    "import os\n",
    "os.getcwd()\n",
    "os.chdir('/project/time_series')\n",
    "from load_data_custom import load_data_using_multi_process\n",
    "from make_roc_curve import make_roc_curve\n",
    "os.chdir('/project/time_series/cchc0427')\n",
    "from lightgbm import LGBMClassifier\n",
    "from sklearn.model_selection import train_test_split\n",
    "from model import model_lgbm\n",
    "from sklearn.metrics import accuracy_score, f1_score, roc_auc_score, precision_score, recall_score\n",
    "import lazy_loader as lazy\n",
    "samplerate = lazy.load(\"samplerate\")\n",
    "resampy = lazy.load(\"resampy\")"
   ]
  },
  {
   "cell_type": "markdown",
   "id": "a69b5a85",
   "metadata": {},
   "source": [
    "- 최적 sr   \n",
    "    - 0은 125  \n",
    "    - 6은 128   \n",
    "    - _6은 64가 나왔음"
   ]
  },
  {
   "cell_type": "markdown",
   "id": "d7cdb865",
   "metadata": {},
   "source": [
    "# noise0"
   ]
  },
  {
   "cell_type": "code",
   "execution_count": 7,
   "id": "ee210552",
   "metadata": {},
   "outputs": [],
   "source": [
    "fan_path = '/data/time_series/fan/0'\n",
    "fan_file = glob.glob( fan_path + '/*/*/*' )"
   ]
  },
  {
   "cell_type": "code",
   "execution_count": 8,
   "id": "4de11487",
   "metadata": {},
   "outputs": [
    {
     "name": "stdout",
     "output_type": "stream",
     "text": [
      "abs_max(our_custom)로 진행중입니다.\n",
      "\n",
      "멀티 프로세싱을 시작합니다. 현재 코어 30개 사용 중. \n",
      "1.다른 사람과 동시에 돌리지 마세요.\n",
      "2.함부로 진행중에 중단 하지마세요.\n",
      "--- 걸린시간: 10.737066984176636 ---\n",
      "normal : 4075\n",
      "abnormal : 1475\n",
      "scale_pos_weight is 2.76.\n",
      "Model is ready to running.\n"
     ]
    },
    {
     "name": "stderr",
     "output_type": "stream",
     "text": [
      "/package/anaconda3.8/lib/python3.8/site-packages/lightgbm/engine.py:177: UserWarning: Found `num_iterations` in params. Will use it instead of argument\n",
      "  _log_warning(f\"Found `{alias}` in params. Will use it instead of argument\")\n"
     ]
    },
    {
     "name": "stdout",
     "output_type": "stream",
     "text": [
      "kaiser_best로 진행중입니다.\n",
      "\n",
      "멀티 프로세싱을 시작합니다. 현재 코어 30개 사용 중. \n",
      "1.다른 사람과 동시에 돌리지 마세요.\n",
      "2.함부로 진행중에 중단 하지마세요.\n",
      "--- 걸린시간: 11.919414520263672 ---\n",
      "normal : 4075\n",
      "abnormal : 1475\n",
      "scale_pos_weight is 2.76.\n",
      "Model is ready to running.\n"
     ]
    },
    {
     "name": "stderr",
     "output_type": "stream",
     "text": [
      "/package/anaconda3.8/lib/python3.8/site-packages/lightgbm/engine.py:177: UserWarning: Found `num_iterations` in params. Will use it instead of argument\n",
      "  _log_warning(f\"Found `{alias}` in params. Will use it instead of argument\")\n"
     ]
    },
    {
     "name": "stdout",
     "output_type": "stream",
     "text": [
      "kaiser_fast로 진행중입니다.\n",
      "\n",
      "멀티 프로세싱을 시작합니다. 현재 코어 30개 사용 중. \n",
      "1.다른 사람과 동시에 돌리지 마세요.\n",
      "2.함부로 진행중에 중단 하지마세요.\n",
      "--- 걸린시간: 6.39085578918457 ---\n",
      "normal : 4075\n",
      "abnormal : 1475\n",
      "scale_pos_weight is 2.76.\n",
      "Model is ready to running.\n"
     ]
    },
    {
     "name": "stderr",
     "output_type": "stream",
     "text": [
      "/package/anaconda3.8/lib/python3.8/site-packages/lightgbm/engine.py:177: UserWarning: Found `num_iterations` in params. Will use it instead of argument\n",
      "  _log_warning(f\"Found `{alias}` in params. Will use it instead of argument\")\n"
     ]
    },
    {
     "name": "stdout",
     "output_type": "stream",
     "text": [
      "fft로 진행중입니다.\n",
      "\n",
      "멀티 프로세싱을 시작합니다. 현재 코어 30개 사용 중. \n",
      "1.다른 사람과 동시에 돌리지 마세요.\n",
      "2.함부로 진행중에 중단 하지마세요.\n",
      "--- 걸린시간: 2.992907762527466 ---\n",
      "normal : 4075\n",
      "abnormal : 1475\n",
      "scale_pos_weight is 2.76.\n",
      "Model is ready to running.\n"
     ]
    },
    {
     "name": "stderr",
     "output_type": "stream",
     "text": [
      "/package/anaconda3.8/lib/python3.8/site-packages/lightgbm/engine.py:177: UserWarning: Found `num_iterations` in params. Will use it instead of argument\n",
      "  _log_warning(f\"Found `{alias}` in params. Will use it instead of argument\")\n"
     ]
    },
    {
     "name": "stdout",
     "output_type": "stream",
     "text": [
      "scipy로 진행중입니다.\n",
      "\n",
      "멀티 프로세싱을 시작합니다. 현재 코어 30개 사용 중. \n",
      "1.다른 사람과 동시에 돌리지 마세요.\n",
      "2.함부로 진행중에 중단 하지마세요.\n",
      "--- 걸린시간: 2.9410288333892822 ---\n",
      "normal : 4075\n",
      "abnormal : 1475\n",
      "scale_pos_weight is 2.76.\n",
      "Model is ready to running.\n"
     ]
    },
    {
     "name": "stderr",
     "output_type": "stream",
     "text": [
      "/package/anaconda3.8/lib/python3.8/site-packages/lightgbm/engine.py:177: UserWarning: Found `num_iterations` in params. Will use it instead of argument\n",
      "  _log_warning(f\"Found `{alias}` in params. Will use it instead of argument\")\n"
     ]
    },
    {
     "name": "stdout",
     "output_type": "stream",
     "text": [
      "polyphase로 진행중입니다.\n",
      "\n",
      "멀티 프로세싱을 시작합니다. 현재 코어 30개 사용 중. \n",
      "1.다른 사람과 동시에 돌리지 마세요.\n",
      "2.함부로 진행중에 중단 하지마세요.\n",
      "--- 걸린시간: 3.2695648670196533 ---\n",
      "normal : 4075\n",
      "abnormal : 1475\n",
      "scale_pos_weight is 2.76.\n",
      "Model is ready to running.\n"
     ]
    },
    {
     "name": "stderr",
     "output_type": "stream",
     "text": [
      "/package/anaconda3.8/lib/python3.8/site-packages/lightgbm/engine.py:177: UserWarning: Found `num_iterations` in params. Will use it instead of argument\n",
      "  _log_warning(f\"Found `{alias}` in params. Will use it instead of argument\")\n"
     ]
    },
    {
     "name": "stdout",
     "output_type": "stream",
     "text": [
      "linear로 진행중입니다.\n",
      "\n",
      "멀티 프로세싱을 시작합니다. 현재 코어 30개 사용 중. \n",
      "1.다른 사람과 동시에 돌리지 마세요.\n",
      "2.함부로 진행중에 중단 하지마세요.\n",
      "--- 걸린시간: 2.7838032245635986 ---\n",
      "normal : 4075\n",
      "abnormal : 1475\n",
      "scale_pos_weight is 2.76.\n",
      "Model is ready to running.\n"
     ]
    },
    {
     "name": "stderr",
     "output_type": "stream",
     "text": [
      "/package/anaconda3.8/lib/python3.8/site-packages/lightgbm/engine.py:177: UserWarning: Found `num_iterations` in params. Will use it instead of argument\n",
      "  _log_warning(f\"Found `{alias}` in params. Will use it instead of argument\")\n"
     ]
    },
    {
     "name": "stdout",
     "output_type": "stream",
     "text": [
      "zero_order_hold로 진행중입니다.\n",
      "\n",
      "멀티 프로세싱을 시작합니다. 현재 코어 30개 사용 중. \n",
      "1.다른 사람과 동시에 돌리지 마세요.\n",
      "2.함부로 진행중에 중단 하지마세요.\n",
      "--- 걸린시간: 2.6875946521759033 ---\n",
      "normal : 4075\n",
      "abnormal : 1475\n",
      "scale_pos_weight is 2.76.\n",
      "Model is ready to running.\n"
     ]
    },
    {
     "name": "stderr",
     "output_type": "stream",
     "text": [
      "/package/anaconda3.8/lib/python3.8/site-packages/lightgbm/engine.py:177: UserWarning: Found `num_iterations` in params. Will use it instead of argument\n",
      "  _log_warning(f\"Found `{alias}` in params. Will use it instead of argument\")\n"
     ]
    },
    {
     "name": "stdout",
     "output_type": "stream",
     "text": [
      "sinc_best로 진행중입니다.\n",
      "\n",
      "멀티 프로세싱을 시작합니다. 현재 코어 30개 사용 중. \n",
      "1.다른 사람과 동시에 돌리지 마세요.\n",
      "2.함부로 진행중에 중단 하지마세요.\n",
      "--- 걸린시간: 15.545136451721191 ---\n",
      "normal : 4075\n",
      "abnormal : 1475\n",
      "scale_pos_weight is 2.76.\n",
      "Model is ready to running.\n"
     ]
    },
    {
     "name": "stderr",
     "output_type": "stream",
     "text": [
      "/package/anaconda3.8/lib/python3.8/site-packages/lightgbm/engine.py:177: UserWarning: Found `num_iterations` in params. Will use it instead of argument\n",
      "  _log_warning(f\"Found `{alias}` in params. Will use it instead of argument\")\n"
     ]
    },
    {
     "name": "stdout",
     "output_type": "stream",
     "text": [
      "sinc_medium로 진행중입니다.\n",
      "\n",
      "멀티 프로세싱을 시작합니다. 현재 코어 30개 사용 중. \n",
      "1.다른 사람과 동시에 돌리지 마세요.\n",
      "2.함부로 진행중에 중단 하지마세요.\n",
      "--- 걸린시간: 6.569728851318359 ---\n",
      "normal : 4075\n",
      "abnormal : 1475\n",
      "scale_pos_weight is 2.76.\n",
      "Model is ready to running.\n"
     ]
    },
    {
     "name": "stderr",
     "output_type": "stream",
     "text": [
      "/package/anaconda3.8/lib/python3.8/site-packages/lightgbm/engine.py:177: UserWarning: Found `num_iterations` in params. Will use it instead of argument\n",
      "  _log_warning(f\"Found `{alias}` in params. Will use it instead of argument\")\n"
     ]
    },
    {
     "name": "stdout",
     "output_type": "stream",
     "text": [
      "sinc_fastest로 진행중입니다.\n",
      "\n",
      "멀티 프로세싱을 시작합니다. 현재 코어 30개 사용 중. \n",
      "1.다른 사람과 동시에 돌리지 마세요.\n",
      "2.함부로 진행중에 중단 하지마세요.\n",
      "--- 걸린시간: 4.365612506866455 ---\n",
      "normal : 4075\n",
      "abnormal : 1475\n",
      "scale_pos_weight is 2.76.\n",
      "Model is ready to running.\n"
     ]
    },
    {
     "name": "stderr",
     "output_type": "stream",
     "text": [
      "/package/anaconda3.8/lib/python3.8/site-packages/lightgbm/engine.py:177: UserWarning: Found `num_iterations` in params. Will use it instead of argument\n",
      "  _log_warning(f\"Found `{alias}` in params. Will use it instead of argument\")\n"
     ]
    },
    {
     "name": "stdout",
     "output_type": "stream",
     "text": [
      "soxr_vhq로 진행중입니다.\n",
      "\n",
      "멀티 프로세싱을 시작합니다. 현재 코어 30개 사용 중. \n",
      "1.다른 사람과 동시에 돌리지 마세요.\n",
      "2.함부로 진행중에 중단 하지마세요.\n",
      "--- 걸린시간: 3.1823675632476807 ---\n",
      "normal : 4075\n",
      "abnormal : 1475\n",
      "scale_pos_weight is 2.76.\n",
      "Model is ready to running.\n"
     ]
    },
    {
     "name": "stderr",
     "output_type": "stream",
     "text": [
      "/package/anaconda3.8/lib/python3.8/site-packages/lightgbm/engine.py:177: UserWarning: Found `num_iterations` in params. Will use it instead of argument\n",
      "  _log_warning(f\"Found `{alias}` in params. Will use it instead of argument\")\n"
     ]
    },
    {
     "name": "stdout",
     "output_type": "stream",
     "text": [
      "soxr_hq로 진행중입니다.\n",
      "\n",
      "멀티 프로세싱을 시작합니다. 현재 코어 30개 사용 중. \n",
      "1.다른 사람과 동시에 돌리지 마세요.\n",
      "2.함부로 진행중에 중단 하지마세요.\n",
      "--- 걸린시간: 2.916276454925537 ---\n",
      "normal : 4075\n",
      "abnormal : 1475\n",
      "scale_pos_weight is 2.76.\n",
      "Model is ready to running.\n"
     ]
    },
    {
     "name": "stderr",
     "output_type": "stream",
     "text": [
      "/package/anaconda3.8/lib/python3.8/site-packages/lightgbm/engine.py:177: UserWarning: Found `num_iterations` in params. Will use it instead of argument\n",
      "  _log_warning(f\"Found `{alias}` in params. Will use it instead of argument\")\n"
     ]
    },
    {
     "name": "stdout",
     "output_type": "stream",
     "text": [
      "soxr_mq로 진행중입니다.\n",
      "\n",
      "멀티 프로세싱을 시작합니다. 현재 코어 30개 사용 중. \n",
      "1.다른 사람과 동시에 돌리지 마세요.\n",
      "2.함부로 진행중에 중단 하지마세요.\n",
      "--- 걸린시간: 2.9123122692108154 ---\n",
      "normal : 4075\n",
      "abnormal : 1475\n",
      "scale_pos_weight is 2.76.\n",
      "Model is ready to running.\n"
     ]
    },
    {
     "name": "stderr",
     "output_type": "stream",
     "text": [
      "/package/anaconda3.8/lib/python3.8/site-packages/lightgbm/engine.py:177: UserWarning: Found `num_iterations` in params. Will use it instead of argument\n",
      "  _log_warning(f\"Found `{alias}` in params. Will use it instead of argument\")\n"
     ]
    },
    {
     "name": "stdout",
     "output_type": "stream",
     "text": [
      "soxr_lq로 진행중입니다.\n",
      "\n",
      "멀티 프로세싱을 시작합니다. 현재 코어 30개 사용 중. \n",
      "1.다른 사람과 동시에 돌리지 마세요.\n",
      "2.함부로 진행중에 중단 하지마세요.\n",
      "--- 걸린시간: 2.902129888534546 ---\n",
      "normal : 4075\n",
      "abnormal : 1475\n",
      "scale_pos_weight is 2.76.\n",
      "Model is ready to running.\n"
     ]
    },
    {
     "name": "stderr",
     "output_type": "stream",
     "text": [
      "/package/anaconda3.8/lib/python3.8/site-packages/lightgbm/engine.py:177: UserWarning: Found `num_iterations` in params. Will use it instead of argument\n",
      "  _log_warning(f\"Found `{alias}` in params. Will use it instead of argument\")\n"
     ]
    },
    {
     "name": "stdout",
     "output_type": "stream",
     "text": [
      "soxr_hq로 진행중입니다.\n",
      "\n",
      "멀티 프로세싱을 시작합니다. 현재 코어 30개 사용 중. \n",
      "1.다른 사람과 동시에 돌리지 마세요.\n",
      "2.함부로 진행중에 중단 하지마세요.\n",
      "--- 걸린시간: 3.036803960800171 ---\n",
      "normal : 4075\n",
      "abnormal : 1475\n",
      "scale_pos_weight is 2.76.\n",
      "Model is ready to running.\n"
     ]
    },
    {
     "name": "stderr",
     "output_type": "stream",
     "text": [
      "/package/anaconda3.8/lib/python3.8/site-packages/lightgbm/engine.py:177: UserWarning: Found `num_iterations` in params. Will use it instead of argument\n",
      "  _log_warning(f\"Found `{alias}` in params. Will use it instead of argument\")\n"
     ]
    },
    {
     "name": "stdout",
     "output_type": "stream",
     "text": [
      "soxr_qq로 진행중입니다.\n",
      "\n",
      "멀티 프로세싱을 시작합니다. 현재 코어 30개 사용 중. \n",
      "1.다른 사람과 동시에 돌리지 마세요.\n",
      "2.함부로 진행중에 중단 하지마세요.\n",
      "--- 걸린시간: 2.70398211479187 ---\n",
      "normal : 4075\n",
      "abnormal : 1475\n",
      "scale_pos_weight is 2.76.\n",
      "Model is ready to running.\n"
     ]
    },
    {
     "name": "stderr",
     "output_type": "stream",
     "text": [
      "/package/anaconda3.8/lib/python3.8/site-packages/lightgbm/engine.py:177: UserWarning: Found `num_iterations` in params. Will use it instead of argument\n",
      "  _log_warning(f\"Found `{alias}` in params. Will use it instead of argument\")\n"
     ]
    }
   ],
   "source": [
    "sampling_lst = ['abs_max(our_custom)',\n",
    "                'kaiser_best',\n",
    "                'kaiser_fast',\n",
    "                'fft',\n",
    "                'scipy',\n",
    "                'polyphase',\n",
    "                'linear',\n",
    "                'zero_order_hold',\n",
    "                'sinc_best',\n",
    "                'sinc_medium' ,\n",
    "                'sinc_fastest',\n",
    "                'soxr_vhq',\n",
    "                'soxr_hq',\n",
    "                'soxr_mq',\n",
    "                'soxr_lq',\n",
    "                'soxr_hq',\n",
    "                'soxr_qq']\n",
    "target_sr = 125\n",
    "result = []\n",
    "\n",
    "for res_type in sampling_lst:\n",
    "    print(f'{res_type}로 진행중입니다.')\n",
    "    fan_result = fan_result = load_data_using_multi_process(fan_file, sr = 16000, target_sr = target_sr, res_type = res_type) # 데이터 target_sr로 부르기\n",
    "    \n",
    "    fan_result_df = pd.DataFrame(fan_result)\n",
    "    \n",
    "    data = fan_result_df.iloc[:, :-1]\n",
    "    target = fan_result_df.iloc[:, -1]\n",
    "    \n",
    "    X_train, X_test, y_train, y_test = train_test_split(data, target, test_size=0.2, shuffle=True, stratify=target, random_state=42)\n",
    "    \n",
    "    model = model_lgbm(fan_result_df) # using (model.py)\n",
    "    \n",
    "    model.fit(X_train, y_train)\n",
    "\n",
    "    y_pred = model.predict(X_test)\n",
    "    y_pred_prob = model.predict_proba(X_test)\n",
    "    \n",
    "    acc = accuracy_score(y_test, y_pred) \n",
    "    recall = recall_score(y_test, y_pred)\n",
    "    precision = precision_score(y_test, y_pred)\n",
    "    f1 = f1_score(y_test, y_pred)    \n",
    "    auc_score = roc_auc_score(y_test, y_pred_prob[ :, 1 ])\n",
    "    \n",
    "    result.append([ res_type, round(acc, 3) ,round(recall, 3), round(precision, 3), round(f1, 3), round(auc_score, 3) ])\n",
    "\n",
    "result_df = pd.DataFrame(result, columns = [ 'res_type', 'acc', 'recall', 'precision', 'f1', 'auc_score'])\n",
    "result_df.to_csv('/project/time_series/cchc0427/noise/fan0_res_type.csv', index = False)\n"
   ]
  },
  {
   "cell_type": "markdown",
   "id": "d5ca3050",
   "metadata": {},
   "source": [
    "# noise6"
   ]
  },
  {
   "cell_type": "code",
   "execution_count": 9,
   "id": "880aa8fc",
   "metadata": {},
   "outputs": [],
   "source": [
    "fan_path = '/data/time_series/fan/6'\n",
    "fan_file = glob.glob( fan_path + '/*/*/*' )"
   ]
  },
  {
   "cell_type": "code",
   "execution_count": 10,
   "id": "2f9ae5d6",
   "metadata": {},
   "outputs": [
    {
     "name": "stdout",
     "output_type": "stream",
     "text": [
      "abs_max(our_custom)로 진행중입니다.\n",
      "\n",
      "멀티 프로세싱을 시작합니다. 현재 코어 30개 사용 중. \n",
      "1.다른 사람과 동시에 돌리지 마세요.\n",
      "2.함부로 진행중에 중단 하지마세요.\n",
      "--- 걸린시간: 11.551610231399536 ---\n",
      "normal : 4075\n",
      "abnormal : 1475\n",
      "scale_pos_weight is 2.76.\n",
      "Model is ready to running.\n"
     ]
    },
    {
     "name": "stderr",
     "output_type": "stream",
     "text": [
      "/package/anaconda3.8/lib/python3.8/site-packages/lightgbm/engine.py:177: UserWarning: Found `num_iterations` in params. Will use it instead of argument\n",
      "  _log_warning(f\"Found `{alias}` in params. Will use it instead of argument\")\n"
     ]
    },
    {
     "name": "stdout",
     "output_type": "stream",
     "text": [
      "kaiser_best로 진행중입니다.\n",
      "\n",
      "멀티 프로세싱을 시작합니다. 현재 코어 30개 사용 중. \n",
      "1.다른 사람과 동시에 돌리지 마세요.\n",
      "2.함부로 진행중에 중단 하지마세요.\n",
      "--- 걸린시간: 11.851385354995728 ---\n",
      "normal : 4075\n",
      "abnormal : 1475\n",
      "scale_pos_weight is 2.76.\n",
      "Model is ready to running.\n"
     ]
    },
    {
     "name": "stderr",
     "output_type": "stream",
     "text": [
      "/package/anaconda3.8/lib/python3.8/site-packages/lightgbm/engine.py:177: UserWarning: Found `num_iterations` in params. Will use it instead of argument\n",
      "  _log_warning(f\"Found `{alias}` in params. Will use it instead of argument\")\n"
     ]
    },
    {
     "name": "stdout",
     "output_type": "stream",
     "text": [
      "kaiser_fast로 진행중입니다.\n",
      "\n",
      "멀티 프로세싱을 시작합니다. 현재 코어 30개 사용 중. \n",
      "1.다른 사람과 동시에 돌리지 마세요.\n",
      "2.함부로 진행중에 중단 하지마세요.\n",
      "--- 걸린시간: 6.6443703174591064 ---\n",
      "normal : 4075\n",
      "abnormal : 1475\n",
      "scale_pos_weight is 2.76.\n",
      "Model is ready to running.\n"
     ]
    },
    {
     "name": "stderr",
     "output_type": "stream",
     "text": [
      "/package/anaconda3.8/lib/python3.8/site-packages/lightgbm/engine.py:177: UserWarning: Found `num_iterations` in params. Will use it instead of argument\n",
      "  _log_warning(f\"Found `{alias}` in params. Will use it instead of argument\")\n"
     ]
    },
    {
     "name": "stdout",
     "output_type": "stream",
     "text": [
      "fft로 진행중입니다.\n",
      "\n",
      "멀티 프로세싱을 시작합니다. 현재 코어 30개 사용 중. \n",
      "1.다른 사람과 동시에 돌리지 마세요.\n",
      "2.함부로 진행중에 중단 하지마세요.\n",
      "--- 걸린시간: 3.090184450149536 ---\n",
      "normal : 4075\n",
      "abnormal : 1475\n",
      "scale_pos_weight is 2.76.\n",
      "Model is ready to running.\n"
     ]
    },
    {
     "name": "stderr",
     "output_type": "stream",
     "text": [
      "/package/anaconda3.8/lib/python3.8/site-packages/lightgbm/engine.py:177: UserWarning: Found `num_iterations` in params. Will use it instead of argument\n",
      "  _log_warning(f\"Found `{alias}` in params. Will use it instead of argument\")\n"
     ]
    },
    {
     "name": "stdout",
     "output_type": "stream",
     "text": [
      "scipy로 진행중입니다.\n",
      "\n",
      "멀티 프로세싱을 시작합니다. 현재 코어 30개 사용 중. \n",
      "1.다른 사람과 동시에 돌리지 마세요.\n",
      "2.함부로 진행중에 중단 하지마세요.\n",
      "--- 걸린시간: 2.966590166091919 ---\n",
      "normal : 4075\n",
      "abnormal : 1475\n",
      "scale_pos_weight is 2.76.\n",
      "Model is ready to running.\n"
     ]
    },
    {
     "name": "stderr",
     "output_type": "stream",
     "text": [
      "/package/anaconda3.8/lib/python3.8/site-packages/lightgbm/engine.py:177: UserWarning: Found `num_iterations` in params. Will use it instead of argument\n",
      "  _log_warning(f\"Found `{alias}` in params. Will use it instead of argument\")\n"
     ]
    },
    {
     "name": "stdout",
     "output_type": "stream",
     "text": [
      "polyphase로 진행중입니다.\n",
      "\n",
      "멀티 프로세싱을 시작합니다. 현재 코어 30개 사용 중. \n",
      "1.다른 사람과 동시에 돌리지 마세요.\n",
      "2.함부로 진행중에 중단 하지마세요.\n",
      "--- 걸린시간: 3.3486857414245605 ---\n",
      "normal : 4075\n",
      "abnormal : 1475\n",
      "scale_pos_weight is 2.76.\n",
      "Model is ready to running.\n"
     ]
    },
    {
     "name": "stderr",
     "output_type": "stream",
     "text": [
      "/package/anaconda3.8/lib/python3.8/site-packages/lightgbm/engine.py:177: UserWarning: Found `num_iterations` in params. Will use it instead of argument\n",
      "  _log_warning(f\"Found `{alias}` in params. Will use it instead of argument\")\n"
     ]
    },
    {
     "name": "stdout",
     "output_type": "stream",
     "text": [
      "linear로 진행중입니다.\n",
      "\n",
      "멀티 프로세싱을 시작합니다. 현재 코어 30개 사용 중. \n",
      "1.다른 사람과 동시에 돌리지 마세요.\n",
      "2.함부로 진행중에 중단 하지마세요.\n",
      "--- 걸린시간: 2.8105437755584717 ---\n",
      "normal : 4075\n",
      "abnormal : 1475\n",
      "scale_pos_weight is 2.76.\n",
      "Model is ready to running.\n"
     ]
    },
    {
     "name": "stderr",
     "output_type": "stream",
     "text": [
      "/package/anaconda3.8/lib/python3.8/site-packages/lightgbm/engine.py:177: UserWarning: Found `num_iterations` in params. Will use it instead of argument\n",
      "  _log_warning(f\"Found `{alias}` in params. Will use it instead of argument\")\n"
     ]
    },
    {
     "name": "stdout",
     "output_type": "stream",
     "text": [
      "zero_order_hold로 진행중입니다.\n",
      "\n",
      "멀티 프로세싱을 시작합니다. 현재 코어 30개 사용 중. \n",
      "1.다른 사람과 동시에 돌리지 마세요.\n",
      "2.함부로 진행중에 중단 하지마세요.\n",
      "--- 걸린시간: 2.9086217880249023 ---\n",
      "normal : 4075\n",
      "abnormal : 1475\n",
      "scale_pos_weight is 2.76.\n",
      "Model is ready to running.\n"
     ]
    },
    {
     "name": "stderr",
     "output_type": "stream",
     "text": [
      "/package/anaconda3.8/lib/python3.8/site-packages/lightgbm/engine.py:177: UserWarning: Found `num_iterations` in params. Will use it instead of argument\n",
      "  _log_warning(f\"Found `{alias}` in params. Will use it instead of argument\")\n"
     ]
    },
    {
     "name": "stdout",
     "output_type": "stream",
     "text": [
      "sinc_best로 진행중입니다.\n",
      "\n",
      "멀티 프로세싱을 시작합니다. 현재 코어 30개 사용 중. \n",
      "1.다른 사람과 동시에 돌리지 마세요.\n",
      "2.함부로 진행중에 중단 하지마세요.\n",
      "--- 걸린시간: 15.92197036743164 ---\n",
      "normal : 4075\n",
      "abnormal : 1475\n",
      "scale_pos_weight is 2.76.\n",
      "Model is ready to running.\n"
     ]
    },
    {
     "name": "stderr",
     "output_type": "stream",
     "text": [
      "/package/anaconda3.8/lib/python3.8/site-packages/lightgbm/engine.py:177: UserWarning: Found `num_iterations` in params. Will use it instead of argument\n",
      "  _log_warning(f\"Found `{alias}` in params. Will use it instead of argument\")\n"
     ]
    },
    {
     "name": "stdout",
     "output_type": "stream",
     "text": [
      "sinc_medium로 진행중입니다.\n",
      "\n",
      "멀티 프로세싱을 시작합니다. 현재 코어 30개 사용 중. \n",
      "1.다른 사람과 동시에 돌리지 마세요.\n",
      "2.함부로 진행중에 중단 하지마세요.\n",
      "--- 걸린시간: 7.642614126205444 ---\n",
      "normal : 4075\n",
      "abnormal : 1475\n",
      "scale_pos_weight is 2.76.\n",
      "Model is ready to running.\n"
     ]
    },
    {
     "name": "stderr",
     "output_type": "stream",
     "text": [
      "/package/anaconda3.8/lib/python3.8/site-packages/lightgbm/engine.py:177: UserWarning: Found `num_iterations` in params. Will use it instead of argument\n",
      "  _log_warning(f\"Found `{alias}` in params. Will use it instead of argument\")\n"
     ]
    },
    {
     "name": "stdout",
     "output_type": "stream",
     "text": [
      "sinc_fastest로 진행중입니다.\n",
      "\n",
      "멀티 프로세싱을 시작합니다. 현재 코어 30개 사용 중. \n",
      "1.다른 사람과 동시에 돌리지 마세요.\n",
      "2.함부로 진행중에 중단 하지마세요.\n",
      "--- 걸린시간: 4.744571208953857 ---\n",
      "normal : 4075\n",
      "abnormal : 1475\n",
      "scale_pos_weight is 2.76.\n",
      "Model is ready to running.\n"
     ]
    },
    {
     "name": "stderr",
     "output_type": "stream",
     "text": [
      "/package/anaconda3.8/lib/python3.8/site-packages/lightgbm/engine.py:177: UserWarning: Found `num_iterations` in params. Will use it instead of argument\n",
      "  _log_warning(f\"Found `{alias}` in params. Will use it instead of argument\")\n"
     ]
    },
    {
     "name": "stdout",
     "output_type": "stream",
     "text": [
      "soxr_vhq로 진행중입니다.\n",
      "\n",
      "멀티 프로세싱을 시작합니다. 현재 코어 30개 사용 중. \n",
      "1.다른 사람과 동시에 돌리지 마세요.\n",
      "2.함부로 진행중에 중단 하지마세요.\n",
      "--- 걸린시간: 3.4829893112182617 ---\n",
      "normal : 4075\n",
      "abnormal : 1475\n",
      "scale_pos_weight is 2.76.\n",
      "Model is ready to running.\n"
     ]
    },
    {
     "name": "stderr",
     "output_type": "stream",
     "text": [
      "/package/anaconda3.8/lib/python3.8/site-packages/lightgbm/engine.py:177: UserWarning: Found `num_iterations` in params. Will use it instead of argument\n",
      "  _log_warning(f\"Found `{alias}` in params. Will use it instead of argument\")\n"
     ]
    },
    {
     "name": "stdout",
     "output_type": "stream",
     "text": [
      "soxr_hq로 진행중입니다.\n",
      "\n",
      "멀티 프로세싱을 시작합니다. 현재 코어 30개 사용 중. \n",
      "1.다른 사람과 동시에 돌리지 마세요.\n",
      "2.함부로 진행중에 중단 하지마세요.\n",
      "--- 걸린시간: 3.103827953338623 ---\n",
      "normal : 4075\n",
      "abnormal : 1475\n",
      "scale_pos_weight is 2.76.\n",
      "Model is ready to running.\n"
     ]
    },
    {
     "name": "stderr",
     "output_type": "stream",
     "text": [
      "/package/anaconda3.8/lib/python3.8/site-packages/lightgbm/engine.py:177: UserWarning: Found `num_iterations` in params. Will use it instead of argument\n",
      "  _log_warning(f\"Found `{alias}` in params. Will use it instead of argument\")\n"
     ]
    },
    {
     "name": "stdout",
     "output_type": "stream",
     "text": [
      "soxr_mq로 진행중입니다.\n",
      "\n",
      "멀티 프로세싱을 시작합니다. 현재 코어 30개 사용 중. \n",
      "1.다른 사람과 동시에 돌리지 마세요.\n",
      "2.함부로 진행중에 중단 하지마세요.\n",
      "--- 걸린시간: 3.0271217823028564 ---\n",
      "normal : 4075\n",
      "abnormal : 1475\n",
      "scale_pos_weight is 2.76.\n",
      "Model is ready to running.\n"
     ]
    },
    {
     "name": "stderr",
     "output_type": "stream",
     "text": [
      "/package/anaconda3.8/lib/python3.8/site-packages/lightgbm/engine.py:177: UserWarning: Found `num_iterations` in params. Will use it instead of argument\n",
      "  _log_warning(f\"Found `{alias}` in params. Will use it instead of argument\")\n"
     ]
    },
    {
     "name": "stdout",
     "output_type": "stream",
     "text": [
      "soxr_lq로 진행중입니다.\n",
      "\n",
      "멀티 프로세싱을 시작합니다. 현재 코어 30개 사용 중. \n",
      "1.다른 사람과 동시에 돌리지 마세요.\n",
      "2.함부로 진행중에 중단 하지마세요.\n",
      "--- 걸린시간: 3.147897958755493 ---\n",
      "normal : 4075\n",
      "abnormal : 1475\n",
      "scale_pos_weight is 2.76.\n",
      "Model is ready to running.\n"
     ]
    },
    {
     "name": "stderr",
     "output_type": "stream",
     "text": [
      "/package/anaconda3.8/lib/python3.8/site-packages/lightgbm/engine.py:177: UserWarning: Found `num_iterations` in params. Will use it instead of argument\n",
      "  _log_warning(f\"Found `{alias}` in params. Will use it instead of argument\")\n"
     ]
    },
    {
     "name": "stdout",
     "output_type": "stream",
     "text": [
      "soxr_hq로 진행중입니다.\n",
      "\n",
      "멀티 프로세싱을 시작합니다. 현재 코어 30개 사용 중. \n",
      "1.다른 사람과 동시에 돌리지 마세요.\n",
      "2.함부로 진행중에 중단 하지마세요.\n",
      "--- 걸린시간: 3.115875005722046 ---\n",
      "normal : 4075\n",
      "abnormal : 1475\n",
      "scale_pos_weight is 2.76.\n",
      "Model is ready to running.\n"
     ]
    },
    {
     "name": "stderr",
     "output_type": "stream",
     "text": [
      "/package/anaconda3.8/lib/python3.8/site-packages/lightgbm/engine.py:177: UserWarning: Found `num_iterations` in params. Will use it instead of argument\n",
      "  _log_warning(f\"Found `{alias}` in params. Will use it instead of argument\")\n"
     ]
    },
    {
     "name": "stdout",
     "output_type": "stream",
     "text": [
      "soxr_qq로 진행중입니다.\n",
      "\n",
      "멀티 프로세싱을 시작합니다. 현재 코어 30개 사용 중. \n",
      "1.다른 사람과 동시에 돌리지 마세요.\n",
      "2.함부로 진행중에 중단 하지마세요.\n",
      "--- 걸린시간: 2.8086533546447754 ---\n",
      "normal : 4075\n",
      "abnormal : 1475\n",
      "scale_pos_weight is 2.76.\n",
      "Model is ready to running.\n"
     ]
    },
    {
     "name": "stderr",
     "output_type": "stream",
     "text": [
      "/package/anaconda3.8/lib/python3.8/site-packages/lightgbm/engine.py:177: UserWarning: Found `num_iterations` in params. Will use it instead of argument\n",
      "  _log_warning(f\"Found `{alias}` in params. Will use it instead of argument\")\n"
     ]
    }
   ],
   "source": [
    "sampling_lst = ['abs_max(our_custom)',\n",
    "                'kaiser_best',\n",
    "                'kaiser_fast',\n",
    "                'fft',\n",
    "                'scipy',\n",
    "                'polyphase',\n",
    "                'linear',\n",
    "                'zero_order_hold',\n",
    "                'sinc_best',\n",
    "                'sinc_medium' ,\n",
    "                'sinc_fastest',\n",
    "                'soxr_vhq',\n",
    "                'soxr_hq',\n",
    "                'soxr_mq',\n",
    "                'soxr_lq',\n",
    "                'soxr_hq',\n",
    "                'soxr_qq']\n",
    "target_sr = 128\n",
    "result = []\n",
    "\n",
    "for res_type in sampling_lst:\n",
    "    print(f'{res_type}로 진행중입니다.')\n",
    "    fan_result = fan_result = load_data_using_multi_process(fan_file, sr = 16000, target_sr = target_sr, res_type = res_type) # 데이터 target_sr로 부르기\n",
    "    \n",
    "    fan_result_df = pd.DataFrame(fan_result)\n",
    "    \n",
    "    data = fan_result_df.iloc[:, :-1]\n",
    "    target = fan_result_df.iloc[:, -1]\n",
    "    \n",
    "    X_train, X_test, y_train, y_test = train_test_split(data, target, test_size=0.2, shuffle=True, stratify=target, random_state=42)\n",
    "    \n",
    "    model = model_lgbm(fan_result_df) # using (model.py)\n",
    "    \n",
    "    model.fit(X_train, y_train)\n",
    "\n",
    "    y_pred = model.predict(X_test)\n",
    "    y_pred_prob = model.predict_proba(X_test)\n",
    "    \n",
    "    acc = accuracy_score(y_test, y_pred) \n",
    "    recall = recall_score(y_test, y_pred)\n",
    "    precision = precision_score(y_test, y_pred)\n",
    "    f1 = f1_score(y_test, y_pred)    \n",
    "    auc_score = roc_auc_score(y_test, y_pred_prob[ :, 1 ])\n",
    "    \n",
    "    result.append([ res_type, round(acc, 3) ,round(recall, 3), round(precision, 3), round(f1, 3), round(auc_score, 3) ])\n",
    "\n",
    "result_df = pd.DataFrame(result, columns = [ 'res_type', 'acc', 'recall', 'precision', 'f1', 'auc_score'])\n",
    "result_df.to_csv('/project/time_series/cchc0427/noise/fan6_res_type.csv', index = False)\n"
   ]
  },
  {
   "cell_type": "markdown",
   "id": "01ae1f07",
   "metadata": {},
   "source": [
    "# noise_6"
   ]
  },
  {
   "cell_type": "code",
   "execution_count": 11,
   "id": "ce12667c",
   "metadata": {},
   "outputs": [],
   "source": [
    "fan_path = '/data/time_series/fan/_6'\n",
    "fan_file = glob.glob( fan_path + '/*/*/*' )"
   ]
  },
  {
   "cell_type": "code",
   "execution_count": 12,
   "id": "06b63a31",
   "metadata": {},
   "outputs": [
    {
     "name": "stdout",
     "output_type": "stream",
     "text": [
      "abs_max(our_custom)로 진행중입니다.\n",
      "\n",
      "멀티 프로세싱을 시작합니다. 현재 코어 30개 사용 중. \n",
      "1.다른 사람과 동시에 돌리지 마세요.\n",
      "2.함부로 진행중에 중단 하지마세요.\n",
      "--- 걸린시간: 10.509205102920532 ---\n",
      "normal : 4075\n",
      "abnormal : 1475\n",
      "scale_pos_weight is 2.76.\n",
      "Model is ready to running.\n"
     ]
    },
    {
     "name": "stderr",
     "output_type": "stream",
     "text": [
      "/package/anaconda3.8/lib/python3.8/site-packages/lightgbm/engine.py:177: UserWarning: Found `num_iterations` in params. Will use it instead of argument\n",
      "  _log_warning(f\"Found `{alias}` in params. Will use it instead of argument\")\n"
     ]
    },
    {
     "name": "stdout",
     "output_type": "stream",
     "text": [
      "kaiser_best로 진행중입니다.\n",
      "\n",
      "멀티 프로세싱을 시작합니다. 현재 코어 30개 사용 중. \n",
      "1.다른 사람과 동시에 돌리지 마세요.\n",
      "2.함부로 진행중에 중단 하지마세요.\n",
      "--- 걸린시간: 11.932945966720581 ---\n",
      "normal : 4075\n",
      "abnormal : 1475\n",
      "scale_pos_weight is 2.76.\n",
      "Model is ready to running.\n"
     ]
    },
    {
     "name": "stderr",
     "output_type": "stream",
     "text": [
      "/package/anaconda3.8/lib/python3.8/site-packages/lightgbm/engine.py:177: UserWarning: Found `num_iterations` in params. Will use it instead of argument\n",
      "  _log_warning(f\"Found `{alias}` in params. Will use it instead of argument\")\n"
     ]
    },
    {
     "name": "stdout",
     "output_type": "stream",
     "text": [
      "kaiser_fast로 진행중입니다.\n",
      "\n",
      "멀티 프로세싱을 시작합니다. 현재 코어 30개 사용 중. \n",
      "1.다른 사람과 동시에 돌리지 마세요.\n",
      "2.함부로 진행중에 중단 하지마세요.\n",
      "--- 걸린시간: 7.01564621925354 ---\n",
      "normal : 4075\n",
      "abnormal : 1475\n",
      "scale_pos_weight is 2.76.\n",
      "Model is ready to running.\n"
     ]
    },
    {
     "name": "stderr",
     "output_type": "stream",
     "text": [
      "/package/anaconda3.8/lib/python3.8/site-packages/lightgbm/engine.py:177: UserWarning: Found `num_iterations` in params. Will use it instead of argument\n",
      "  _log_warning(f\"Found `{alias}` in params. Will use it instead of argument\")\n"
     ]
    },
    {
     "name": "stdout",
     "output_type": "stream",
     "text": [
      "fft로 진행중입니다.\n",
      "\n",
      "멀티 프로세싱을 시작합니다. 현재 코어 30개 사용 중. \n",
      "1.다른 사람과 동시에 돌리지 마세요.\n",
      "2.함부로 진행중에 중단 하지마세요.\n",
      "--- 걸린시간: 5.221282482147217 ---\n",
      "normal : 4075\n",
      "abnormal : 1475\n",
      "scale_pos_weight is 2.76.\n",
      "Model is ready to running.\n"
     ]
    },
    {
     "name": "stderr",
     "output_type": "stream",
     "text": [
      "/package/anaconda3.8/lib/python3.8/site-packages/lightgbm/engine.py:177: UserWarning: Found `num_iterations` in params. Will use it instead of argument\n",
      "  _log_warning(f\"Found `{alias}` in params. Will use it instead of argument\")\n"
     ]
    },
    {
     "name": "stdout",
     "output_type": "stream",
     "text": [
      "scipy로 진행중입니다.\n",
      "\n",
      "멀티 프로세싱을 시작합니다. 현재 코어 30개 사용 중. \n",
      "1.다른 사람과 동시에 돌리지 마세요.\n",
      "2.함부로 진행중에 중단 하지마세요.\n",
      "--- 걸린시간: 4.898928165435791 ---\n",
      "normal : 4075\n",
      "abnormal : 1475\n",
      "scale_pos_weight is 2.76.\n",
      "Model is ready to running.\n"
     ]
    },
    {
     "name": "stderr",
     "output_type": "stream",
     "text": [
      "/package/anaconda3.8/lib/python3.8/site-packages/lightgbm/engine.py:177: UserWarning: Found `num_iterations` in params. Will use it instead of argument\n",
      "  _log_warning(f\"Found `{alias}` in params. Will use it instead of argument\")\n"
     ]
    },
    {
     "name": "stdout",
     "output_type": "stream",
     "text": [
      "polyphase로 진행중입니다.\n",
      "\n",
      "멀티 프로세싱을 시작합니다. 현재 코어 30개 사용 중. \n",
      "1.다른 사람과 동시에 돌리지 마세요.\n",
      "2.함부로 진행중에 중단 하지마세요.\n",
      "--- 걸린시간: 3.7620208263397217 ---\n",
      "normal : 4075\n",
      "abnormal : 1475\n",
      "scale_pos_weight is 2.76.\n",
      "Model is ready to running.\n"
     ]
    },
    {
     "name": "stderr",
     "output_type": "stream",
     "text": [
      "/package/anaconda3.8/lib/python3.8/site-packages/lightgbm/engine.py:177: UserWarning: Found `num_iterations` in params. Will use it instead of argument\n",
      "  _log_warning(f\"Found `{alias}` in params. Will use it instead of argument\")\n"
     ]
    },
    {
     "name": "stdout",
     "output_type": "stream",
     "text": [
      "linear로 진행중입니다.\n",
      "\n",
      "멀티 프로세싱을 시작합니다. 현재 코어 30개 사용 중. \n",
      "1.다른 사람과 동시에 돌리지 마세요.\n",
      "2.함부로 진행중에 중단 하지마세요.\n",
      "--- 걸린시간: 2.8598949909210205 ---\n",
      "normal : 4075\n",
      "abnormal : 1475\n",
      "scale_pos_weight is 2.76.\n",
      "Model is ready to running.\n"
     ]
    },
    {
     "name": "stderr",
     "output_type": "stream",
     "text": [
      "/package/anaconda3.8/lib/python3.8/site-packages/lightgbm/engine.py:177: UserWarning: Found `num_iterations` in params. Will use it instead of argument\n",
      "  _log_warning(f\"Found `{alias}` in params. Will use it instead of argument\")\n"
     ]
    },
    {
     "name": "stdout",
     "output_type": "stream",
     "text": [
      "zero_order_hold로 진행중입니다.\n",
      "\n",
      "멀티 프로세싱을 시작합니다. 현재 코어 30개 사용 중. \n",
      "1.다른 사람과 동시에 돌리지 마세요.\n",
      "2.함부로 진행중에 중단 하지마세요.\n",
      "--- 걸린시간: 2.82206654548645 ---\n",
      "normal : 4075\n",
      "abnormal : 1475\n",
      "scale_pos_weight is 2.76.\n",
      "Model is ready to running.\n"
     ]
    },
    {
     "name": "stderr",
     "output_type": "stream",
     "text": [
      "/package/anaconda3.8/lib/python3.8/site-packages/lightgbm/engine.py:177: UserWarning: Found `num_iterations` in params. Will use it instead of argument\n",
      "  _log_warning(f\"Found `{alias}` in params. Will use it instead of argument\")\n"
     ]
    },
    {
     "name": "stdout",
     "output_type": "stream",
     "text": [
      "sinc_best로 진행중입니다.\n",
      "\n",
      "멀티 프로세싱을 시작합니다. 현재 코어 30개 사용 중. \n",
      "1.다른 사람과 동시에 돌리지 마세요.\n",
      "2.함부로 진행중에 중단 하지마세요.\n",
      "--- 걸린시간: 2.9998974800109863 ---\n",
      "normal : 4075\n",
      "abnormal : 1475\n",
      "scale_pos_weight is 2.76.\n",
      "Model is ready to running.\n",
      "sinc_medium로 진행중입니다.\n",
      "\n",
      "멀티 프로세싱을 시작합니다. 현재 코어 30개 사용 중. \n",
      "1.다른 사람과 동시에 돌리지 마세요.\n",
      "2.함부로 진행중에 중단 하지마세요.\n"
     ]
    },
    {
     "name": "stderr",
     "output_type": "stream",
     "text": [
      "/package/anaconda3.8/lib/python3.8/site-packages/lightgbm/engine.py:177: UserWarning: Found `num_iterations` in params. Will use it instead of argument\n",
      "  _log_warning(f\"Found `{alias}` in params. Will use it instead of argument\")\n",
      "/package/anaconda3.8/lib/python3.8/site-packages/sklearn/metrics/_classification.py:1221: UndefinedMetricWarning: Precision is ill-defined and being set to 0.0 due to no predicted samples. Use `zero_division` parameter to control this behavior.\n",
      "  _warn_prf(average, modifier, msg_start, len(result))\n"
     ]
    },
    {
     "name": "stdout",
     "output_type": "stream",
     "text": [
      "--- 걸린시간: 2.9944164752960205 ---\n",
      "normal : 4075\n",
      "abnormal : 1475\n",
      "scale_pos_weight is 2.76.\n",
      "Model is ready to running.\n",
      "sinc_fastest로 진행중입니다.\n",
      "\n",
      "멀티 프로세싱을 시작합니다. 현재 코어 30개 사용 중. \n",
      "1.다른 사람과 동시에 돌리지 마세요.\n",
      "2.함부로 진행중에 중단 하지마세요.\n"
     ]
    },
    {
     "name": "stderr",
     "output_type": "stream",
     "text": [
      "/package/anaconda3.8/lib/python3.8/site-packages/lightgbm/engine.py:177: UserWarning: Found `num_iterations` in params. Will use it instead of argument\n",
      "  _log_warning(f\"Found `{alias}` in params. Will use it instead of argument\")\n",
      "/package/anaconda3.8/lib/python3.8/site-packages/sklearn/metrics/_classification.py:1221: UndefinedMetricWarning: Precision is ill-defined and being set to 0.0 due to no predicted samples. Use `zero_division` parameter to control this behavior.\n",
      "  _warn_prf(average, modifier, msg_start, len(result))\n"
     ]
    },
    {
     "name": "stdout",
     "output_type": "stream",
     "text": [
      "--- 걸린시간: 3.02177357673645 ---\n",
      "normal : 4075\n",
      "abnormal : 1475\n",
      "scale_pos_weight is 2.76.\n",
      "Model is ready to running.\n",
      "soxr_vhq로 진행중입니다.\n",
      "\n",
      "멀티 프로세싱을 시작합니다. 현재 코어 30개 사용 중. \n",
      "1.다른 사람과 동시에 돌리지 마세요.\n",
      "2.함부로 진행중에 중단 하지마세요.\n"
     ]
    },
    {
     "name": "stderr",
     "output_type": "stream",
     "text": [
      "/package/anaconda3.8/lib/python3.8/site-packages/lightgbm/engine.py:177: UserWarning: Found `num_iterations` in params. Will use it instead of argument\n",
      "  _log_warning(f\"Found `{alias}` in params. Will use it instead of argument\")\n",
      "/package/anaconda3.8/lib/python3.8/site-packages/sklearn/metrics/_classification.py:1221: UndefinedMetricWarning: Precision is ill-defined and being set to 0.0 due to no predicted samples. Use `zero_division` parameter to control this behavior.\n",
      "  _warn_prf(average, modifier, msg_start, len(result))\n"
     ]
    },
    {
     "name": "stdout",
     "output_type": "stream",
     "text": [
      "--- 걸린시간: 4.046602964401245 ---\n",
      "normal : 4075\n",
      "abnormal : 1475\n",
      "scale_pos_weight is 2.76.\n",
      "Model is ready to running.\n"
     ]
    },
    {
     "name": "stderr",
     "output_type": "stream",
     "text": [
      "/package/anaconda3.8/lib/python3.8/site-packages/lightgbm/engine.py:177: UserWarning: Found `num_iterations` in params. Will use it instead of argument\n",
      "  _log_warning(f\"Found `{alias}` in params. Will use it instead of argument\")\n"
     ]
    },
    {
     "name": "stdout",
     "output_type": "stream",
     "text": [
      "soxr_hq로 진행중입니다.\n",
      "\n",
      "멀티 프로세싱을 시작합니다. 현재 코어 30개 사용 중. \n",
      "1.다른 사람과 동시에 돌리지 마세요.\n",
      "2.함부로 진행중에 중단 하지마세요.\n",
      "--- 걸린시간: 4.830088376998901 ---\n",
      "normal : 4075\n",
      "abnormal : 1475\n",
      "scale_pos_weight is 2.76.\n",
      "Model is ready to running.\n"
     ]
    },
    {
     "name": "stderr",
     "output_type": "stream",
     "text": [
      "/package/anaconda3.8/lib/python3.8/site-packages/lightgbm/engine.py:177: UserWarning: Found `num_iterations` in params. Will use it instead of argument\n",
      "  _log_warning(f\"Found `{alias}` in params. Will use it instead of argument\")\n"
     ]
    },
    {
     "name": "stdout",
     "output_type": "stream",
     "text": [
      "soxr_mq로 진행중입니다.\n",
      "\n",
      "멀티 프로세싱을 시작합니다. 현재 코어 30개 사용 중. \n",
      "1.다른 사람과 동시에 돌리지 마세요.\n",
      "2.함부로 진행중에 중단 하지마세요.\n",
      "--- 걸린시간: 4.643710374832153 ---\n",
      "normal : 4075\n",
      "abnormal : 1475\n",
      "scale_pos_weight is 2.76.\n",
      "Model is ready to running.\n"
     ]
    },
    {
     "name": "stderr",
     "output_type": "stream",
     "text": [
      "/package/anaconda3.8/lib/python3.8/site-packages/lightgbm/engine.py:177: UserWarning: Found `num_iterations` in params. Will use it instead of argument\n",
      "  _log_warning(f\"Found `{alias}` in params. Will use it instead of argument\")\n"
     ]
    },
    {
     "name": "stdout",
     "output_type": "stream",
     "text": [
      "soxr_lq로 진행중입니다.\n",
      "\n",
      "멀티 프로세싱을 시작합니다. 현재 코어 30개 사용 중. \n",
      "1.다른 사람과 동시에 돌리지 마세요.\n",
      "2.함부로 진행중에 중단 하지마세요.\n",
      "--- 걸린시간: 5.0243871212005615 ---\n",
      "normal : 4075\n",
      "abnormal : 1475\n",
      "scale_pos_weight is 2.76.\n",
      "Model is ready to running.\n"
     ]
    },
    {
     "name": "stderr",
     "output_type": "stream",
     "text": [
      "/package/anaconda3.8/lib/python3.8/site-packages/lightgbm/engine.py:177: UserWarning: Found `num_iterations` in params. Will use it instead of argument\n",
      "  _log_warning(f\"Found `{alias}` in params. Will use it instead of argument\")\n"
     ]
    },
    {
     "name": "stdout",
     "output_type": "stream",
     "text": [
      "soxr_hq로 진행중입니다.\n",
      "\n",
      "멀티 프로세싱을 시작합니다. 현재 코어 30개 사용 중. \n",
      "1.다른 사람과 동시에 돌리지 마세요.\n",
      "2.함부로 진행중에 중단 하지마세요.\n",
      "--- 걸린시간: 5.263068437576294 ---\n",
      "normal : 4075\n",
      "abnormal : 1475\n",
      "scale_pos_weight is 2.76.\n",
      "Model is ready to running.\n"
     ]
    },
    {
     "name": "stderr",
     "output_type": "stream",
     "text": [
      "/package/anaconda3.8/lib/python3.8/site-packages/lightgbm/engine.py:177: UserWarning: Found `num_iterations` in params. Will use it instead of argument\n",
      "  _log_warning(f\"Found `{alias}` in params. Will use it instead of argument\")\n"
     ]
    },
    {
     "name": "stdout",
     "output_type": "stream",
     "text": [
      "soxr_qq로 진행중입니다.\n",
      "\n",
      "멀티 프로세싱을 시작합니다. 현재 코어 30개 사용 중. \n",
      "1.다른 사람과 동시에 돌리지 마세요.\n",
      "2.함부로 진행중에 중단 하지마세요.\n",
      "--- 걸린시간: 4.638779401779175 ---\n",
      "normal : 4075\n",
      "abnormal : 1475\n",
      "scale_pos_weight is 2.76.\n",
      "Model is ready to running.\n"
     ]
    },
    {
     "name": "stderr",
     "output_type": "stream",
     "text": [
      "/package/anaconda3.8/lib/python3.8/site-packages/lightgbm/engine.py:177: UserWarning: Found `num_iterations` in params. Will use it instead of argument\n",
      "  _log_warning(f\"Found `{alias}` in params. Will use it instead of argument\")\n"
     ]
    }
   ],
   "source": [
    "sampling_lst = ['abs_max(our_custom)',\n",
    "                'kaiser_best',\n",
    "                'kaiser_fast',\n",
    "                'fft',\n",
    "                'scipy',\n",
    "                'polyphase',\n",
    "                'linear',\n",
    "                'zero_order_hold',\n",
    "                'sinc_best',\n",
    "                'sinc_medium' ,\n",
    "                'sinc_fastest',\n",
    "                'soxr_vhq',\n",
    "                'soxr_hq',\n",
    "                'soxr_mq',\n",
    "                'soxr_lq',\n",
    "                'soxr_hq',\n",
    "                'soxr_qq']\n",
    "target_sr = 64\n",
    "result = []\n",
    "\n",
    "for res_type in sampling_lst:\n",
    "    print(f'{res_type}로 진행중입니다.')\n",
    "    fan_result = fan_result = load_data_using_multi_process(fan_file, sr = 16000, target_sr = target_sr, res_type = res_type) # 데이터 target_sr로 부르기\n",
    "    \n",
    "    fan_result_df = pd.DataFrame(fan_result)\n",
    "    \n",
    "    data = fan_result_df.iloc[:, :-1]\n",
    "    target = fan_result_df.iloc[:, -1]\n",
    "    \n",
    "    X_train, X_test, y_train, y_test = train_test_split(data, target, test_size=0.2, shuffle=True, stratify=target, random_state=42)\n",
    "    \n",
    "    model = model_lgbm(fan_result_df) # using (model.py)\n",
    "    \n",
    "    model.fit(X_train, y_train)\n",
    "\n",
    "    y_pred = model.predict(X_test)\n",
    "    y_pred_prob = model.predict_proba(X_test)\n",
    "    \n",
    "    acc = accuracy_score(y_test, y_pred) \n",
    "    recall = recall_score(y_test, y_pred)\n",
    "    precision = precision_score(y_test, y_pred)\n",
    "    f1 = f1_score(y_test, y_pred)    \n",
    "    auc_score = roc_auc_score(y_test, y_pred_prob[ :, 1 ])\n",
    "    \n",
    "    result.append([ res_type, round(acc, 3) ,round(recall, 3), round(precision, 3), round(f1, 3), round(auc_score, 3) ])\n",
    "\n",
    "result_df = pd.DataFrame(result, columns = [ 'res_type', 'acc', 'recall', 'precision', 'f1', 'auc_score'])\n",
    "result_df.to_csv('/project/time_series/cchc0427/noise/fan_6_res_type.csv', index = False)\n"
   ]
  },
  {
   "cell_type": "markdown",
   "id": "17aa2586",
   "metadata": {},
   "source": [
    "#  result"
   ]
  },
  {
   "cell_type": "code",
   "execution_count": 20,
   "id": "37bde100",
   "metadata": {},
   "outputs": [],
   "source": [
    "noise_6 = pd.read_csv('/project/time_series/cchc0427/noise/fan_6_res_type.csv')\n",
    "noise6 = pd.read_csv('/project/time_series/cchc0427/noise/fan6_res_type.csv')\n",
    "noise0 = pd.read_csv('/project/time_series/cchc0427/noise/fan0_res_type.csv')"
   ]
  },
  {
   "cell_type": "code",
   "execution_count": 19,
   "id": "1aecced0",
   "metadata": {},
   "outputs": [
    {
     "data": {
      "text/html": [
       "<div>\n",
       "<style scoped>\n",
       "    .dataframe tbody tr th:only-of-type {\n",
       "        vertical-align: middle;\n",
       "    }\n",
       "\n",
       "    .dataframe tbody tr th {\n",
       "        vertical-align: top;\n",
       "    }\n",
       "\n",
       "    .dataframe thead th {\n",
       "        text-align: right;\n",
       "    }\n",
       "</style>\n",
       "<table border=\"1\" class=\"dataframe\">\n",
       "  <thead>\n",
       "    <tr style=\"text-align: right;\">\n",
       "      <th></th>\n",
       "      <th>res_type</th>\n",
       "      <th>acc</th>\n",
       "      <th>recall</th>\n",
       "      <th>precision</th>\n",
       "      <th>f1</th>\n",
       "      <th>auc_score</th>\n",
       "    </tr>\n",
       "  </thead>\n",
       "  <tbody>\n",
       "    <tr>\n",
       "      <th>0</th>\n",
       "      <td>abs_max(our_custom)</td>\n",
       "      <td>0.741</td>\n",
       "      <td>0.200</td>\n",
       "      <td>0.536</td>\n",
       "      <td>0.291</td>\n",
       "      <td>0.613</td>\n",
       "    </tr>\n",
       "    <tr>\n",
       "      <th>1</th>\n",
       "      <td>kaiser_best</td>\n",
       "      <td>0.782</td>\n",
       "      <td>0.264</td>\n",
       "      <td>0.757</td>\n",
       "      <td>0.392</td>\n",
       "      <td>0.726</td>\n",
       "    </tr>\n",
       "    <tr>\n",
       "      <th>2</th>\n",
       "      <td>kaiser_fast</td>\n",
       "      <td>0.783</td>\n",
       "      <td>0.275</td>\n",
       "      <td>0.750</td>\n",
       "      <td>0.402</td>\n",
       "      <td>0.726</td>\n",
       "    </tr>\n",
       "    <tr>\n",
       "      <th>3</th>\n",
       "      <td>fft</td>\n",
       "      <td>0.777</td>\n",
       "      <td>0.244</td>\n",
       "      <td>0.742</td>\n",
       "      <td>0.367</td>\n",
       "      <td>0.697</td>\n",
       "    </tr>\n",
       "    <tr>\n",
       "      <th>4</th>\n",
       "      <td>scipy</td>\n",
       "      <td>0.777</td>\n",
       "      <td>0.244</td>\n",
       "      <td>0.742</td>\n",
       "      <td>0.367</td>\n",
       "      <td>0.697</td>\n",
       "    </tr>\n",
       "    <tr>\n",
       "      <th>5</th>\n",
       "      <td>polyphase</td>\n",
       "      <td>0.768</td>\n",
       "      <td>0.231</td>\n",
       "      <td>0.694</td>\n",
       "      <td>0.346</td>\n",
       "      <td>0.707</td>\n",
       "    </tr>\n",
       "    <tr>\n",
       "      <th>6</th>\n",
       "      <td>linear</td>\n",
       "      <td>0.717</td>\n",
       "      <td>0.058</td>\n",
       "      <td>0.321</td>\n",
       "      <td>0.098</td>\n",
       "      <td>0.530</td>\n",
       "    </tr>\n",
       "    <tr>\n",
       "      <th>7</th>\n",
       "      <td>zero_order_hold</td>\n",
       "      <td>0.717</td>\n",
       "      <td>0.058</td>\n",
       "      <td>0.321</td>\n",
       "      <td>0.098</td>\n",
       "      <td>0.530</td>\n",
       "    </tr>\n",
       "    <tr>\n",
       "      <th>8</th>\n",
       "      <td>sinc_best</td>\n",
       "      <td>0.734</td>\n",
       "      <td>0.000</td>\n",
       "      <td>0.000</td>\n",
       "      <td>0.000</td>\n",
       "      <td>0.500</td>\n",
       "    </tr>\n",
       "    <tr>\n",
       "      <th>9</th>\n",
       "      <td>sinc_medium</td>\n",
       "      <td>0.734</td>\n",
       "      <td>0.000</td>\n",
       "      <td>0.000</td>\n",
       "      <td>0.000</td>\n",
       "      <td>0.500</td>\n",
       "    </tr>\n",
       "    <tr>\n",
       "      <th>10</th>\n",
       "      <td>sinc_fastest</td>\n",
       "      <td>0.734</td>\n",
       "      <td>0.000</td>\n",
       "      <td>0.000</td>\n",
       "      <td>0.000</td>\n",
       "      <td>0.500</td>\n",
       "    </tr>\n",
       "    <tr>\n",
       "      <th>11</th>\n",
       "      <td>soxr_vhq</td>\n",
       "      <td>0.781</td>\n",
       "      <td>0.241</td>\n",
       "      <td>0.789</td>\n",
       "      <td>0.369</td>\n",
       "      <td>0.708</td>\n",
       "    </tr>\n",
       "    <tr>\n",
       "      <th>12</th>\n",
       "      <td>soxr_hq</td>\n",
       "      <td>0.779</td>\n",
       "      <td>0.241</td>\n",
       "      <td>0.772</td>\n",
       "      <td>0.367</td>\n",
       "      <td>0.720</td>\n",
       "    </tr>\n",
       "    <tr>\n",
       "      <th>13</th>\n",
       "      <td>soxr_mq</td>\n",
       "      <td>0.784</td>\n",
       "      <td>0.251</td>\n",
       "      <td>0.796</td>\n",
       "      <td>0.381</td>\n",
       "      <td>0.722</td>\n",
       "    </tr>\n",
       "    <tr>\n",
       "      <th>14</th>\n",
       "      <td>soxr_lq</td>\n",
       "      <td>0.771</td>\n",
       "      <td>0.268</td>\n",
       "      <td>0.675</td>\n",
       "      <td>0.383</td>\n",
       "      <td>0.718</td>\n",
       "    </tr>\n",
       "    <tr>\n",
       "      <th>15</th>\n",
       "      <td>soxr_hq</td>\n",
       "      <td>0.779</td>\n",
       "      <td>0.241</td>\n",
       "      <td>0.772</td>\n",
       "      <td>0.367</td>\n",
       "      <td>0.720</td>\n",
       "    </tr>\n",
       "    <tr>\n",
       "      <th>16</th>\n",
       "      <td>soxr_qq</td>\n",
       "      <td>0.720</td>\n",
       "      <td>0.088</td>\n",
       "      <td>0.382</td>\n",
       "      <td>0.143</td>\n",
       "      <td>0.559</td>\n",
       "    </tr>\n",
       "  </tbody>\n",
       "</table>\n",
       "</div>"
      ],
      "text/plain": [
       "               res_type    acc  recall  precision     f1  auc_score\n",
       "0   abs_max(our_custom)  0.741   0.200      0.536  0.291      0.613\n",
       "1           kaiser_best  0.782   0.264      0.757  0.392      0.726\n",
       "2           kaiser_fast  0.783   0.275      0.750  0.402      0.726\n",
       "3                   fft  0.777   0.244      0.742  0.367      0.697\n",
       "4                 scipy  0.777   0.244      0.742  0.367      0.697\n",
       "5             polyphase  0.768   0.231      0.694  0.346      0.707\n",
       "6                linear  0.717   0.058      0.321  0.098      0.530\n",
       "7       zero_order_hold  0.717   0.058      0.321  0.098      0.530\n",
       "8             sinc_best  0.734   0.000      0.000  0.000      0.500\n",
       "9           sinc_medium  0.734   0.000      0.000  0.000      0.500\n",
       "10         sinc_fastest  0.734   0.000      0.000  0.000      0.500\n",
       "11             soxr_vhq  0.781   0.241      0.789  0.369      0.708\n",
       "12              soxr_hq  0.779   0.241      0.772  0.367      0.720\n",
       "13              soxr_mq  0.784   0.251      0.796  0.381      0.722\n",
       "14              soxr_lq  0.771   0.268      0.675  0.383      0.718\n",
       "15              soxr_hq  0.779   0.241      0.772  0.367      0.720\n",
       "16              soxr_qq  0.720   0.088      0.382  0.143      0.559"
      ]
     },
     "execution_count": 19,
     "metadata": {},
     "output_type": "execute_result"
    }
   ],
   "source": [
    "noise_6"
   ]
  },
  {
   "cell_type": "code",
   "execution_count": 21,
   "id": "6cd58e19",
   "metadata": {},
   "outputs": [
    {
     "data": {
      "text/html": [
       "<div>\n",
       "<style scoped>\n",
       "    .dataframe tbody tr th:only-of-type {\n",
       "        vertical-align: middle;\n",
       "    }\n",
       "\n",
       "    .dataframe tbody tr th {\n",
       "        vertical-align: top;\n",
       "    }\n",
       "\n",
       "    .dataframe thead th {\n",
       "        text-align: right;\n",
       "    }\n",
       "</style>\n",
       "<table border=\"1\" class=\"dataframe\">\n",
       "  <thead>\n",
       "    <tr style=\"text-align: right;\">\n",
       "      <th></th>\n",
       "      <th>res_type</th>\n",
       "      <th>acc</th>\n",
       "      <th>recall</th>\n",
       "      <th>precision</th>\n",
       "      <th>f1</th>\n",
       "      <th>auc_score</th>\n",
       "    </tr>\n",
       "  </thead>\n",
       "  <tbody>\n",
       "    <tr>\n",
       "      <th>0</th>\n",
       "      <td>abs_max(our_custom)</td>\n",
       "      <td>0.831</td>\n",
       "      <td>0.400</td>\n",
       "      <td>0.915</td>\n",
       "      <td>0.557</td>\n",
       "      <td>0.795</td>\n",
       "    </tr>\n",
       "    <tr>\n",
       "      <th>1</th>\n",
       "      <td>kaiser_best</td>\n",
       "      <td>0.898</td>\n",
       "      <td>0.631</td>\n",
       "      <td>0.979</td>\n",
       "      <td>0.767</td>\n",
       "      <td>0.936</td>\n",
       "    </tr>\n",
       "    <tr>\n",
       "      <th>2</th>\n",
       "      <td>kaiser_fast</td>\n",
       "      <td>0.897</td>\n",
       "      <td>0.644</td>\n",
       "      <td>0.955</td>\n",
       "      <td>0.769</td>\n",
       "      <td>0.938</td>\n",
       "    </tr>\n",
       "    <tr>\n",
       "      <th>3</th>\n",
       "      <td>fft</td>\n",
       "      <td>0.868</td>\n",
       "      <td>0.549</td>\n",
       "      <td>0.920</td>\n",
       "      <td>0.688</td>\n",
       "      <td>0.925</td>\n",
       "    </tr>\n",
       "    <tr>\n",
       "      <th>4</th>\n",
       "      <td>scipy</td>\n",
       "      <td>0.868</td>\n",
       "      <td>0.549</td>\n",
       "      <td>0.920</td>\n",
       "      <td>0.688</td>\n",
       "      <td>0.925</td>\n",
       "    </tr>\n",
       "    <tr>\n",
       "      <th>5</th>\n",
       "      <td>polyphase</td>\n",
       "      <td>0.888</td>\n",
       "      <td>0.600</td>\n",
       "      <td>0.967</td>\n",
       "      <td>0.741</td>\n",
       "      <td>0.931</td>\n",
       "    </tr>\n",
       "    <tr>\n",
       "      <th>6</th>\n",
       "      <td>linear</td>\n",
       "      <td>0.822</td>\n",
       "      <td>0.390</td>\n",
       "      <td>0.865</td>\n",
       "      <td>0.537</td>\n",
       "      <td>0.788</td>\n",
       "    </tr>\n",
       "    <tr>\n",
       "      <th>7</th>\n",
       "      <td>zero_order_hold</td>\n",
       "      <td>0.822</td>\n",
       "      <td>0.390</td>\n",
       "      <td>0.865</td>\n",
       "      <td>0.537</td>\n",
       "      <td>0.788</td>\n",
       "    </tr>\n",
       "    <tr>\n",
       "      <th>8</th>\n",
       "      <td>sinc_best</td>\n",
       "      <td>0.881</td>\n",
       "      <td>0.580</td>\n",
       "      <td>0.955</td>\n",
       "      <td>0.722</td>\n",
       "      <td>0.938</td>\n",
       "    </tr>\n",
       "    <tr>\n",
       "      <th>9</th>\n",
       "      <td>sinc_medium</td>\n",
       "      <td>0.890</td>\n",
       "      <td>0.607</td>\n",
       "      <td>0.968</td>\n",
       "      <td>0.746</td>\n",
       "      <td>0.936</td>\n",
       "    </tr>\n",
       "    <tr>\n",
       "      <th>10</th>\n",
       "      <td>sinc_fastest</td>\n",
       "      <td>0.898</td>\n",
       "      <td>0.641</td>\n",
       "      <td>0.964</td>\n",
       "      <td>0.770</td>\n",
       "      <td>0.939</td>\n",
       "    </tr>\n",
       "    <tr>\n",
       "      <th>11</th>\n",
       "      <td>soxr_vhq</td>\n",
       "      <td>0.882</td>\n",
       "      <td>0.573</td>\n",
       "      <td>0.971</td>\n",
       "      <td>0.721</td>\n",
       "      <td>0.939</td>\n",
       "    </tr>\n",
       "    <tr>\n",
       "      <th>12</th>\n",
       "      <td>soxr_hq</td>\n",
       "      <td>0.880</td>\n",
       "      <td>0.563</td>\n",
       "      <td>0.976</td>\n",
       "      <td>0.714</td>\n",
       "      <td>0.935</td>\n",
       "    </tr>\n",
       "    <tr>\n",
       "      <th>13</th>\n",
       "      <td>soxr_mq</td>\n",
       "      <td>0.879</td>\n",
       "      <td>0.569</td>\n",
       "      <td>0.960</td>\n",
       "      <td>0.715</td>\n",
       "      <td>0.936</td>\n",
       "    </tr>\n",
       "    <tr>\n",
       "      <th>14</th>\n",
       "      <td>soxr_lq</td>\n",
       "      <td>0.901</td>\n",
       "      <td>0.651</td>\n",
       "      <td>0.965</td>\n",
       "      <td>0.777</td>\n",
       "      <td>0.943</td>\n",
       "    </tr>\n",
       "    <tr>\n",
       "      <th>15</th>\n",
       "      <td>soxr_hq</td>\n",
       "      <td>0.880</td>\n",
       "      <td>0.563</td>\n",
       "      <td>0.976</td>\n",
       "      <td>0.714</td>\n",
       "      <td>0.935</td>\n",
       "    </tr>\n",
       "    <tr>\n",
       "      <th>16</th>\n",
       "      <td>soxr_qq</td>\n",
       "      <td>0.832</td>\n",
       "      <td>0.420</td>\n",
       "      <td>0.892</td>\n",
       "      <td>0.571</td>\n",
       "      <td>0.823</td>\n",
       "    </tr>\n",
       "  </tbody>\n",
       "</table>\n",
       "</div>"
      ],
      "text/plain": [
       "               res_type    acc  recall  precision     f1  auc_score\n",
       "0   abs_max(our_custom)  0.831   0.400      0.915  0.557      0.795\n",
       "1           kaiser_best  0.898   0.631      0.979  0.767      0.936\n",
       "2           kaiser_fast  0.897   0.644      0.955  0.769      0.938\n",
       "3                   fft  0.868   0.549      0.920  0.688      0.925\n",
       "4                 scipy  0.868   0.549      0.920  0.688      0.925\n",
       "5             polyphase  0.888   0.600      0.967  0.741      0.931\n",
       "6                linear  0.822   0.390      0.865  0.537      0.788\n",
       "7       zero_order_hold  0.822   0.390      0.865  0.537      0.788\n",
       "8             sinc_best  0.881   0.580      0.955  0.722      0.938\n",
       "9           sinc_medium  0.890   0.607      0.968  0.746      0.936\n",
       "10         sinc_fastest  0.898   0.641      0.964  0.770      0.939\n",
       "11             soxr_vhq  0.882   0.573      0.971  0.721      0.939\n",
       "12              soxr_hq  0.880   0.563      0.976  0.714      0.935\n",
       "13              soxr_mq  0.879   0.569      0.960  0.715      0.936\n",
       "14              soxr_lq  0.901   0.651      0.965  0.777      0.943\n",
       "15              soxr_hq  0.880   0.563      0.976  0.714      0.935\n",
       "16              soxr_qq  0.832   0.420      0.892  0.571      0.823"
      ]
     },
     "execution_count": 21,
     "metadata": {},
     "output_type": "execute_result"
    }
   ],
   "source": [
    "noise6"
   ]
  },
  {
   "cell_type": "code",
   "execution_count": 22,
   "id": "6df8b0f8",
   "metadata": {},
   "outputs": [
    {
     "data": {
      "text/html": [
       "<div>\n",
       "<style scoped>\n",
       "    .dataframe tbody tr th:only-of-type {\n",
       "        vertical-align: middle;\n",
       "    }\n",
       "\n",
       "    .dataframe tbody tr th {\n",
       "        vertical-align: top;\n",
       "    }\n",
       "\n",
       "    .dataframe thead th {\n",
       "        text-align: right;\n",
       "    }\n",
       "</style>\n",
       "<table border=\"1\" class=\"dataframe\">\n",
       "  <thead>\n",
       "    <tr style=\"text-align: right;\">\n",
       "      <th></th>\n",
       "      <th>res_type</th>\n",
       "      <th>acc</th>\n",
       "      <th>recall</th>\n",
       "      <th>precision</th>\n",
       "      <th>f1</th>\n",
       "      <th>auc_score</th>\n",
       "    </tr>\n",
       "  </thead>\n",
       "  <tbody>\n",
       "    <tr>\n",
       "      <th>0</th>\n",
       "      <td>abs_max(our_custom)</td>\n",
       "      <td>0.811</td>\n",
       "      <td>0.376</td>\n",
       "      <td>0.810</td>\n",
       "      <td>0.514</td>\n",
       "      <td>0.690</td>\n",
       "    </tr>\n",
       "    <tr>\n",
       "      <th>1</th>\n",
       "      <td>kaiser_best</td>\n",
       "      <td>0.842</td>\n",
       "      <td>0.444</td>\n",
       "      <td>0.923</td>\n",
       "      <td>0.600</td>\n",
       "      <td>0.867</td>\n",
       "    </tr>\n",
       "    <tr>\n",
       "      <th>2</th>\n",
       "      <td>kaiser_fast</td>\n",
       "      <td>0.853</td>\n",
       "      <td>0.485</td>\n",
       "      <td>0.929</td>\n",
       "      <td>0.637</td>\n",
       "      <td>0.873</td>\n",
       "    </tr>\n",
       "    <tr>\n",
       "      <th>3</th>\n",
       "      <td>fft</td>\n",
       "      <td>0.826</td>\n",
       "      <td>0.407</td>\n",
       "      <td>0.870</td>\n",
       "      <td>0.554</td>\n",
       "      <td>0.836</td>\n",
       "    </tr>\n",
       "    <tr>\n",
       "      <th>4</th>\n",
       "      <td>scipy</td>\n",
       "      <td>0.826</td>\n",
       "      <td>0.407</td>\n",
       "      <td>0.870</td>\n",
       "      <td>0.554</td>\n",
       "      <td>0.836</td>\n",
       "    </tr>\n",
       "    <tr>\n",
       "      <th>5</th>\n",
       "      <td>polyphase</td>\n",
       "      <td>0.834</td>\n",
       "      <td>0.431</td>\n",
       "      <td>0.888</td>\n",
       "      <td>0.580</td>\n",
       "      <td>0.853</td>\n",
       "    </tr>\n",
       "    <tr>\n",
       "      <th>6</th>\n",
       "      <td>linear</td>\n",
       "      <td>0.778</td>\n",
       "      <td>0.231</td>\n",
       "      <td>0.782</td>\n",
       "      <td>0.356</td>\n",
       "      <td>0.689</td>\n",
       "    </tr>\n",
       "    <tr>\n",
       "      <th>7</th>\n",
       "      <td>zero_order_hold</td>\n",
       "      <td>0.778</td>\n",
       "      <td>0.231</td>\n",
       "      <td>0.782</td>\n",
       "      <td>0.356</td>\n",
       "      <td>0.689</td>\n",
       "    </tr>\n",
       "    <tr>\n",
       "      <th>8</th>\n",
       "      <td>sinc_best</td>\n",
       "      <td>0.838</td>\n",
       "      <td>0.417</td>\n",
       "      <td>0.939</td>\n",
       "      <td>0.577</td>\n",
       "      <td>0.860</td>\n",
       "    </tr>\n",
       "    <tr>\n",
       "      <th>9</th>\n",
       "      <td>sinc_medium</td>\n",
       "      <td>0.837</td>\n",
       "      <td>0.431</td>\n",
       "      <td>0.907</td>\n",
       "      <td>0.584</td>\n",
       "      <td>0.867</td>\n",
       "    </tr>\n",
       "    <tr>\n",
       "      <th>10</th>\n",
       "      <td>sinc_fastest</td>\n",
       "      <td>0.848</td>\n",
       "      <td>0.461</td>\n",
       "      <td>0.932</td>\n",
       "      <td>0.617</td>\n",
       "      <td>0.868</td>\n",
       "    </tr>\n",
       "    <tr>\n",
       "      <th>11</th>\n",
       "      <td>soxr_vhq</td>\n",
       "      <td>0.841</td>\n",
       "      <td>0.441</td>\n",
       "      <td>0.922</td>\n",
       "      <td>0.596</td>\n",
       "      <td>0.862</td>\n",
       "    </tr>\n",
       "    <tr>\n",
       "      <th>12</th>\n",
       "      <td>soxr_hq</td>\n",
       "      <td>0.841</td>\n",
       "      <td>0.444</td>\n",
       "      <td>0.916</td>\n",
       "      <td>0.598</td>\n",
       "      <td>0.859</td>\n",
       "    </tr>\n",
       "    <tr>\n",
       "      <th>13</th>\n",
       "      <td>soxr_mq</td>\n",
       "      <td>0.842</td>\n",
       "      <td>0.437</td>\n",
       "      <td>0.935</td>\n",
       "      <td>0.596</td>\n",
       "      <td>0.860</td>\n",
       "    </tr>\n",
       "    <tr>\n",
       "      <th>14</th>\n",
       "      <td>soxr_lq</td>\n",
       "      <td>0.852</td>\n",
       "      <td>0.478</td>\n",
       "      <td>0.934</td>\n",
       "      <td>0.632</td>\n",
       "      <td>0.875</td>\n",
       "    </tr>\n",
       "    <tr>\n",
       "      <th>15</th>\n",
       "      <td>soxr_hq</td>\n",
       "      <td>0.841</td>\n",
       "      <td>0.444</td>\n",
       "      <td>0.916</td>\n",
       "      <td>0.598</td>\n",
       "      <td>0.859</td>\n",
       "    </tr>\n",
       "    <tr>\n",
       "      <th>16</th>\n",
       "      <td>soxr_qq</td>\n",
       "      <td>0.769</td>\n",
       "      <td>0.214</td>\n",
       "      <td>0.724</td>\n",
       "      <td>0.330</td>\n",
       "      <td>0.665</td>\n",
       "    </tr>\n",
       "  </tbody>\n",
       "</table>\n",
       "</div>"
      ],
      "text/plain": [
       "               res_type    acc  recall  precision     f1  auc_score\n",
       "0   abs_max(our_custom)  0.811   0.376      0.810  0.514      0.690\n",
       "1           kaiser_best  0.842   0.444      0.923  0.600      0.867\n",
       "2           kaiser_fast  0.853   0.485      0.929  0.637      0.873\n",
       "3                   fft  0.826   0.407      0.870  0.554      0.836\n",
       "4                 scipy  0.826   0.407      0.870  0.554      0.836\n",
       "5             polyphase  0.834   0.431      0.888  0.580      0.853\n",
       "6                linear  0.778   0.231      0.782  0.356      0.689\n",
       "7       zero_order_hold  0.778   0.231      0.782  0.356      0.689\n",
       "8             sinc_best  0.838   0.417      0.939  0.577      0.860\n",
       "9           sinc_medium  0.837   0.431      0.907  0.584      0.867\n",
       "10         sinc_fastest  0.848   0.461      0.932  0.617      0.868\n",
       "11             soxr_vhq  0.841   0.441      0.922  0.596      0.862\n",
       "12              soxr_hq  0.841   0.444      0.916  0.598      0.859\n",
       "13              soxr_mq  0.842   0.437      0.935  0.596      0.860\n",
       "14              soxr_lq  0.852   0.478      0.934  0.632      0.875\n",
       "15              soxr_hq  0.841   0.444      0.916  0.598      0.859\n",
       "16              soxr_qq  0.769   0.214      0.724  0.330      0.665"
      ]
     },
     "execution_count": 22,
     "metadata": {},
     "output_type": "execute_result"
    }
   ],
   "source": [
    "noise0"
   ]
  },
  {
   "cell_type": "code",
   "execution_count": 23,
   "id": "86f3e468",
   "metadata": {},
   "outputs": [],
   "source": [
    "noise_6 = pd.read_csv('/project/time_series/cchc0427/noise/fan_6_res_type.csv')\n",
    "noise6 = pd.read_csv('/project/time_series/cchc0427/noise/fan6_res_type.csv')\n",
    "noise0 = pd.read_csv('/project/time_series/cchc0427/noise/fan0_res_type.csv')\n",
    "\n",
    "noise0_top = noise0.sort_values('f1', ascending = False).head(1).reset_index()\n",
    "noise6_top = noise6.sort_values('f1', ascending = False).head(1).reset_index()\n",
    "noise_6_top = noise_6.sort_values('f1', ascending = False).head(1).reset_index()"
   ]
  },
  {
   "cell_type": "code",
   "execution_count": 25,
   "id": "4a0faec1",
   "metadata": {},
   "outputs": [
    {
     "data": {
      "text/html": [
       "<div>\n",
       "<style scoped>\n",
       "    .dataframe tbody tr th:only-of-type {\n",
       "        vertical-align: middle;\n",
       "    }\n",
       "\n",
       "    .dataframe tbody tr th {\n",
       "        vertical-align: top;\n",
       "    }\n",
       "\n",
       "    .dataframe thead th {\n",
       "        text-align: right;\n",
       "    }\n",
       "</style>\n",
       "<table border=\"1\" class=\"dataframe\">\n",
       "  <thead>\n",
       "    <tr style=\"text-align: right;\">\n",
       "      <th></th>\n",
       "      <th>index</th>\n",
       "      <th>res_type</th>\n",
       "      <th>acc</th>\n",
       "      <th>recall</th>\n",
       "      <th>precision</th>\n",
       "      <th>f1</th>\n",
       "      <th>auc_score</th>\n",
       "    </tr>\n",
       "  </thead>\n",
       "  <tbody>\n",
       "    <tr>\n",
       "      <th>0</th>\n",
       "      <td>2</td>\n",
       "      <td>kaiser_fast</td>\n",
       "      <td>0.853</td>\n",
       "      <td>0.485</td>\n",
       "      <td>0.929</td>\n",
       "      <td>0.637</td>\n",
       "      <td>0.873</td>\n",
       "    </tr>\n",
       "    <tr>\n",
       "      <th>0</th>\n",
       "      <td>2</td>\n",
       "      <td>kaiser_fast</td>\n",
       "      <td>0.783</td>\n",
       "      <td>0.275</td>\n",
       "      <td>0.750</td>\n",
       "      <td>0.402</td>\n",
       "      <td>0.726</td>\n",
       "    </tr>\n",
       "    <tr>\n",
       "      <th>0</th>\n",
       "      <td>14</td>\n",
       "      <td>soxr_lq</td>\n",
       "      <td>0.901</td>\n",
       "      <td>0.651</td>\n",
       "      <td>0.965</td>\n",
       "      <td>0.777</td>\n",
       "      <td>0.943</td>\n",
       "    </tr>\n",
       "  </tbody>\n",
       "</table>\n",
       "</div>"
      ],
      "text/plain": [
       "   index     res_type    acc  recall  precision     f1  auc_score\n",
       "0      2  kaiser_fast  0.853   0.485      0.929  0.637      0.873\n",
       "0      2  kaiser_fast  0.783   0.275      0.750  0.402      0.726\n",
       "0     14      soxr_lq  0.901   0.651      0.965  0.777      0.943"
      ]
     },
     "execution_count": 25,
     "metadata": {},
     "output_type": "execute_result"
    }
   ],
   "source": [
    "pd.concat([noise0_top, noise_6_top, noise6_top])"
   ]
  },
  {
   "cell_type": "markdown",
   "id": "9069c981",
   "metadata": {},
   "source": [
    "- noise0 : sr = 125, res_type = (kaiser_fast, soxr_lq)   \n",
    "- noise6 : sr = 125, res_type = soxr_lq   \n",
    "- noise_6 : sr = 125, res_type = (kaiser_fast, kaiser_best)"
   ]
  }
 ],
 "metadata": {
  "kernelspec": {
   "display_name": "Python 3 (ipykernel)",
   "language": "python",
   "name": "python3"
  },
  "language_info": {
   "codemirror_mode": {
    "name": "ipython",
    "version": 3
   },
   "file_extension": ".py",
   "mimetype": "text/x-python",
   "name": "python",
   "nbconvert_exporter": "python",
   "pygments_lexer": "ipython3",
   "version": "3.8.11"
  },
  "toc": {
   "base_numbering": 1,
   "nav_menu": {},
   "number_sections": true,
   "sideBar": true,
   "skip_h1_title": false,
   "title_cell": "Table of Contents",
   "title_sidebar": "Contents",
   "toc_cell": false,
   "toc_position": {
    "height": "calc(100% - 180px)",
    "left": "10px",
    "top": "150px",
    "width": "165px"
   },
   "toc_section_display": true,
   "toc_window_display": true
  }
 },
 "nbformat": 4,
 "nbformat_minor": 5
}

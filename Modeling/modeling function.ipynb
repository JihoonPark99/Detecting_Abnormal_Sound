{
 "cells": [
  {
   "cell_type": "markdown",
   "id": "88619b92",
   "metadata": {},
   "source": [
    "# Module Import"
   ]
  },
  {
   "cell_type": "code",
   "execution_count": 1,
   "id": "8f3e09f1",
   "metadata": {},
   "outputs": [
    {
     "name": "stderr",
     "output_type": "stream",
     "text": [
      "/package/anaconda3.8/lib/python3.8/site-packages/dask/dataframe/backends.py:189: FutureWarning: pandas.Int64Index is deprecated and will be removed from pandas in a future version. Use pandas.Index with the appropriate dtype instead.\n",
      "  _numeric_index_types = (pd.Int64Index, pd.Float64Index, pd.UInt64Index)\n",
      "/package/anaconda3.8/lib/python3.8/site-packages/dask/dataframe/backends.py:189: FutureWarning: pandas.Float64Index is deprecated and will be removed from pandas in a future version. Use pandas.Index with the appropriate dtype instead.\n",
      "  _numeric_index_types = (pd.Int64Index, pd.Float64Index, pd.UInt64Index)\n",
      "/package/anaconda3.8/lib/python3.8/site-packages/dask/dataframe/backends.py:189: FutureWarning: pandas.UInt64Index is deprecated and will be removed from pandas in a future version. Use pandas.Index with the appropriate dtype instead.\n",
      "  _numeric_index_types = (pd.Int64Index, pd.Float64Index, pd.UInt64Index)\n"
     ]
    }
   ],
   "source": [
    "import os\n",
    "import sys\n",
    "import glob\n",
    "import numpy as np\n",
    "import pandas as pd\n",
    "import matplotlib.pyplot as plt\n",
    "import seaborn as sns\n",
    "import librosa\n",
    "import time\n",
    "\n",
    "from tqdm import tqdm\n",
    "from sklearn.model_selection import train_test_split\n",
    "\n",
    "##부모파일에 있는 py파일 읽기\n",
    "sys.path.append(os.path.dirname(os.path.abspath(os.path.dirname('load_data.py'))))\n",
    " \n",
    "from load_data import load_data_using_multi_process\n",
    "from model import model_lgbm\n",
    "from make_roc_curve import make_roc_curve\n",
    "\n",
    "from sklearn.metrics import roc_curve, roc_auc_score, f1_score, accuracy_score, recall_score, precision_score"
   ]
  },
  {
   "cell_type": "code",
   "execution_count": 3,
   "id": "1693df35",
   "metadata": {},
   "outputs": [],
   "source": [
    "obj = 'fan'\n",
    "model0 = '0'\n",
    "model_6 = '_6'\n",
    "model6 = '6'\n",
    "id_name = 'id_00'\n",
    "sr = 16000\n",
    "target_sr = 125\n"
   ]
  },
  {
   "cell_type": "markdown",
   "id": "97e2bc18",
   "metadata": {},
   "source": [
    "# modeling_Model\n",
    "model별로 [0, _6, 6]노이즈를 합쳐서 모델링하기"
   ]
  },
  {
   "cell_type": "markdown",
   "id": "1c1bacca",
   "metadata": {},
   "source": [
    "## 함수 정의"
   ]
  },
  {
   "cell_type": "code",
   "execution_count": 26,
   "id": "37ec1ae9",
   "metadata": {},
   "outputs": [],
   "source": [
    "\n",
    "def modeling_Model(obj:str, id_name:str, sr:int, target_sr:int):\n",
    "    '''\n",
    "    model별로 [0, _6, 6]노이즈를 합쳐서 모델링하기\n",
    "        input\n",
    "            obj : Object-ex)'fan'\n",
    "            id_name : 합치고 싶은 id_name - ex)'id_00'\n",
    "            sr : sample rate - ex)16000\n",
    "            target_sr : down sampling rate - ex)125\n",
    "        output\n",
    "            make_roc_curve함수\n",
    "                - acc_score\n",
    "                - recall_score\n",
    "                - precision_score\n",
    "                - f1_score\n",
    "                - roc auc value\n",
    "    '''\n",
    "\n",
    "    model0 = '0'\n",
    "    model_6 = '_6'\n",
    "    model6 = '6'\n",
    "    \n",
    "    print('#'*10, '데이터 로드', '#'*10)\n",
    "    ##fan_0_\n",
    "    fan_0_id_00_path = '/data/time_series/'+obj+'/'+model0+'/' + id_name\n",
    "    fan_0_id_00_files = glob.glob(fan_0_id_00_path + '/*/*')\n",
    "    print(obj+'_'+model0+'_id_00_files 개수 : ', len(fan_0_id_00_files))\n",
    "    print('\\n')\n",
    "\n",
    "    ##fan__6_\n",
    "    fan__6_id_00_path = '/data/time_series/'+obj+'/'+model_6+'/' + id_name\n",
    "    fan__6_id_00_files = glob.glob(fan__6_id_00_path + '/*/*')\n",
    "    print(obj+'_'+model_6+'_id_00_files 개수 : ', len(fan__6_id_00_files))\n",
    "    print('\\n')\n",
    "\n",
    "    ##fan_0_\n",
    "    fan_6_id_00_path = '/data/time_series/'+obj+'/'+model6+'/' + id_name\n",
    "    fan_6_id_00_files = glob.glob(fan_6_id_00_path + '/*/*')\n",
    "    print(obj+'_'+model6+'_id_00_files 개수 : ', len(fan_6_id_00_files))\n",
    "    print('\\n')\n",
    "\n",
    "    print('#'*10, 'Multi Processing', '#'*10)\n",
    "\n",
    "    fan_0_ = load_data_using_multi_process(files = fan_0_id_00_files, sr = sr, target_sr = target_sr)\n",
    "    fan__6_ = load_data_using_multi_process(files = fan__6_id_00_files, sr = sr, target_sr = target_sr)\n",
    "    fan_6_= load_data_using_multi_process(files = fan_6_id_00_files, sr = sr, target_sr = target_sr)\n",
    "\n",
    "    if (len(fan_0_[0]) == (target_sr*10 + 1)) & (len(fan__6_[0])==(target_sr*10 + 1)) & (len(fan_6_[0])==(target_sr*10 + 1)):\n",
    "        fan_0_ = pd.DataFrame(fan_0_)\n",
    "        fan__6_ = pd.DataFrame(fan__6_)\n",
    "        fan_6_ = pd.DataFrame(fan_6_)\n",
    "\n",
    "    df = pd.concat([fan_0_,fan__6_,fan_6_])\n",
    "\n",
    "    if df.columns[-1] == target_sr*10 :\n",
    "        df.rename(columns={target_sr*10:'label'}, inplace=True)\n",
    "\n",
    "    df.reset_index(drop=True, inplace=True)\n",
    "    \n",
    "    print('\\n')\n",
    "    print('#'*10, 'Data Split', '#'*10, '\\n')\n",
    "\n",
    "    X = df.iloc[:, :target_sr*10]\n",
    "    y = df['label']\n",
    "    X_train, X_test, y_train, y_test = train_test_split(X, y, \n",
    "                                                        stratify = y,\n",
    "                                                        test_size = 0.2,\n",
    "                                                        random_state = 42)\n",
    "    print('X_train 의 크기 : ', X_train.shape)\n",
    "    print('X_test 의 크기 : ', X_test.shape)\n",
    "    print('y_train 의 크기 : ', y_train.shape)\n",
    "    print('y_test 의 크기 : ', y_test.shape)\n",
    "    print('\\n')\n",
    "    \n",
    "    print('#'*10, 'Modeling', '#'*10)\n",
    "\n",
    "    model = model_lgbm(df)\n",
    "    model.fit(X_train, y_train)\n",
    "    y_pred = model.predict(X_test)\n",
    "    y_pred_prob = model.predict_proba(X_test)\n",
    "\n",
    "    print('#'*10, 'ROC커브 그리기', '#'*10)\n",
    "    return make_roc_curve(y_test, y_pred, y_pred_prob)\n",
    "\n",
    "\n"
   ]
  },
  {
   "cell_type": "markdown",
   "id": "77fb119f",
   "metadata": {},
   "source": [
    "## 함수사용"
   ]
  },
  {
   "cell_type": "code",
   "execution_count": 11,
   "id": "501db67f",
   "metadata": {},
   "outputs": [
    {
     "name": "stdout",
     "output_type": "stream",
     "text": [
      "########## 데이터 로드 ##########\n",
      "fan_0_id_00_files 개수 :  1375\n",
      "\n",
      "\n",
      "fan__6_id_00_files 개수 :  1375\n",
      "\n",
      "\n",
      "fan_6_id_00_files 개수 :  1375\n",
      "\n",
      "\n",
      "########## Multi Processing ##########\n",
      "\n",
      "아래 리스트에서 샘플링 기법을 선택해주세요. \n",
      " ['abs_max(our_custom)', 'kaiser_best', 'kaiser_fast', 'fft', 'scipy', 'polyphase', 'linear', 'zero_order_hold', 'sinc_best', 'sinc_medium', 'sinc_fastest', 'soxr_vhq', 'soxr_hq', 'soxr_mq', 'soxr_lq', 'soxr_hq', 'soxr_qq']\n",
      "선택한 기법: kaiser_best\n",
      "\n",
      "멀티 프로세싱을 시작합니다. 현재 코어 30개 사용 중. \n",
      "1.다른 사람과 동시에 돌리지 마세요.\n",
      "2.함부로 진행중에 중단 하지마세요.\n",
      "--- 걸린시간: 6.779499292373657 ---\n",
      "\n",
      "아래 리스트에서 샘플링 기법을 선택해주세요. \n",
      " ['abs_max(our_custom)', 'kaiser_best', 'kaiser_fast', 'fft', 'scipy', 'polyphase', 'linear', 'zero_order_hold', 'sinc_best', 'sinc_medium', 'sinc_fastest', 'soxr_vhq', 'soxr_hq', 'soxr_mq', 'soxr_lq', 'soxr_hq', 'soxr_qq']\n",
      "선택한 기법: kaiser_best\n",
      "\n",
      "멀티 프로세싱을 시작합니다. 현재 코어 30개 사용 중. \n",
      "1.다른 사람과 동시에 돌리지 마세요.\n",
      "2.함부로 진행중에 중단 하지마세요.\n",
      "--- 걸린시간: 6.762294054031372 ---\n",
      "\n",
      "아래 리스트에서 샘플링 기법을 선택해주세요. \n",
      " ['abs_max(our_custom)', 'kaiser_best', 'kaiser_fast', 'fft', 'scipy', 'polyphase', 'linear', 'zero_order_hold', 'sinc_best', 'sinc_medium', 'sinc_fastest', 'soxr_vhq', 'soxr_hq', 'soxr_mq', 'soxr_lq', 'soxr_hq', 'soxr_qq']\n",
      "선택한 기법: kaiser_best\n",
      "\n",
      "멀티 프로세싱을 시작합니다. 현재 코어 30개 사용 중. \n",
      "1.다른 사람과 동시에 돌리지 마세요.\n",
      "2.함부로 진행중에 중단 하지마세요.\n",
      "--- 걸린시간: 6.751691579818726 ---\n",
      "\n",
      "\n",
      "########## Data Split ########## \n",
      "\n",
      "X_train 의 크기 :  (3300, 1250)\n",
      "X_test 의 크기 :  (825, 1250)\n",
      "y_train 의 크기 :  (3300,)\n",
      "y_test 의 크기 :  (825,)\n",
      "\n",
      "\n",
      "########## Modeling ##########\n",
      "normal : 3048\n",
      "abnormal : 1077\n",
      "scale_pos_weight is 2.83.\n",
      "Model is ready to running.\n"
     ]
    },
    {
     "name": "stderr",
     "output_type": "stream",
     "text": [
      "/package/anaconda3.8/lib/python3.8/site-packages/lightgbm/engine.py:177: UserWarning: Found `num_iterations` in params. Will use it instead of argument\n",
      "  _log_warning(f\"Found `{alias}` in params. Will use it instead of argument\")\n"
     ]
    },
    {
     "name": "stdout",
     "output_type": "stream",
     "text": [
      "########## ROC커브 그리기 ##########\n"
     ]
    },
    {
     "data": {
      "image/png": "[encoded data removed]",
      "text/plain": [
       "<Figure size 504x504 with 1 Axes>"
      ]
     },
     "metadata": {
      "needs_background": "light"
     },
     "output_type": "display_data"
    },
    {
     "name": "stdout",
     "output_type": "stream",
     "text": [
      "acc_score : 0.778\n",
      "recall_score : 0.2\n",
      "precision_score : 0.796\n",
      "f1_score : 0.32\n",
      "roc auc value : 0.78\n"
     ]
    }
   ],
   "source": [
    "aa = modeling_Model('fan', 'id_02', 16000, 125)"
   ]
  },
  {
   "cell_type": "code",
   "execution_count": 12,
   "id": "53646fd4",
   "metadata": {},
   "outputs": [
    {
     "data": {
      "text/plain": [
       "(0.778, 0.32, 0.2, 0.796)"
      ]
     },
     "execution_count": 12,
     "metadata": {},
     "output_type": "execute_result"
    }
   ],
   "source": [
    "aa"
   ]
  },
  {
   "cell_type": "markdown",
   "id": "8b66fff4",
   "metadata": {},
   "source": [
    "# modeling_Noise\n",
    "- Noise별로 모델링을 진행함"
   ]
  },
  {
   "cell_type": "code",
   "execution_count": 15,
   "id": "17733905",
   "metadata": {},
   "outputs": [],
   "source": [
    "obj = 'fan'\n",
    "model = '0'\n",
    "sr = 16000\n",
    "target_sr = 125\n"
   ]
  },
  {
   "cell_type": "markdown",
   "id": "9460bcf1",
   "metadata": {},
   "source": [
    "## 함수정의"
   ]
  },
  {
   "cell_type": "code",
   "execution_count": 24,
   "id": "c5cc48a0",
   "metadata": {},
   "outputs": [],
   "source": [
    "def modeling_Noise(obj:str, model:str, sr:int, target_sr:int):\n",
    "    '''\n",
    "    Noise별로 모델링을 진행함\n",
    "    input :\n",
    "        - obj : Object - ex)'fan'\n",
    "        - model : 모델링하고 싶은 모델 - ex)'0'\n",
    "        - sr : sampling rate - ex)16000\n",
    "        - target_sr : down sampling rate - ex)125\n",
    "    output :\n",
    "        make_roc_curve함수\n",
    "            - acc_score\n",
    "            - recall_score\n",
    "            - precision_score\n",
    "            - f1_score\n",
    "            - roc auc value\n",
    "    '''\n",
    "    \n",
    "    print('#'*10, '데이터 경로 불러오기', '#'*10)\n",
    "    fan_0_id_00_path = '/data/time_series/'+obj+'/'+model\n",
    "    all_fan_0 = glob.glob(fan_0_id_00_path + '/*/*/*')\n",
    "    print(obj+'_'+model+' 개수 : ', len(all_fan_0))\n",
    "    print('\\n')\n",
    "\n",
    "    print('#'*10, 'Multi-Processing', '#'*10)\n",
    "    fan_all_model = load_data_using_multi_process(files = all_fan_0, sr = sr, target_sr = target_sr)\n",
    "\n",
    "    if len(fan_all_model[0]) == (target_sr*10)+1:\n",
    "        df = pd.DataFrame(fan_all_model)\n",
    "\n",
    "    if df.columns[-1] == target_sr*10 :\n",
    "        df.rename(columns={target_sr*10:'label'}, inplace=True)\n",
    "    df.reset_index(drop=True, inplace=True)   \n",
    "    print('\\n')\n",
    "\n",
    "    print('#'*10, 'Data Split', '#'*10)\n",
    "    X = df.iloc[:, :target_sr*10]\n",
    "    y = df['label']\n",
    "    X_train, X_test, y_train, y_test = train_test_split(X, y, \n",
    "                                                        stratify = y,\n",
    "                                                        test_size = 0.2,\n",
    "                                                        random_state = 42)\n",
    "    print('X_train 의 크기 : ', X_train.shape)\n",
    "    print('X_test 의 크기 : ', X_test.shape)\n",
    "    print('y_train 의 크기 : ', y_train.shape)\n",
    "    print('y_test 의 크기 : ', y_test.shape)\n",
    "    print('\\n')\n",
    "\n",
    "    print('#'*10, 'Modeling', '#'*10)\n",
    "    model = model_lgbm(df)\n",
    "    model.fit(X_train, y_train)\n",
    "    y_pred = model.predict(X_test)\n",
    "    y_pred_prob = model.predict_proba(X_test)\n",
    "\n",
    "    print('#'*10, 'ROC_CURVE', '#'*10)\n",
    "    return make_roc_curve(y_test, y_pred, y_pred_prob)\n",
    "    \n",
    "    \n",
    "    \n",
    "    "
   ]
  },
  {
   "cell_type": "markdown",
   "id": "f4719733",
   "metadata": {},
   "source": [
    "## 함수 사용"
   ]
  },
  {
   "cell_type": "code",
   "execution_count": 21,
   "id": "917460fb",
   "metadata": {
    "scrolled": false
   },
   "outputs": [
    {
     "name": "stdout",
     "output_type": "stream",
     "text": [
      "########## 데이터 경로 불러오기 ##########\n",
      "fan_0 개수 :  5550\n",
      "\n",
      "\n",
      "########## Multi-Processing ##########\n",
      "\n",
      "아래 리스트에서 샘플링 기법을 선택해주세요. \n",
      " ['abs_max(our_custom)', 'kaiser_best', 'kaiser_fast', 'fft', 'scipy', 'polyphase', 'linear', 'zero_order_hold', 'sinc_best', 'sinc_medium', 'sinc_fastest', 'soxr_vhq', 'soxr_hq', 'soxr_mq', 'soxr_lq', 'soxr_hq', 'soxr_qq']\n",
      "선택한 기법: kaiser_best\n",
      "\n",
      "멀티 프로세싱을 시작합니다. 현재 코어 30개 사용 중. \n",
      "1.다른 사람과 동시에 돌리지 마세요.\n",
      "2.함부로 진행중에 중단 하지마세요.\n",
      "--- 걸린시간: 11.593631029129028 ---\n",
      "\n",
      "\n",
      "########## Data Split ##########\n",
      "X_train 의 크기 :  (4440, 1250)\n",
      "X_test 의 크기 :  (1110, 1250)\n",
      "y_train 의 크기 :  (4440,)\n",
      "y_test 의 크기 :  (1110,)\n",
      "\n",
      "\n",
      "########## Modeling ##########\n",
      "normal : 4075\n",
      "abnormal : 1475\n",
      "scale_pos_weight is 2.76.\n",
      "Model is ready to running.\n"
     ]
    },
    {
     "name": "stderr",
     "output_type": "stream",
     "text": [
      "/package/anaconda3.8/lib/python3.8/site-packages/lightgbm/engine.py:177: UserWarning: Found `num_iterations` in params. Will use it instead of argument\n",
      "  _log_warning(f\"Found `{alias}` in params. Will use it instead of argument\")\n"
     ]
    },
    {
     "name": "stdout",
     "output_type": "stream",
     "text": [
      "########## ROC_CURVE ##########\n"
     ]
    },
    {
     "data": {
      "image/png": "[encoded data removed]",
      "text/plain": [
       "<Figure size 504x504 with 1 Axes>"
      ]
     },
     "metadata": {
      "needs_background": "light"
     },
     "output_type": "display_data"
    },
    {
     "name": "stdout",
     "output_type": "stream",
     "text": [
      "acc_score : 0.842\n",
      "recall_score : 0.444\n",
      "precision_score : 0.923\n",
      "f1_score : 0.6\n",
      "roc auc value : 0.867\n"
     ]
    }
   ],
   "source": [
    "bb = modeling_Noise('fan', '0', 16000, 125)"
   ]
  },
  {
   "cell_type": "code",
   "execution_count": 23,
   "id": "c8cb1fdf",
   "metadata": {},
   "outputs": [
    {
     "data": {
      "text/plain": [
       "(0.842, 0.6, 0.444, 0.923)"
      ]
     },
     "execution_count": 23,
     "metadata": {},
     "output_type": "execute_result"
    }
   ],
   "source": [
    "bb"
   ]
  },
  {
   "cell_type": "markdown",
   "id": "4c706372",
   "metadata": {},
   "source": [
    "# modeling_Object"
   ]
  },
  {
   "cell_type": "code",
   "execution_count": 30,
   "id": "920845fe",
   "metadata": {},
   "outputs": [],
   "source": [
    "obj = 'fan'\n",
    "sr = 16000\n",
    "target_sr = 125"
   ]
  },
  {
   "cell_type": "markdown",
   "id": "59fc39c4",
   "metadata": {},
   "source": [
    "## 함수정의"
   ]
  },
  {
   "cell_type": "code",
   "execution_count": 36,
   "id": "573a8920",
   "metadata": {},
   "outputs": [],
   "source": [
    "def modeling_Object(obj:str, sr:int, target_sr:int):\n",
    "    '''\n",
    "    원하는 Object를 전체로 모델링 돌리기\n",
    "        input :\n",
    "            - obj 모델링 돌리고 싶은 Object - ex)'fan'\n",
    "            - sr : sampling rate - ex)16000\n",
    "            - target_sr : down sampling rate - ex)125\n",
    "        output : \n",
    "            make_roc_curve함수\n",
    "                - acc_score\n",
    "                - recall_score\n",
    "                - precision_score\n",
    "                - f1_score\n",
    "                - roc auc value\n",
    "    '''\n",
    "\n",
    "    print('#'*10, '파일경로 불러오기', '#'*10)\n",
    "    fan_path = '/data/time_series/' + obj\n",
    "    fan_files = glob.glob(fan_path + '/*/*/*/*')\n",
    "    print('\\n')\n",
    "\n",
    "    print('#'*10, 'Multi-Processing', '#'*10)\n",
    "    result = load_data_using_multi_process(files = fan_files, sr = sr, target_sr = target_sr)\n",
    "\n",
    "    if len(result[0]) == (target_sr*10)+1:\n",
    "        df = pd.DataFrame(result)\n",
    "\n",
    "    if df.columns[-1] == target_sr*10 :\n",
    "        df.rename(columns={target_sr*10:'label'}, inplace=True)\n",
    "    print('\\n')\n",
    "\n",
    "    print('#'*10, 'Data Split', '#'*10)\n",
    "    X = df.iloc[:, :target_sr*10]\n",
    "    y = df['label']\n",
    "    X_train, X_test, y_train, y_test = train_test_split(X, y, \n",
    "                                                        stratify = y,\n",
    "                                                        test_size = 0.2,\n",
    "                                                        random_state = 42)\n",
    "    print('X_train 의 크기 : ', X_train.shape)\n",
    "    print('X_test 의 크기 : ', X_test.shape)\n",
    "    print('y_train 의 크기 : ', y_train.shape)\n",
    "    print('y_test 의 크기 : ', y_test.shape)\n",
    "    print('\\n')\n",
    "\n",
    "    print('#'*10, 'Modeling', '#'*10)\n",
    "    model = model_lgbm(df)\n",
    "    model.fit(X_train, y_train)\n",
    "    y_pred = model.predict(X_test)\n",
    "    y_pred_prob = model.predict_proba(X_test)\n",
    "    print('\\n')\n",
    "    \n",
    "    print('#'*10, 'ROC_CURVE', '#'*10)\n",
    "    return make_roc_curve(y_test, y_pred, y_pred_prob)\n",
    "\n"
   ]
  },
  {
   "cell_type": "markdown",
   "id": "140f5d25",
   "metadata": {},
   "source": [
    "## 함수 사용"
   ]
  },
  {
   "cell_type": "code",
   "execution_count": 38,
   "id": "cc83c5e0",
   "metadata": {
    "scrolled": false
   },
   "outputs": [
    {
     "name": "stdout",
     "output_type": "stream",
     "text": [
      "########## 파일경로 불러오기 ##########\n",
      "\n",
      "\n",
      "########## Multi-Processing ##########\n",
      "\n",
      "아래 리스트에서 샘플링 기법을 선택해주세요. \n",
      " ['abs_max(our_custom)', 'kaiser_best', 'kaiser_fast', 'fft', 'scipy', 'polyphase', 'linear', 'zero_order_hold', 'sinc_best', 'sinc_medium', 'sinc_fastest', 'soxr_vhq', 'soxr_hq', 'soxr_mq', 'soxr_lq', 'soxr_hq', 'soxr_qq']\n",
      "선택한 기법: kaiser_best\n",
      "\n",
      "멀티 프로세싱을 시작합니다. 현재 코어 30개 사용 중. \n",
      "1.다른 사람과 동시에 돌리지 마세요.\n",
      "2.함부로 진행중에 중단 하지마세요.\n",
      "--- 걸린시간: 32.934669971466064 ---\n",
      "\n",
      "\n",
      "########## Data Split ##########\n",
      "X_train 의 크기 :  (13320, 1250)\n",
      "X_test 의 크기 :  (3330, 1250)\n",
      "y_train 의 크기 :  (13320,)\n",
      "y_test 의 크기 :  (3330,)\n",
      "\n",
      "\n",
      "########## Modeling ##########\n",
      "normal : 12225\n",
      "abnormal : 4425\n",
      "scale_pos_weight is 2.76.\n",
      "Model is ready to running.\n"
     ]
    },
    {
     "name": "stderr",
     "output_type": "stream",
     "text": [
      "/package/anaconda3.8/lib/python3.8/site-packages/lightgbm/engine.py:177: UserWarning: Found `num_iterations` in params. Will use it instead of argument\n",
      "  _log_warning(f\"Found `{alias}` in params. Will use it instead of argument\")\n"
     ]
    },
    {
     "name": "stdout",
     "output_type": "stream",
     "text": [
      "\n",
      "\n",
      "########## ROC_CURVE ##########\n"
     ]
    },
    {
     "data": {
      "image/png": "[encoded data removed]",
      "text/plain": [
       "<Figure size 504x504 with 1 Axes>"
      ]
     },
     "metadata": {
      "needs_background": "light"
     },
     "output_type": "display_data"
    },
    {
     "name": "stdout",
     "output_type": "stream",
     "text": [
      "acc_score : 0.862\n",
      "recall_score : 0.551\n",
      "precision_score : 0.884\n",
      "f1_score : 0.679\n",
      "roc auc value : 0.891\n"
     ]
    }
   ],
   "source": [
    "cc = modeling_Object('fan', 16000, 125)"
   ]
  },
  {
   "cell_type": "code",
   "execution_count": 39,
   "id": "febde7fc",
   "metadata": {},
   "outputs": [
    {
     "data": {
      "text/plain": [
       "(0.862, 0.679, 0.551, 0.884)"
      ]
     },
     "execution_count": 39,
     "metadata": {},
     "output_type": "execute_result"
    }
   ],
   "source": [
    "cc"
   ]
  },
  {
   "cell_type": "code",
   "execution_count": null,
   "id": "e11c405a",
   "metadata": {},
   "outputs": [],
   "source": []
  }
 ],
 "metadata": {
  "kernelspec": {
   "display_name": "Python 3 (ipykernel)",
   "language": "python",
   "name": "python3"
  },
  "language_info": {
   "codemirror_mode": {
    "name": "ipython",
    "version": 3
   },
   "file_extension": ".py",
   "mimetype": "text/x-python",
   "name": "python",
   "nbconvert_exporter": "python",
   "pygments_lexer": "ipython3",
   "version": "3.8.11"
  },
  "toc": {
   "base_numbering": 1,
   "nav_menu": {},
   "number_sections": true,
   "sideBar": true,
   "skip_h1_title": false,
   "title_cell": "Table of Contents",
   "title_sidebar": "Contents",
   "toc_cell": false,
   "toc_position": {},
   "toc_section_display": true,
   "toc_window_display": false
  }
 },
 "nbformat": 4,
 "nbformat_minor": 5
}

{
 "cells": [
  {
   "cell_type": "markdown",
   "id": "14a5f7c9",
   "metadata": {},
   "source": [
    "# Module import"
   ]
  },
  {
   "cell_type": "code",
   "execution_count": 1,
   "id": "8f3e09f1",
   "metadata": {},
   "outputs": [
    {
     "name": "stderr",
     "output_type": "stream",
     "text": [
      "/package/anaconda3.8/lib/python3.8/site-packages/dask/dataframe/backends.py:189: FutureWarning: pandas.Int64Index is deprecated and will be removed from pandas in a future version. Use pandas.Index with the appropriate dtype instead.\n",
      "  _numeric_index_types = (pd.Int64Index, pd.Float64Index, pd.UInt64Index)\n",
      "/package/anaconda3.8/lib/python3.8/site-packages/dask/dataframe/backends.py:189: FutureWarning: pandas.Float64Index is deprecated and will be removed from pandas in a future version. Use pandas.Index with the appropriate dtype instead.\n",
      "  _numeric_index_types = (pd.Int64Index, pd.Float64Index, pd.UInt64Index)\n",
      "/package/anaconda3.8/lib/python3.8/site-packages/dask/dataframe/backends.py:189: FutureWarning: pandas.UInt64Index is deprecated and will be removed from pandas in a future version. Use pandas.Index with the appropriate dtype instead.\n",
      "  _numeric_index_types = (pd.Int64Index, pd.Float64Index, pd.UInt64Index)\n"
     ]
    }
   ],
   "source": [
    "import os\n",
    "import sys\n",
    "import glob\n",
    "import numpy as np\n",
    "import pandas as pd\n",
    "import matplotlib.pyplot as plt\n",
    "import seaborn as sns\n",
    "import librosa\n",
    "import time\n",
    "\n",
    "from tqdm import tqdm\n",
    "from sklearn.model_selection import train_test_split\n",
    "\n",
    "##부모파일에 있는 py파일 읽기\n",
    "sys.path.append(os.path.dirname(os.path.abspath(os.path.dirname('load_data.py'))))\n",
    " \n",
    "from load_data import load_data_using_multi_process\n",
    "from model import model_lgbm\n",
    "from make_roc_curve import make_roc_curve\n",
    "\n",
    "from sklearn.metrics import roc_curve, roc_auc_score, f1_score, accuracy_score, recall_score, precision_score"
   ]
  },
  {
   "cell_type": "markdown",
   "id": "5624a707",
   "metadata": {},
   "source": [
    "# data load"
   ]
  },
  {
   "cell_type": "code",
   "execution_count": 2,
   "id": "3288ef84",
   "metadata": {},
   "outputs": [
    {
     "name": "stdout",
     "output_type": "stream",
     "text": [
      "\n",
      "아래 리스트에서 샘플링 기법을 선택해주세요. \n",
      " ['abs_max(our_custom)', 'kaiser_best', 'kaiser_fast', 'fft', 'scipy', 'polyphase', 'linear', 'zero_order_hold', 'sinc_best', 'sinc_medium', 'sinc_fastest', 'soxr_vhq', 'soxr_hq', 'soxr_mq', 'soxr_lq', 'soxr_hq', 'soxr_qq']\n",
      "선택한 기법: soxr_lq\n",
      "\n",
      "멀티 프로세싱을 시작합니다. 현재 코어 30개 사용 중. \n",
      "1.다른 사람과 동시에 돌리지 마세요.\n",
      "2.함부로 진행중에 중단 하지마세요.\n",
      "--- 걸린시간: 5.642566204071045 ---\n"
     ]
    }
   ],
   "source": [
    "fan_path = '/data/time_series/fan'\n",
    "fan_files = glob.glob(fan_path + '/*/*/*/*')\n",
    "\n",
    "sr = 16000\n",
    "target_sr = 125\n",
    "result = load_data_using_multi_process(files = fan_files, sr = sr, target_sr = target_sr)"
   ]
  },
  {
   "cell_type": "code",
   "execution_count": 4,
   "id": "6f784929",
   "metadata": {
    "scrolled": true
   },
   "outputs": [
    {
     "data": {
      "text/plain": [
       "(16650, 1251)"
      ]
     },
     "execution_count": 4,
     "metadata": {},
     "output_type": "execute_result"
    }
   ],
   "source": [
    "len(result), len(result[0][0])"
   ]
  },
  {
   "cell_type": "code",
   "execution_count": 5,
   "id": "d098e1ad",
   "metadata": {},
   "outputs": [],
   "source": [
    "all_fan = [one[0] for one in result]\n"
   ]
  },
  {
   "cell_type": "code",
   "execution_count": 6,
   "id": "9959310e",
   "metadata": {},
   "outputs": [
    {
     "data": {
      "text/plain": [
       "(16650, 1251)"
      ]
     },
     "execution_count": 6,
     "metadata": {},
     "output_type": "execute_result"
    }
   ],
   "source": [
    "len(all_fan), len(all_fan[0])"
   ]
  },
  {
   "cell_type": "code",
   "execution_count": 7,
   "id": "4c26df77",
   "metadata": {
    "scrolled": false
   },
   "outputs": [],
   "source": [
    "df = pd.DataFrame(all_fan)"
   ]
  },
  {
   "cell_type": "markdown",
   "id": "842a2781",
   "metadata": {},
   "source": [
    "split"
   ]
  },
  {
   "cell_type": "code",
   "execution_count": 13,
   "id": "7f8dccaf",
   "metadata": {},
   "outputs": [
    {
     "data": {
      "text/html": [
       "<div>\n",
       "<style scoped>\n",
       "    .dataframe tbody tr th:only-of-type {\n",
       "        vertical-align: middle;\n",
       "    }\n",
       "\n",
       "    .dataframe tbody tr th {\n",
       "        vertical-align: top;\n",
       "    }\n",
       "\n",
       "    .dataframe thead th {\n",
       "        text-align: right;\n",
       "    }\n",
       "</style>\n",
       "<table border=\"1\" class=\"dataframe\">\n",
       "  <thead>\n",
       "    <tr style=\"text-align: right;\">\n",
       "      <th></th>\n",
       "      <th>0</th>\n",
       "      <th>1</th>\n",
       "      <th>2</th>\n",
       "      <th>3</th>\n",
       "      <th>4</th>\n",
       "      <th>5</th>\n",
       "      <th>6</th>\n",
       "      <th>7</th>\n",
       "      <th>8</th>\n",
       "      <th>9</th>\n",
       "      <th>...</th>\n",
       "      <th>1241</th>\n",
       "      <th>1242</th>\n",
       "      <th>1243</th>\n",
       "      <th>1244</th>\n",
       "      <th>1245</th>\n",
       "      <th>1246</th>\n",
       "      <th>1247</th>\n",
       "      <th>1248</th>\n",
       "      <th>1249</th>\n",
       "      <th>label</th>\n",
       "    </tr>\n",
       "  </thead>\n",
       "  <tbody>\n",
       "    <tr>\n",
       "      <th>0</th>\n",
       "      <td>0.002363</td>\n",
       "      <td>-0.001046</td>\n",
       "      <td>-0.000688</td>\n",
       "      <td>0.000679</td>\n",
       "      <td>-0.000117</td>\n",
       "      <td>-0.001900</td>\n",
       "      <td>-0.000505</td>\n",
       "      <td>0.002023</td>\n",
       "      <td>0.000466</td>\n",
       "      <td>0.001408</td>\n",
       "      <td>...</td>\n",
       "      <td>0.000637</td>\n",
       "      <td>-0.001692</td>\n",
       "      <td>-0.001678</td>\n",
       "      <td>0.003447</td>\n",
       "      <td>0.001538</td>\n",
       "      <td>-0.001466</td>\n",
       "      <td>-0.000163</td>\n",
       "      <td>-0.000870</td>\n",
       "      <td>-0.001322</td>\n",
       "      <td>0.0</td>\n",
       "    </tr>\n",
       "    <tr>\n",
       "      <th>1</th>\n",
       "      <td>0.002328</td>\n",
       "      <td>-0.000944</td>\n",
       "      <td>0.001628</td>\n",
       "      <td>0.000592</td>\n",
       "      <td>-0.002903</td>\n",
       "      <td>-0.000626</td>\n",
       "      <td>0.000791</td>\n",
       "      <td>-0.000558</td>\n",
       "      <td>-0.000845</td>\n",
       "      <td>0.002327</td>\n",
       "      <td>...</td>\n",
       "      <td>0.002048</td>\n",
       "      <td>-0.001089</td>\n",
       "      <td>-0.000561</td>\n",
       "      <td>0.001379</td>\n",
       "      <td>-0.000938</td>\n",
       "      <td>0.000752</td>\n",
       "      <td>-0.001326</td>\n",
       "      <td>-0.003325</td>\n",
       "      <td>0.002545</td>\n",
       "      <td>0.0</td>\n",
       "    </tr>\n",
       "    <tr>\n",
       "      <th>2</th>\n",
       "      <td>-0.000382</td>\n",
       "      <td>0.000388</td>\n",
       "      <td>0.001563</td>\n",
       "      <td>0.001894</td>\n",
       "      <td>-0.001183</td>\n",
       "      <td>-0.000371</td>\n",
       "      <td>-0.001716</td>\n",
       "      <td>-0.002288</td>\n",
       "      <td>0.001621</td>\n",
       "      <td>0.001014</td>\n",
       "      <td>...</td>\n",
       "      <td>0.001534</td>\n",
       "      <td>0.000074</td>\n",
       "      <td>-0.002337</td>\n",
       "      <td>0.000661</td>\n",
       "      <td>-0.001428</td>\n",
       "      <td>0.000356</td>\n",
       "      <td>0.001857</td>\n",
       "      <td>-0.001395</td>\n",
       "      <td>0.000856</td>\n",
       "      <td>0.0</td>\n",
       "    </tr>\n",
       "    <tr>\n",
       "      <th>3</th>\n",
       "      <td>-0.001214</td>\n",
       "      <td>0.000303</td>\n",
       "      <td>0.001091</td>\n",
       "      <td>-0.001070</td>\n",
       "      <td>0.000696</td>\n",
       "      <td>0.000749</td>\n",
       "      <td>-0.000512</td>\n",
       "      <td>0.001539</td>\n",
       "      <td>-0.000620</td>\n",
       "      <td>-0.000664</td>\n",
       "      <td>...</td>\n",
       "      <td>-0.000109</td>\n",
       "      <td>-0.000757</td>\n",
       "      <td>0.001035</td>\n",
       "      <td>-0.000620</td>\n",
       "      <td>0.000732</td>\n",
       "      <td>0.000370</td>\n",
       "      <td>-0.001684</td>\n",
       "      <td>0.000572</td>\n",
       "      <td>0.000938</td>\n",
       "      <td>0.0</td>\n",
       "    </tr>\n",
       "    <tr>\n",
       "      <th>4</th>\n",
       "      <td>-0.000152</td>\n",
       "      <td>0.001341</td>\n",
       "      <td>0.001614</td>\n",
       "      <td>-0.004479</td>\n",
       "      <td>0.001846</td>\n",
       "      <td>0.002708</td>\n",
       "      <td>-0.002796</td>\n",
       "      <td>0.002506</td>\n",
       "      <td>-0.001309</td>\n",
       "      <td>-0.001511</td>\n",
       "      <td>...</td>\n",
       "      <td>-0.001728</td>\n",
       "      <td>0.002203</td>\n",
       "      <td>-0.000244</td>\n",
       "      <td>-0.000826</td>\n",
       "      <td>0.001080</td>\n",
       "      <td>-0.001809</td>\n",
       "      <td>0.000622</td>\n",
       "      <td>0.000249</td>\n",
       "      <td>0.000213</td>\n",
       "      <td>0.0</td>\n",
       "    </tr>\n",
       "    <tr>\n",
       "      <th>...</th>\n",
       "      <td>...</td>\n",
       "      <td>...</td>\n",
       "      <td>...</td>\n",
       "      <td>...</td>\n",
       "      <td>...</td>\n",
       "      <td>...</td>\n",
       "      <td>...</td>\n",
       "      <td>...</td>\n",
       "      <td>...</td>\n",
       "      <td>...</td>\n",
       "      <td>...</td>\n",
       "      <td>...</td>\n",
       "      <td>...</td>\n",
       "      <td>...</td>\n",
       "      <td>...</td>\n",
       "      <td>...</td>\n",
       "      <td>...</td>\n",
       "      <td>...</td>\n",
       "      <td>...</td>\n",
       "      <td>...</td>\n",
       "      <td>...</td>\n",
       "    </tr>\n",
       "    <tr>\n",
       "      <th>16645</th>\n",
       "      <td>-0.003358</td>\n",
       "      <td>0.001260</td>\n",
       "      <td>-0.000175</td>\n",
       "      <td>-0.002945</td>\n",
       "      <td>-0.000131</td>\n",
       "      <td>0.000004</td>\n",
       "      <td>0.002636</td>\n",
       "      <td>-0.000036</td>\n",
       "      <td>-0.000123</td>\n",
       "      <td>-0.000354</td>\n",
       "      <td>...</td>\n",
       "      <td>0.002548</td>\n",
       "      <td>0.000429</td>\n",
       "      <td>0.000344</td>\n",
       "      <td>-0.001143</td>\n",
       "      <td>-0.002542</td>\n",
       "      <td>0.001105</td>\n",
       "      <td>0.000697</td>\n",
       "      <td>0.002619</td>\n",
       "      <td>-0.001087</td>\n",
       "      <td>1.0</td>\n",
       "    </tr>\n",
       "    <tr>\n",
       "      <th>16646</th>\n",
       "      <td>-0.000804</td>\n",
       "      <td>-0.000624</td>\n",
       "      <td>-0.001183</td>\n",
       "      <td>-0.000623</td>\n",
       "      <td>0.000216</td>\n",
       "      <td>0.001757</td>\n",
       "      <td>0.000654</td>\n",
       "      <td>-0.001382</td>\n",
       "      <td>-0.001207</td>\n",
       "      <td>-0.000639</td>\n",
       "      <td>...</td>\n",
       "      <td>0.002133</td>\n",
       "      <td>0.000519</td>\n",
       "      <td>-0.001659</td>\n",
       "      <td>-0.000656</td>\n",
       "      <td>-0.000508</td>\n",
       "      <td>0.000908</td>\n",
       "      <td>0.001500</td>\n",
       "      <td>-0.000596</td>\n",
       "      <td>-0.001546</td>\n",
       "      <td>1.0</td>\n",
       "    </tr>\n",
       "    <tr>\n",
       "      <th>16647</th>\n",
       "      <td>0.001636</td>\n",
       "      <td>0.003068</td>\n",
       "      <td>-0.000737</td>\n",
       "      <td>-0.000752</td>\n",
       "      <td>-0.002758</td>\n",
       "      <td>0.000779</td>\n",
       "      <td>0.003397</td>\n",
       "      <td>-0.001045</td>\n",
       "      <td>-0.001359</td>\n",
       "      <td>-0.000763</td>\n",
       "      <td>...</td>\n",
       "      <td>0.002819</td>\n",
       "      <td>0.002043</td>\n",
       "      <td>-0.003972</td>\n",
       "      <td>-0.001538</td>\n",
       "      <td>-0.000635</td>\n",
       "      <td>0.001800</td>\n",
       "      <td>0.002949</td>\n",
       "      <td>-0.001940</td>\n",
       "      <td>-0.000628</td>\n",
       "      <td>1.0</td>\n",
       "    </tr>\n",
       "    <tr>\n",
       "      <th>16648</th>\n",
       "      <td>0.000704</td>\n",
       "      <td>-0.004175</td>\n",
       "      <td>0.000913</td>\n",
       "      <td>-0.000389</td>\n",
       "      <td>0.000365</td>\n",
       "      <td>0.002629</td>\n",
       "      <td>-0.001297</td>\n",
       "      <td>-0.001821</td>\n",
       "      <td>-0.000634</td>\n",
       "      <td>0.000539</td>\n",
       "      <td>...</td>\n",
       "      <td>0.000423</td>\n",
       "      <td>-0.000816</td>\n",
       "      <td>0.000343</td>\n",
       "      <td>0.002192</td>\n",
       "      <td>-0.000650</td>\n",
       "      <td>-0.001727</td>\n",
       "      <td>-0.001771</td>\n",
       "      <td>0.000746</td>\n",
       "      <td>0.000229</td>\n",
       "      <td>1.0</td>\n",
       "    </tr>\n",
       "    <tr>\n",
       "      <th>16649</th>\n",
       "      <td>-0.003210</td>\n",
       "      <td>0.000923</td>\n",
       "      <td>0.002926</td>\n",
       "      <td>0.000355</td>\n",
       "      <td>-0.000829</td>\n",
       "      <td>-0.003051</td>\n",
       "      <td>-0.000781</td>\n",
       "      <td>0.003164</td>\n",
       "      <td>0.001228</td>\n",
       "      <td>-0.000403</td>\n",
       "      <td>...</td>\n",
       "      <td>0.001215</td>\n",
       "      <td>0.000502</td>\n",
       "      <td>-0.001133</td>\n",
       "      <td>-0.001531</td>\n",
       "      <td>-0.000167</td>\n",
       "      <td>0.002055</td>\n",
       "      <td>0.001164</td>\n",
       "      <td>-0.001502</td>\n",
       "      <td>-0.001254</td>\n",
       "      <td>1.0</td>\n",
       "    </tr>\n",
       "  </tbody>\n",
       "</table>\n",
       "<p>16650 rows × 1251 columns</p>\n",
       "</div>"
      ],
      "text/plain": [
       "              0         1         2         3         4         5         6  \\\n",
       "0      0.002363 -0.001046 -0.000688  0.000679 -0.000117 -0.001900 -0.000505   \n",
       "1      0.002328 -0.000944  0.001628  0.000592 -0.002903 -0.000626  0.000791   \n",
       "2     -0.000382  0.000388  0.001563  0.001894 -0.001183 -0.000371 -0.001716   \n",
       "3     -0.001214  0.000303  0.001091 -0.001070  0.000696  0.000749 -0.000512   \n",
       "4     -0.000152  0.001341  0.001614 -0.004479  0.001846  0.002708 -0.002796   \n",
       "...         ...       ...       ...       ...       ...       ...       ...   \n",
       "16645 -0.003358  0.001260 -0.000175 -0.002945 -0.000131  0.000004  0.002636   \n",
       "16646 -0.000804 -0.000624 -0.001183 -0.000623  0.000216  0.001757  0.000654   \n",
       "16647  0.001636  0.003068 -0.000737 -0.000752 -0.002758  0.000779  0.003397   \n",
       "16648  0.000704 -0.004175  0.000913 -0.000389  0.000365  0.002629 -0.001297   \n",
       "16649 -0.003210  0.000923  0.002926  0.000355 -0.000829 -0.003051 -0.000781   \n",
       "\n",
       "              7         8         9  ...      1241      1242      1243  \\\n",
       "0      0.002023  0.000466  0.001408  ...  0.000637 -0.001692 -0.001678   \n",
       "1     -0.000558 -0.000845  0.002327  ...  0.002048 -0.001089 -0.000561   \n",
       "2     -0.002288  0.001621  0.001014  ...  0.001534  0.000074 -0.002337   \n",
       "3      0.001539 -0.000620 -0.000664  ... -0.000109 -0.000757  0.001035   \n",
       "4      0.002506 -0.001309 -0.001511  ... -0.001728  0.002203 -0.000244   \n",
       "...         ...       ...       ...  ...       ...       ...       ...   \n",
       "16645 -0.000036 -0.000123 -0.000354  ...  0.002548  0.000429  0.000344   \n",
       "16646 -0.001382 -0.001207 -0.000639  ...  0.002133  0.000519 -0.001659   \n",
       "16647 -0.001045 -0.001359 -0.000763  ...  0.002819  0.002043 -0.003972   \n",
       "16648 -0.001821 -0.000634  0.000539  ...  0.000423 -0.000816  0.000343   \n",
       "16649  0.003164  0.001228 -0.000403  ...  0.001215  0.000502 -0.001133   \n",
       "\n",
       "           1244      1245      1246      1247      1248      1249  label  \n",
       "0      0.003447  0.001538 -0.001466 -0.000163 -0.000870 -0.001322    0.0  \n",
       "1      0.001379 -0.000938  0.000752 -0.001326 -0.003325  0.002545    0.0  \n",
       "2      0.000661 -0.001428  0.000356  0.001857 -0.001395  0.000856    0.0  \n",
       "3     -0.000620  0.000732  0.000370 -0.001684  0.000572  0.000938    0.0  \n",
       "4     -0.000826  0.001080 -0.001809  0.000622  0.000249  0.000213    0.0  \n",
       "...         ...       ...       ...       ...       ...       ...    ...  \n",
       "16645 -0.001143 -0.002542  0.001105  0.000697  0.002619 -0.001087    1.0  \n",
       "16646 -0.000656 -0.000508  0.000908  0.001500 -0.000596 -0.001546    1.0  \n",
       "16647 -0.001538 -0.000635  0.001800  0.002949 -0.001940 -0.000628    1.0  \n",
       "16648  0.002192 -0.000650 -0.001727 -0.001771  0.000746  0.000229    1.0  \n",
       "16649 -0.001531 -0.000167  0.002055  0.001164 -0.001502 -0.001254    1.0  \n",
       "\n",
       "[16650 rows x 1251 columns]"
      ]
     },
     "execution_count": 13,
     "metadata": {},
     "output_type": "execute_result"
    }
   ],
   "source": [
    "if df.columns[-1] == target_sr*10 :\n",
    "    df.rename(columns={target_sr*10:'label'}, inplace=True)\n",
    "df"
   ]
  },
  {
   "cell_type": "markdown",
   "id": "f635bee9",
   "metadata": {},
   "source": [
    "# Data Split"
   ]
  },
  {
   "cell_type": "code",
   "execution_count": 14,
   "id": "125525a5",
   "metadata": {},
   "outputs": [
    {
     "name": "stdout",
     "output_type": "stream",
     "text": [
      "X_train 의 크기 :  (13320, 1250)\n",
      "X_test 의 크기 :  (3330, 1250)\n",
      "y_train 의 크기 :  (13320,)\n",
      "y_test 의 크기 :  (3330,)\n"
     ]
    }
   ],
   "source": [
    "X = df.iloc[:, :target_sr*10]\n",
    "y = df['label']\n",
    "X_train, X_test, y_train, y_test = train_test_split(X, y, \n",
    "                                                    stratify = y,\n",
    "                                                    test_size = 0.2,\n",
    "                                                    random_state = 42)\n",
    "print('X_train 의 크기 : ', X_train.shape)\n",
    "print('X_test 의 크기 : ', X_test.shape)\n",
    "print('y_train 의 크기 : ', y_train.shape)\n",
    "print('y_test 의 크기 : ', y_test.shape)"
   ]
  },
  {
   "cell_type": "code",
   "execution_count": 15,
   "id": "95e82c7a",
   "metadata": {},
   "outputs": [
    {
     "name": "stdout",
     "output_type": "stream",
     "text": [
      "0.0    9780\n",
      "1.0    3540\n",
      "Name: label, dtype: int64\n"
     ]
    }
   ],
   "source": [
    "print(y_train.value_counts())"
   ]
  },
  {
   "cell_type": "code",
   "execution_count": 16,
   "id": "fce72569",
   "metadata": {
    "scrolled": true
   },
   "outputs": [
    {
     "name": "stdout",
     "output_type": "stream",
     "text": [
      "0.0    2445\n",
      "1.0     885\n",
      "Name: label, dtype: int64\n"
     ]
    }
   ],
   "source": [
    "print(y_test.value_counts())"
   ]
  },
  {
   "cell_type": "code",
   "execution_count": 17,
   "id": "3492ee54",
   "metadata": {},
   "outputs": [
    {
     "name": "stdout",
     "output_type": "stream",
     "text": [
      "normal : 12225\n",
      "abnormal : 4425\n",
      "scale_pos_weight is 2.76.\n",
      "Model is ready to running.\n"
     ]
    }
   ],
   "source": [
    "model = model_lgbm(df)"
   ]
  },
  {
   "cell_type": "markdown",
   "id": "bd42af6c",
   "metadata": {},
   "source": [
    "# Modeling"
   ]
  },
  {
   "cell_type": "code",
   "execution_count": 18,
   "id": "d2399300",
   "metadata": {},
   "outputs": [
    {
     "name": "stderr",
     "output_type": "stream",
     "text": [
      "/package/anaconda3.8/lib/python3.8/site-packages/lightgbm/engine.py:177: UserWarning: Found `num_iterations` in params. Will use it instead of argument\n",
      "  _log_warning(f\"Found `{alias}` in params. Will use it instead of argument\")\n"
     ]
    }
   ],
   "source": [
    "model.fit(X_train, y_train)\n",
    "y_pred = model.predict(X_test)\n",
    "y_pred_prob = model.predict_proba(X_test)"
   ]
  },
  {
   "cell_type": "code",
   "execution_count": 19,
   "id": "87c9ecff",
   "metadata": {},
   "outputs": [
    {
     "data": {
      "image/png": "[encoded data removed]",
      "text/plain": [
       "<Figure size 504x504 with 1 Axes>"
      ]
     },
     "metadata": {
      "needs_background": "light"
     },
     "output_type": "display_data"
    },
    {
     "name": "stdout",
     "output_type": "stream",
     "text": [
      "acc_score : 0.868\n",
      "recall_score : 0.577\n",
      "precision_score : 0.886\n",
      "f1_score : 0.699\n",
      "roc auc value : 0.901\n"
     ]
    },
    {
     "data": {
      "text/plain": [
       "(0.868, 0.699, 0.577, 0.886)"
      ]
     },
     "execution_count": 19,
     "metadata": {},
     "output_type": "execute_result"
    }
   ],
   "source": [
    "make_roc_curve(y_test, y_pred, y_pred_prob)"
   ]
  },
  {
   "cell_type": "code",
   "execution_count": null,
   "id": "cb21ce04",
   "metadata": {},
   "outputs": [],
   "source": []
  },
  {
   "cell_type": "code",
   "execution_count": null,
   "id": "da25f7bc",
   "metadata": {},
   "outputs": [],
   "source": []
  },
  {
   "cell_type": "code",
   "execution_count": null,
   "id": "43ac6f7a",
   "metadata": {},
   "outputs": [],
   "source": []
  }
 ],
 "metadata": {
  "kernelspec": {
   "display_name": "Python 3 (ipykernel)",
   "language": "python",
   "name": "python3"
  },
  "language_info": {
   "codemirror_mode": {
    "name": "ipython",
    "version": 3
   },
   "file_extension": ".py",
   "mimetype": "text/x-python",
   "name": "python",
   "nbconvert_exporter": "python",
   "pygments_lexer": "ipython3",
   "version": "3.8.11"
  },
  "toc": {
   "base_numbering": 1,
   "nav_menu": {},
   "number_sections": true,
   "sideBar": true,
   "skip_h1_title": false,
   "title_cell": "Table of Contents",
   "title_sidebar": "Contents",
   "toc_cell": false,
   "toc_position": {},
   "toc_section_display": true,
   "toc_window_display": false
  }
 },
 "nbformat": 4,
 "nbformat_minor": 5
}
